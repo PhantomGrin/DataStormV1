{
  "nbformat": 4,
  "nbformat_minor": 0,
  "metadata": {
    "colab": {
      "name": "DataStorm1.ipynb",
      "provenance": [],
      "collapsed_sections": [
        "IBR_mHCDrU6I"
      ],
      "toc_visible": true
    },
    "kernelspec": {
      "name": "python3",
      "display_name": "Python 3"
    },
    "accelerator": "GPU"
  },
  "cells": [
    {
      "cell_type": "markdown",
      "metadata": {
        "id": "s1HgG7xx5xOY",
        "colab_type": "text"
      },
      "source": [
        "# Setting up "
      ]
    },
    {
      "cell_type": "code",
      "metadata": {
        "id": "Ceqv0u-hQIsl",
        "colab_type": "code",
        "outputId": "278beb44-5d20-4d0b-ddff-e5fadb95234b",
        "colab": {
          "base_uri": "https://localhost:8080/",
          "height": 122
        }
      },
      "source": [
        "from google.colab import drive\n",
        "drive.mount('/content/drive')"
      ],
      "execution_count": 1,
      "outputs": [
        {
          "output_type": "stream",
          "text": [
            "Go to this URL in a browser: https://accounts.google.com/o/oauth2/auth?client_id=947318989803-6bn6qk8qdgf4n4g3pfee6491hc0brc4i.apps.googleusercontent.com&redirect_uri=urn%3aietf%3awg%3aoauth%3a2.0%3aoob&response_type=code&scope=email%20https%3a%2f%2fwww.googleapis.com%2fauth%2fdocs.test%20https%3a%2f%2fwww.googleapis.com%2fauth%2fdrive%20https%3a%2f%2fwww.googleapis.com%2fauth%2fdrive.photos.readonly%20https%3a%2f%2fwww.googleapis.com%2fauth%2fpeopleapi.readonly\n",
            "\n",
            "Enter your authorization code:\n",
            "··········\n",
            "Mounted at /content/drive\n"
          ],
          "name": "stdout"
        }
      ]
    },
    {
      "cell_type": "code",
      "metadata": {
        "id": "XJlvttfmTl5t",
        "colab_type": "code",
        "colab": {}
      },
      "source": [
        "# !ls\n",
        "# !mkdir drive/My\\ Drive/KaggleDataStorm"
      ],
      "execution_count": 0,
      "outputs": []
    },
    {
      "cell_type": "code",
      "metadata": {
        "id": "Sv7JdJraSWKZ",
        "colab_type": "code",
        "outputId": "65ef557e-479c-41ba-d7a1-dc8a5330de92",
        "colab": {
          "base_uri": "https://localhost:8080/",
          "height": 34
        }
      },
      "source": [
        "%cd drive/My\\ Drive/KaggleDataStorm"
      ],
      "execution_count": 2,
      "outputs": [
        {
          "output_type": "stream",
          "text": [
            "/content/drive/My Drive/KaggleDataStorm\n"
          ],
          "name": "stdout"
        }
      ]
    },
    {
      "cell_type": "code",
      "metadata": {
        "id": "U-zqtcdvSWWU",
        "colab_type": "code",
        "colab": {}
      },
      "source": [
        "# import os\n",
        "# os.environ['KAGGLE_USERNAME'] = \"ds1047\"\n",
        "# os.environ['KAGGLE_KEY'] = \"26ca78d45179f04387b81f35ba031660\"\n",
        "\n",
        "# !kaggle competitions download -c data-storm-10"
      ],
      "execution_count": 0,
      "outputs": []
    },
    {
      "cell_type": "markdown",
      "metadata": {
        "id": "OsE3CxiX6Br8",
        "colab_type": "text"
      },
      "source": [
        "# Import Libraries & Data"
      ]
    },
    {
      "cell_type": "code",
      "metadata": {
        "id": "dbG-ZAbRSWbv",
        "colab_type": "code",
        "colab": {}
      },
      "source": [
        "import pandas as pd\n",
        "import numpy as np\n",
        "import gc\n",
        "import matplotlib.pyplot as plt\n",
        "from matplotlib import mlab\n",
        "import seaborn as sns\n",
        "import warnings\n",
        "\n",
        "from sklearn.preprocessing import MinMaxScaler, StandardScaler\n",
        "from sklearn.ensemble import RandomForestClassifier\n",
        "from sklearn.model_selection import GridSearchCV\n",
        "from sklearn.model_selection import train_test_split\n",
        "from sklearn.metrics import f1_score\n",
        "\n",
        "import lightgbm as lgb\n",
        "import scipy.stats as stats\n",
        "\n",
        "from scipy.stats import pearsonr\n",
        "\n",
        "warnings.filterwarnings('ignore')\n",
        "%matplotlib inline"
      ],
      "execution_count": 0,
      "outputs": []
    },
    {
      "cell_type": "code",
      "metadata": {
        "id": "chbszg6ZEg5N",
        "colab_type": "code",
        "colab": {}
      },
      "source": [
        "train=pd.read_csv(\"credit_card_default_train.csv.zip\")\n",
        "test=pd.read_csv(\"credit_card_default_test.csv\")"
      ],
      "execution_count": 0,
      "outputs": []
    },
    {
      "cell_type": "markdown",
      "metadata": {
        "id": "XEvqnTBY767r",
        "colab_type": "text"
      },
      "source": [
        "## Utils"
      ]
    },
    {
      "cell_type": "code",
      "metadata": {
        "id": "QuxXZlrU1GSo",
        "colab_type": "code",
        "colab": {}
      },
      "source": [
        "def basic_describe(features, train=train):\n",
        "  \"\"\" return basic statistics of the the data\"\"\"\n",
        "  df = train[features].describe()\n",
        "  pd.options.display.float_format = '{:.2f}'.format\n",
        "  return df\n",
        "\n",
        "def calculate_pearson_correlation(train=train):\n",
        "  corr_array = []\n",
        "  for column in train.columns:\n",
        "    if column != 'NEXT_MONTH_DEFAULT':\n",
        "      data1 = train[column]\n",
        "      data2 = train['NEXT_MONTH_DEFAULT']\n",
        "      \n",
        "      # calculate Pearson's correlation\n",
        "      corr, _ = pearsonr(data1, data2)\n",
        "      corr_tup = (column, round(corr, 3))\n",
        "\n",
        "      corr_array.append(corr_tup)\n",
        "  return corr_array\n",
        "\n",
        "def plot_feature(data):\n",
        "  sns.set(style='darkgrid')\n",
        "  f, ax = plt.subplots(figsize=(6, 15))\n",
        "  sns.barplot(x=\"counts\", y=\"feature\", data=data.sort_values(by=['counts']),\n",
        "            label=\"Feature Important\", color=\"b\")\n",
        "  plt.show()"
      ],
      "execution_count": 0,
      "outputs": []
    },
    {
      "cell_type": "code",
      "metadata": {
        "id": "P4dC5DWxjOHD",
        "colab_type": "code",
        "colab": {}
      },
      "source": [
        "def ChiSquaredTestOfIndependence( df, inputVar, Outcome_Category ):\n",
        "    Outcome_Category_Table = df.groupby( Outcome_Category )[ Outcome_Category ].count().values\n",
        "    Outcome_Category_Ratios = Outcome_Category_Table / sum( Outcome_Category_Table )\n",
        "    possibleVals = df[inputVar].unique()\n",
        "    observed = []\n",
        "    expected = []\n",
        "    for possible in possibleVals:\n",
        "        countsInCategories = df[ df[ inputVar ] == possible ].groupby( Outcome_Category )[Outcome_Category].count().values\n",
        "        if( len(countsInCategories) != len( Outcome_Category_Ratios ) ):\n",
        "            print(\"Error! The class \" + str( possible) +\" of \\'\" + inputVar + \"\\' does not contain all values of \\'\" + Outcome_Category + \"\\'\" )\n",
        "            return\n",
        "        elif( min(countsInCategories) < 5 ):\n",
        "            print(\"Chi Squared Test needs at least 5 observations in each cell!\")\n",
        "            print( inputVar + \"=\" + str(possible) + \" has insufficient data\")\n",
        "            print( countsInCategories )\n",
        "            return\n",
        "        else:\n",
        "            observed.append( countsInCategories )   \n",
        "            expected.append( Outcome_Category_Ratios * len( df[df[ inputVar ] == possible ]))\n",
        "    observed = np.array( observed )\n",
        "    expected = np.array( expected )\n",
        "    chi_squared_stat = ((observed - expected)**2 / expected).sum().sum()\n",
        "    degOfF = (observed.shape[0] - 1 ) *(observed.shape[1] - 1 ) \n",
        "    p_value = 1 - stats.chi2.cdf(x=chi_squared_stat, df=degOfF)\n",
        "    print(\"Calculated test-statistic is %.2f\" % chi_squared_stat )\n",
        "    print(\"If \" + Outcome_Category + \" is indep of \" + inputVar + \", this has prob %.2e of occurring\" % p_value )"
      ],
      "execution_count": 0,
      "outputs": []
    },
    {
      "cell_type": "markdown",
      "metadata": {
        "id": "mJ9sH377GYta",
        "colab_type": "text"
      },
      "source": [
        "# Feature Engineering"
      ]
    },
    {
      "cell_type": "markdown",
      "metadata": {
        "id": "bM8jvO_wYZLz",
        "colab_type": "text"
      },
      "source": [
        "### Categorical Variable Preprocessing"
      ]
    },
    {
      "cell_type": "markdown",
      "metadata": {
        "id": "9AFrllPkDcc-",
        "colab_type": "text"
      },
      "source": [
        "#### load data"
      ]
    },
    {
      "cell_type": "code",
      "metadata": {
        "id": "5tuAKHNQTJeB",
        "colab_type": "code",
        "outputId": "f0c50953-66d8-4846-aaee-02acc4ce270e",
        "colab": {
          "base_uri": "https://localhost:8080/",
          "height": 34
        }
      },
      "source": [
        "train=pd.read_csv(\"credit_card_default_train.csv.zip\")\n",
        "test=pd.read_csv(\"credit_card_default_test.csv\")\n",
        "\n",
        "cat_features = ['Balance_Limit_V1', 'Gender', 'EDUCATION_STATUS', 'MARITAL_STATUS', 'AGE']\n",
        "due_features = ['DUE_AMT_JULY', 'DUE_AMT_AUG', 'DUE_AMT_SEP', 'DUE_AMT_OCT', 'DUE_AMT_NOV', 'DUE_AMT_DEC']\n",
        "paid_features = ['PAID_AMT_JULY', 'PAID_AMT_AUG', 'PAID_AMT_SEP', 'PAID_AMT_OCT', 'PAID_AMT_NOV', 'PAID_AMT_DEC']\n",
        "pay_int = ['PAY_JULY', 'PAY_AUG', 'PAY_SEP', 'PAY_OCT', 'PAY_NOV', 'PAY_DEC']\n",
        "\n",
        "train_test = pd.concat([train, test], axis=0)\n",
        "train_test.shape"
      ],
      "execution_count": 8,
      "outputs": [
        {
          "output_type": "execute_result",
          "data": {
            "text/plain": [
              "(30000, 25)"
            ]
          },
          "metadata": {
            "tags": []
          },
          "execution_count": 8
        }
      ]
    },
    {
      "cell_type": "code",
      "metadata": {
        "id": "LXnfKNlEjdOk",
        "colab_type": "code",
        "colab": {}
      },
      "source": [
        "# for feature in train_test.columns:\n",
        "#   if feature != 'NEXT_MONTH_DEFAULT':\n",
        "#     ChiSquaredTestOfIndependence(train, feature, 'NEXT_MONTH_DEFAULT')\n",
        "#     print(\"*********************************\")"
      ],
      "execution_count": 0,
      "outputs": []
    },
    {
      "cell_type": "markdown",
      "metadata": {
        "id": "2XnFL3TxWQIT",
        "colab_type": "text"
      },
      "source": [
        "#### Combine feature for month delayed"
      ]
    },
    {
      "cell_type": "code",
      "metadata": {
        "id": "OcAmcBhx705N",
        "colab_type": "code",
        "colab": {}
      },
      "source": [
        "for feature in pay_int:\n",
        "  train_test.loc[train_test[feature] <= 0,feature]=0\n",
        "\n",
        "train_test['delayed_months'] = train_test[pay_int].sum(axis=1)\n",
        "train_test['paid_mean'] = train_test[paid_features].mean(axis=1)\n",
        "train_test['due_mean'] = train_test[due_features].mean(axis=1)\n",
        "train_test['due_X_paid'] = train_test['due_mean'] * train_test['paid_mean']"
      ],
      "execution_count": 0,
      "outputs": []
    },
    {
      "cell_type": "code",
      "metadata": {
        "id": "jT-N69fEx-Kf",
        "colab_type": "code",
        "colab": {}
      },
      "source": [
        "months = ['JULY', 'AUG', 'SEP', 'OCT', 'NOV', 'DEC']\n",
        "due_paid = []\n",
        "\n",
        "for month in months:\n",
        "  train_test['DUE_PAID_'+month] = train_test['DUE_AMT_'+month] - train_test['PAID_AMT_'+month]\n",
        "  due_paid = due_paid + ['DUE_PAID_'+month]"
      ],
      "execution_count": 0,
      "outputs": []
    },
    {
      "cell_type": "markdown",
      "metadata": {
        "id": "jdlsF_aKWuMD",
        "colab_type": "text"
      },
      "source": [
        "#### Encoding Categorical Variables"
      ]
    },
    {
      "cell_type": "code",
      "metadata": {
        "id": "ZUi3OnjvMKTV",
        "colab_type": "code",
        "colab": {}
      },
      "source": [
        "train_test = pd.get_dummies(data=train_test, columns=cat_features, drop_first=False)"
      ],
      "execution_count": 0,
      "outputs": []
    },
    {
      "cell_type": "code",
      "metadata": {
        "id": "ZuC9ALgotdaG",
        "colab_type": "code",
        "outputId": "f7daa8d6-93cb-4a3d-889b-ead42c72dc52",
        "colab": {
          "base_uri": "https://localhost:8080/",
          "height": 34
        }
      },
      "source": [
        "drop_columns = ['MARITAL_STATUS_Other', 'Balance_Limit_V1_2.5M', 'Gender_F', 'EDUCATION_STATUS_High School', 'AGE_More than 65']\n",
        "train_test.drop(columns=drop_columns,inplace=True)\n",
        "train_test.shape"
      ],
      "execution_count": 14,
      "outputs": [
        {
          "output_type": "execute_result",
          "data": {
            "text/plain": [
              "(30000, 44)"
            ]
          },
          "metadata": {
            "tags": []
          },
          "execution_count": 14
        }
      ]
    },
    {
      "cell_type": "code",
      "metadata": {
        "id": "8ThHnw3tOI-W",
        "colab_type": "code",
        "outputId": "bf73a6d1-0e4f-4f3f-c940-4c14a106fc1a",
        "colab": {
          "base_uri": "https://localhost:8080/",
          "height": 51
        }
      },
      "source": [
        "train_processed = train_test[train_test['NEXT_MONTH_DEFAULT'].notna()]\n",
        "test_processed = train_test[train_test['NEXT_MONTH_DEFAULT'].isna()]\n",
        "\n",
        "print(\"Train shape: {}\".format(train_processed.shape))\n",
        "print(\"Test shape: {}\".format(test_processed.shape))"
      ],
      "execution_count": 15,
      "outputs": [
        {
          "output_type": "stream",
          "text": [
            "Train shape: (24000, 44)\n",
            "Test shape: (6000, 44)\n"
          ],
          "name": "stdout"
        }
      ]
    },
    {
      "cell_type": "markdown",
      "metadata": {
        "id": "ZBWHXnM2Ynw1",
        "colab_type": "text"
      },
      "source": [
        "### Continuous Variable Preprocessing"
      ]
    },
    {
      "cell_type": "code",
      "metadata": {
        "id": "g5VcvZ1a0Y6Y",
        "colab_type": "code",
        "colab": {}
      },
      "source": [
        "for month in due_paid+due_features+paid_features:\n",
        "  train_processed[month] = train_processed[month].apply(lambda x: np.log1p(x) if (x>0) else 0)\n",
        "  test_processed[month] = test_processed[month].apply(lambda x: np.log1p(x) if (x>0) else 0)"
      ],
      "execution_count": 0,
      "outputs": []
    },
    {
      "cell_type": "code",
      "metadata": {
        "id": "MFJPQ-VCRJCK",
        "colab_type": "code",
        "outputId": "3b8f7f3c-2c01-4489-d026-b8278bafeae7",
        "colab": {
          "base_uri": "https://localhost:8080/",
          "height": 577
        }
      },
      "source": [
        "display(basic_describe(due_paid, train_processed))\n",
        "display(basic_describe(due_paid, test_processed))"
      ],
      "execution_count": 20,
      "outputs": [
        {
          "output_type": "display_data",
          "data": {
            "text/html": [
              "<div>\n",
              "<style scoped>\n",
              "    .dataframe tbody tr th:only-of-type {\n",
              "        vertical-align: middle;\n",
              "    }\n",
              "\n",
              "    .dataframe tbody tr th {\n",
              "        vertical-align: top;\n",
              "    }\n",
              "\n",
              "    .dataframe thead th {\n",
              "        text-align: right;\n",
              "    }\n",
              "</style>\n",
              "<table border=\"1\" class=\"dataframe\">\n",
              "  <thead>\n",
              "    <tr style=\"text-align: right;\">\n",
              "      <th></th>\n",
              "      <th>DUE_PAID_JULY</th>\n",
              "      <th>DUE_PAID_AUG</th>\n",
              "      <th>DUE_PAID_SEP</th>\n",
              "      <th>DUE_PAID_OCT</th>\n",
              "      <th>DUE_PAID_NOV</th>\n",
              "      <th>DUE_PAID_DEC</th>\n",
              "    </tr>\n",
              "  </thead>\n",
              "  <tbody>\n",
              "    <tr>\n",
              "      <th>count</th>\n",
              "      <td>24000.00</td>\n",
              "      <td>24000.00</td>\n",
              "      <td>24000.00</td>\n",
              "      <td>24000.00</td>\n",
              "      <td>24000.00</td>\n",
              "      <td>24000.00</td>\n",
              "    </tr>\n",
              "    <tr>\n",
              "      <th>mean</th>\n",
              "      <td>0.97</td>\n",
              "      <td>0.95</td>\n",
              "      <td>0.95</td>\n",
              "      <td>0.94</td>\n",
              "      <td>0.92</td>\n",
              "      <td>0.89</td>\n",
              "    </tr>\n",
              "    <tr>\n",
              "      <th>std</th>\n",
              "      <td>0.51</td>\n",
              "      <td>0.53</td>\n",
              "      <td>0.53</td>\n",
              "      <td>0.53</td>\n",
              "      <td>0.54</td>\n",
              "      <td>0.56</td>\n",
              "    </tr>\n",
              "    <tr>\n",
              "      <th>min</th>\n",
              "      <td>0.00</td>\n",
              "      <td>0.00</td>\n",
              "      <td>0.00</td>\n",
              "      <td>0.00</td>\n",
              "      <td>0.00</td>\n",
              "      <td>0.00</td>\n",
              "    </tr>\n",
              "    <tr>\n",
              "      <th>25%</th>\n",
              "      <td>1.14</td>\n",
              "      <td>1.11</td>\n",
              "      <td>1.11</td>\n",
              "      <td>1.10</td>\n",
              "      <td>0.00</td>\n",
              "      <td>0.00</td>\n",
              "    </tr>\n",
              "    <tr>\n",
              "      <th>50%</th>\n",
              "      <td>1.24</td>\n",
              "      <td>1.24</td>\n",
              "      <td>1.24</td>\n",
              "      <td>1.24</td>\n",
              "      <td>1.24</td>\n",
              "      <td>1.23</td>\n",
              "    </tr>\n",
              "    <tr>\n",
              "      <th>75%</th>\n",
              "      <td>1.27</td>\n",
              "      <td>1.27</td>\n",
              "      <td>1.27</td>\n",
              "      <td>1.26</td>\n",
              "      <td>1.26</td>\n",
              "      <td>1.26</td>\n",
              "    </tr>\n",
              "    <tr>\n",
              "      <th>max</th>\n",
              "      <td>1.32</td>\n",
              "      <td>1.32</td>\n",
              "      <td>1.33</td>\n",
              "      <td>1.32</td>\n",
              "      <td>1.32</td>\n",
              "      <td>1.32</td>\n",
              "    </tr>\n",
              "  </tbody>\n",
              "</table>\n",
              "</div>"
            ],
            "text/plain": [
              "       DUE_PAID_JULY  DUE_PAID_AUG  ...  DUE_PAID_NOV  DUE_PAID_DEC\n",
              "count       24000.00      24000.00  ...      24000.00      24000.00\n",
              "mean            0.97          0.95  ...          0.92          0.89\n",
              "std             0.51          0.53  ...          0.54          0.56\n",
              "min             0.00          0.00  ...          0.00          0.00\n",
              "25%             1.14          1.11  ...          0.00          0.00\n",
              "50%             1.24          1.24  ...          1.24          1.23\n",
              "75%             1.27          1.27  ...          1.26          1.26\n",
              "max             1.32          1.32  ...          1.32          1.32\n",
              "\n",
              "[8 rows x 6 columns]"
            ]
          },
          "metadata": {
            "tags": []
          }
        },
        {
          "output_type": "display_data",
          "data": {
            "text/html": [
              "<div>\n",
              "<style scoped>\n",
              "    .dataframe tbody tr th:only-of-type {\n",
              "        vertical-align: middle;\n",
              "    }\n",
              "\n",
              "    .dataframe tbody tr th {\n",
              "        vertical-align: top;\n",
              "    }\n",
              "\n",
              "    .dataframe thead th {\n",
              "        text-align: right;\n",
              "    }\n",
              "</style>\n",
              "<table border=\"1\" class=\"dataframe\">\n",
              "  <thead>\n",
              "    <tr style=\"text-align: right;\">\n",
              "      <th></th>\n",
              "      <th>DUE_PAID_JULY</th>\n",
              "      <th>DUE_PAID_AUG</th>\n",
              "      <th>DUE_PAID_SEP</th>\n",
              "      <th>DUE_PAID_OCT</th>\n",
              "      <th>DUE_PAID_NOV</th>\n",
              "      <th>DUE_PAID_DEC</th>\n",
              "    </tr>\n",
              "  </thead>\n",
              "  <tbody>\n",
              "    <tr>\n",
              "      <th>count</th>\n",
              "      <td>6000.00</td>\n",
              "      <td>6000.00</td>\n",
              "      <td>6000.00</td>\n",
              "      <td>6000.00</td>\n",
              "      <td>6000.00</td>\n",
              "      <td>6000.00</td>\n",
              "    </tr>\n",
              "    <tr>\n",
              "      <th>mean</th>\n",
              "      <td>0.98</td>\n",
              "      <td>0.95</td>\n",
              "      <td>0.94</td>\n",
              "      <td>0.94</td>\n",
              "      <td>0.91</td>\n",
              "      <td>0.90</td>\n",
              "    </tr>\n",
              "    <tr>\n",
              "      <th>std</th>\n",
              "      <td>0.51</td>\n",
              "      <td>0.53</td>\n",
              "      <td>0.54</td>\n",
              "      <td>0.53</td>\n",
              "      <td>0.55</td>\n",
              "      <td>0.56</td>\n",
              "    </tr>\n",
              "    <tr>\n",
              "      <th>min</th>\n",
              "      <td>0.00</td>\n",
              "      <td>0.00</td>\n",
              "      <td>0.00</td>\n",
              "      <td>0.00</td>\n",
              "      <td>0.00</td>\n",
              "      <td>0.00</td>\n",
              "    </tr>\n",
              "    <tr>\n",
              "      <th>25%</th>\n",
              "      <td>1.14</td>\n",
              "      <td>1.09</td>\n",
              "      <td>1.07</td>\n",
              "      <td>1.08</td>\n",
              "      <td>0.00</td>\n",
              "      <td>0.00</td>\n",
              "    </tr>\n",
              "    <tr>\n",
              "      <th>50%</th>\n",
              "      <td>1.24</td>\n",
              "      <td>1.24</td>\n",
              "      <td>1.24</td>\n",
              "      <td>1.24</td>\n",
              "      <td>1.24</td>\n",
              "      <td>1.23</td>\n",
              "    </tr>\n",
              "    <tr>\n",
              "      <th>75%</th>\n",
              "      <td>1.27</td>\n",
              "      <td>1.27</td>\n",
              "      <td>1.27</td>\n",
              "      <td>1.26</td>\n",
              "      <td>1.26</td>\n",
              "      <td>1.26</td>\n",
              "    </tr>\n",
              "    <tr>\n",
              "      <th>max</th>\n",
              "      <td>1.31</td>\n",
              "      <td>1.31</td>\n",
              "      <td>1.31</td>\n",
              "      <td>1.31</td>\n",
              "      <td>1.31</td>\n",
              "      <td>1.31</td>\n",
              "    </tr>\n",
              "  </tbody>\n",
              "</table>\n",
              "</div>"
            ],
            "text/plain": [
              "       DUE_PAID_JULY  DUE_PAID_AUG  ...  DUE_PAID_NOV  DUE_PAID_DEC\n",
              "count        6000.00       6000.00  ...       6000.00       6000.00\n",
              "mean            0.98          0.95  ...          0.91          0.90\n",
              "std             0.51          0.53  ...          0.55          0.56\n",
              "min             0.00          0.00  ...          0.00          0.00\n",
              "25%             1.14          1.09  ...          0.00          0.00\n",
              "50%             1.24          1.24  ...          1.24          1.23\n",
              "75%             1.27          1.27  ...          1.26          1.26\n",
              "max             1.31          1.31  ...          1.31          1.31\n",
              "\n",
              "[8 rows x 6 columns]"
            ]
          },
          "metadata": {
            "tags": []
          }
        }
      ]
    },
    {
      "cell_type": "markdown",
      "metadata": {
        "id": "Vm8jl51xNTtb",
        "colab_type": "text"
      },
      "source": [
        "# Modelling"
      ]
    },
    {
      "cell_type": "code",
      "metadata": {
        "id": "4U_qkxIfJokE",
        "colab_type": "code",
        "outputId": "42a41fce-ec31-4092-8ca0-6f81a600688b",
        "colab": {
          "base_uri": "https://localhost:8080/",
          "height": 54
        }
      },
      "source": [
        "drop_features = pay_int + ['Client_ID'] +due_features+paid_features\n",
        "\n",
        "train_processed.drop(columns=drop_features,inplace=True)\n",
        "\n",
        "X=train_processed.drop(columns='NEXT_MONTH_DEFAULT')\n",
        "y=train_processed['NEXT_MONTH_DEFAULT'].astype(\"int32\")\n",
        "\n",
        "X_train,X_test,y_train,y_test=train_test_split(X,y, test_size=0.2, shuffle=True,stratify=y, random_state=10)\n",
        "print(\"Dropped Features : {}\".format(drop_features))"
      ],
      "execution_count": 32,
      "outputs": [
        {
          "output_type": "stream",
          "text": [
            "Dropped Features : ['DUE_AMT_JULY', 'DUE_AMT_AUG', 'DUE_AMT_SEP', 'DUE_AMT_OCT', 'DUE_AMT_NOV', 'DUE_AMT_DEC', 'PAID_AMT_JULY', 'PAID_AMT_AUG', 'PAID_AMT_SEP', 'PAID_AMT_OCT', 'PAID_AMT_NOV', 'PAID_AMT_DEC']\n"
          ],
          "name": "stdout"
        }
      ]
    },
    {
      "cell_type": "code",
      "metadata": {
        "id": "dBr3QuwavJrZ",
        "colab_type": "code",
        "outputId": "495956c7-7978-4cb7-c622-6041593dd243",
        "colab": {
          "base_uri": "https://localhost:8080/",
          "height": 34
        }
      },
      "source": [
        "train_processed.shape"
      ],
      "execution_count": 22,
      "outputs": [
        {
          "output_type": "execute_result",
          "data": {
            "text/plain": [
              "(24000, 37)"
            ]
          },
          "metadata": {
            "tags": []
          },
          "execution_count": 22
        }
      ]
    },
    {
      "cell_type": "code",
      "metadata": {
        "id": "DgZXBEN5Jhm-",
        "colab_type": "code",
        "colab": {}
      },
      "source": [
        "# from imblearn.over_sampling import SMOTE, ADASYN\n",
        "\n",
        "# X_resampled, y_resampled = SMOTE().fit_resample(X_train, y_train)\n",
        "# X_train,X_val,y_train,y_val=train_test_split(X_resampled,y_resampled, test_size=0.2, shuffle=True,stratify=y_resampled, random_state=10)"
      ],
      "execution_count": 0,
      "outputs": []
    },
    {
      "cell_type": "markdown",
      "metadata": {
        "id": "IBR_mHCDrU6I",
        "colab_type": "text"
      },
      "source": [
        "### Base: Random Forest Classifier"
      ]
    },
    {
      "cell_type": "code",
      "metadata": {
        "id": "L_MZqBA_P3HZ",
        "colab_type": "code",
        "outputId": "4692ecc4-f528-430a-d9a4-76929816cbd9",
        "colab": {
          "base_uri": "https://localhost:8080/",
          "height": 85
        }
      },
      "source": [
        "n_estimators = [100,200, 250, 300,500]\n",
        "max_depth = [5, 8, 9, 15, 25]\n",
        "max_features = [\"sqrt\", \"log2\"]\n",
        "criterion = [\"gini\", \"entropy\"]\n",
        "\n",
        "param_dict = {'n_estimators':n_estimators, 'max_depth':max_depth, \"max_features\":max_features, \"criterion\":criterion}\n",
        "\n",
        "forest = RandomForestClassifier(random_state=1)\n",
        "grid = GridSearchCV(forest, param_grid=param_dict, cv=5, verbose=1, n_jobs=-1)\n",
        "best_forest = grid.fit(X_train,y_train)"
      ],
      "execution_count": 0,
      "outputs": [
        {
          "output_type": "stream",
          "text": [
            "Fitting 5 folds for each of 100 candidates, totalling 500 fits\n"
          ],
          "name": "stdout"
        },
        {
          "output_type": "stream",
          "text": [
            "[Parallel(n_jobs=-1)]: Using backend LokyBackend with 2 concurrent workers.\n",
            "[Parallel(n_jobs=-1)]: Done  46 tasks      | elapsed:  2.6min\n",
            "[Parallel(n_jobs=-1)]: Done 196 tasks      | elapsed: 16.3min\n"
          ],
          "name": "stderr"
        }
      ]
    },
    {
      "cell_type": "code",
      "metadata": {
        "id": "DXoe-jWCdSSN",
        "colab_type": "code",
        "outputId": "46b1d368-810f-42b9-96fa-0bfeee66dd6d",
        "colab": {
          "base_uri": "https://localhost:8080/",
          "height": 68
        }
      },
      "source": [
        "y_pred_rf = best_forest.best_estimator_.predict(X_test)\n",
        "print(\"Micro F1: {:.4f}\".format(f1_score(y_test, y_pred_rf, average='micro')))\n",
        "print(\"Macro F1: {:.4f}\".format(f1_score(y_test, y_pred_rf, average='macro')))\n",
        "print(\"Weighted F1: {:.4f}\".format(f1_score(y_test, y_pred_rf, average='weighted')))"
      ],
      "execution_count": 0,
      "outputs": [
        {
          "output_type": "stream",
          "text": [
            "Micro F1: 0.8083\n",
            "Macro F1: 0.6475\n",
            "Weighted F1: 0.7799\n"
          ],
          "name": "stdout"
        }
      ]
    },
    {
      "cell_type": "markdown",
      "metadata": {
        "id": "xFaFcgUCr6hF",
        "colab_type": "text"
      },
      "source": [
        "### LightGBM"
      ]
    },
    {
      "cell_type": "code",
      "metadata": {
        "id": "1BhHJ6ISej3J",
        "colab_type": "code",
        "outputId": "b68f0c09-664a-4347-dd5e-ca4b11ae1bf6",
        "colab": {
          "base_uri": "https://localhost:8080/",
          "height": 697
        }
      },
      "source": [
        "params = {'boosting_type': 'gbdt',\n",
        "          'max_depth' : -1,\n",
        "          'objective': 'binary',\n",
        "          'nthread': 5,\n",
        "          'num_leaves': 64,\n",
        "          'learning_rate': 0.07,\n",
        "          'max_bin': 512,\n",
        "          'subsample_for_bin': 200,\n",
        "          'subsample': 1,\n",
        "          'subsample_freq': 1,\n",
        "          'colsample_bytree': 0.8,\n",
        "          'reg_alpha': 1.2,\n",
        "          'reg_lambda': 1.2,\n",
        "          'min_split_gain': 0.5,\n",
        "          'min_child_weight': 1,\n",
        "          'min_child_samples': 5,\n",
        "          'scale_pos_weight': 1,\n",
        "          'num_class' : 1,\n",
        "          'metric' : 'binary_error'\n",
        "          }\n",
        "\n",
        "grid_param = {\"learning_rate\": [0.07, 0.05, 0.01],\n",
        "         \"n_estimators\" : [8, 16, 32, 64],\n",
        "         \"num_leaves\" : [20, 24, 27],\n",
        "         \"lambda_l2\" : [1.2, 1.5, 1],\n",
        "         \"colsample_bytree\" : [0.7, 0.64, 0.67],\n",
        "         \"bagging_fraction\" : [0.7, 0.64, 0.67] \n",
        "         }\n",
        "    \n",
        "model = lgb.LGBMClassifier(boosting_type='gbdt',\n",
        "                           objective = \"binary\",\n",
        "                           metric = 'binary',\n",
        "                           n_jobs=-1,\n",
        "                           silent=True,\n",
        "                           max_depth = params['max_depth'],\n",
        "                           max_bin = params['max_bin'],\n",
        "                           subsample_for_bin = params['subsample_for_bin'],\n",
        "                           subsample = params['subsample'],\n",
        "                           subsample_freq = params['subsample_freq'],\n",
        "                           min_split_gain = params['min_split_gain'],\n",
        "                           min_child_weight = params['min_child_weight'],\n",
        "                           min_child_samples = params['min_child_samples'],\n",
        "                           scale_pos_weight = params['scale_pos_weight']\n",
        "                           )\n",
        "\n",
        "grid = GridSearchCV(model, grid_param, verbose=2, cv=20, n_jobs=-1)\n",
        "grid.fit(X_train, y_train)"
      ],
      "execution_count": 33,
      "outputs": [
        {
          "output_type": "stream",
          "text": [
            "Fitting 20 folds for each of 972 candidates, totalling 19440 fits\n"
          ],
          "name": "stdout"
        },
        {
          "output_type": "stream",
          "text": [
            "[Parallel(n_jobs=-1)]: Using backend LokyBackend with 2 concurrent workers.\n",
            "[Parallel(n_jobs=-1)]: Done  50 tasks      | elapsed:    3.3s\n",
            "[Parallel(n_jobs=-1)]: Done 292 tasks      | elapsed:   22.9s\n",
            "[Parallel(n_jobs=-1)]: Done 698 tasks      | elapsed:   57.2s\n",
            "[Parallel(n_jobs=-1)]: Done 1264 tasks      | elapsed:  1.7min\n",
            "[Parallel(n_jobs=-1)]: Done 1994 tasks      | elapsed:  2.7min\n",
            "[Parallel(n_jobs=-1)]: Done 2884 tasks      | elapsed:  4.0min\n",
            "[Parallel(n_jobs=-1)]: Done 3938 tasks      | elapsed:  5.4min\n",
            "[Parallel(n_jobs=-1)]: Done 5152 tasks      | elapsed:  7.1min\n",
            "[Parallel(n_jobs=-1)]: Done 6530 tasks      | elapsed:  9.1min\n",
            "[Parallel(n_jobs=-1)]: Done 8068 tasks      | elapsed: 11.2min\n",
            "[Parallel(n_jobs=-1)]: Done 9770 tasks      | elapsed: 13.5min\n",
            "[Parallel(n_jobs=-1)]: Done 11632 tasks      | elapsed: 16.1min\n",
            "[Parallel(n_jobs=-1)]: Done 13658 tasks      | elapsed: 18.9min\n",
            "[Parallel(n_jobs=-1)]: Done 15844 tasks      | elapsed: 21.9min\n",
            "[Parallel(n_jobs=-1)]: Done 18194 tasks      | elapsed: 25.0min\n",
            "[Parallel(n_jobs=-1)]: Done 19440 out of 19440 | elapsed: 26.8min finished\n"
          ],
          "name": "stderr"
        },
        {
          "output_type": "execute_result",
          "data": {
            "text/plain": [
              "GridSearchCV(cv=20, error_score=nan,\n",
              "             estimator=LGBMClassifier(boosting_type='gbdt', class_weight=None,\n",
              "                                      colsample_bytree=1.0,\n",
              "                                      importance_type='split',\n",
              "                                      learning_rate=0.1, max_bin=512,\n",
              "                                      max_depth=-1, metric='binary',\n",
              "                                      min_child_samples=5, min_child_weight=1,\n",
              "                                      min_split_gain=0.5, n_estimators=100,\n",
              "                                      n_jobs=-1, num_leaves=31,\n",
              "                                      objective='binary', random_state=None,\n",
              "                                      reg_alpha=0...\n",
              "                                      subsample=1, subsample_for_bin=200,\n",
              "                                      subsample_freq=1),\n",
              "             iid='deprecated', n_jobs=-1,\n",
              "             param_grid={'bagging_fraction': [0.7, 0.64, 0.67],\n",
              "                         'colsample_bytree': [0.7, 0.64, 0.67],\n",
              "                         'lambda_l2': [1.2, 1.5, 1],\n",
              "                         'learning_rate': [0.07, 0.05, 0.01],\n",
              "                         'n_estimators': [8, 16, 32, 64],\n",
              "                         'num_leaves': [20, 24, 27]},\n",
              "             pre_dispatch='2*n_jobs', refit=True, return_train_score=False,\n",
              "             scoring=None, verbose=2)"
            ]
          },
          "metadata": {
            "tags": []
          },
          "execution_count": 33
        }
      ]
    },
    {
      "cell_type": "code",
      "metadata": {
        "id": "pitTGhxmMIPx",
        "colab_type": "code",
        "outputId": "dbe0ed73-3d97-4136-cee8-cf9a38477ddd",
        "colab": {
          "base_uri": "https://localhost:8080/",
          "height": 68
        }
      },
      "source": [
        "y_pred_lgbm = grid.best_estimator_.predict(X_test)\n",
        "\n",
        "print(\"Micro F1: {:.4f}\".format(f1_score(y_test, y_pred_lgbm, average='micro')))\n",
        "print(\"Macro F1: {:.4f}\".format(f1_score(y_test, y_pred_lgbm, average='macro')))\n",
        "print(\"Weighted F1: {:.4f}\".format(f1_score(y_test, y_pred_lgbm, average='weighted')))"
      ],
      "execution_count": 35,
      "outputs": [
        {
          "output_type": "stream",
          "text": [
            "Micro F1: 0.8117\n",
            "Macro F1: 0.6544\n",
            "Weighted F1: 0.7840\n"
          ],
          "name": "stdout"
        }
      ]
    },
    {
      "cell_type": "code",
      "metadata": {
        "id": "ERsxrZozphUY",
        "colab_type": "code",
        "outputId": "7d424228-57a3-448f-dfab-43bb39701951",
        "colab": {
          "base_uri": "https://localhost:8080/",
          "height": 883
        }
      },
      "source": [
        "data=pd.DataFrame({\"feature\":X_train.columns,\"counts\":grid.best_estimator_.feature_importances_},columns=[\"feature\",\"counts\"])\n",
        "plot_feature(data)"
      ],
      "execution_count": 48,
      "outputs": [
        {
          "output_type": "display_data",
          "data": {
            "image/png": "[encoded data removed]",
            "text/plain": [
              "<Figure size 432x1080 with 1 Axes>"
            ]
          },
          "metadata": {
            "tags": []
          }
        }
      ]
    },
    {
      "cell_type": "code",
      "metadata": {
        "id": "9E-SWwkH7Tso",
        "colab_type": "code",
        "outputId": "385c8eed-1e20-42f5-93fa-3510f23b642e",
        "colab": {
          "base_uri": "https://localhost:8080/",
          "height": 793
        }
      },
      "source": [
        "data = data.sort_values('counts', ascending=False)\n",
        "display(data)"
      ],
      "execution_count": 49,
      "outputs": [
        {
          "output_type": "display_data",
          "data": {
            "text/html": [
              "<div>\n",
              "<style scoped>\n",
              "    .dataframe tbody tr th:only-of-type {\n",
              "        vertical-align: middle;\n",
              "    }\n",
              "\n",
              "    .dataframe tbody tr th {\n",
              "        vertical-align: top;\n",
              "    }\n",
              "\n",
              "    .dataframe thead th {\n",
              "        text-align: right;\n",
              "    }\n",
              "</style>\n",
              "<table border=\"1\" class=\"dataframe\">\n",
              "  <thead>\n",
              "    <tr style=\"text-align: right;\">\n",
              "      <th></th>\n",
              "      <th>feature</th>\n",
              "      <th>counts</th>\n",
              "    </tr>\n",
              "  </thead>\n",
              "  <tbody>\n",
              "    <tr>\n",
              "      <th>1</th>\n",
              "      <td>paid_mean</td>\n",
              "      <td>201</td>\n",
              "    </tr>\n",
              "    <tr>\n",
              "      <th>4</th>\n",
              "      <td>DUE_PAID_JULY</td>\n",
              "      <td>141</td>\n",
              "    </tr>\n",
              "    <tr>\n",
              "      <th>0</th>\n",
              "      <td>delayed_months</td>\n",
              "      <td>140</td>\n",
              "    </tr>\n",
              "    <tr>\n",
              "      <th>3</th>\n",
              "      <td>due_X_paid</td>\n",
              "      <td>126</td>\n",
              "    </tr>\n",
              "    <tr>\n",
              "      <th>5</th>\n",
              "      <td>DUE_PAID_AUG</td>\n",
              "      <td>126</td>\n",
              "    </tr>\n",
              "    <tr>\n",
              "      <th>6</th>\n",
              "      <td>DUE_PAID_SEP</td>\n",
              "      <td>111</td>\n",
              "    </tr>\n",
              "    <tr>\n",
              "      <th>2</th>\n",
              "      <td>due_mean</td>\n",
              "      <td>109</td>\n",
              "    </tr>\n",
              "    <tr>\n",
              "      <th>9</th>\n",
              "      <td>DUE_PAID_DEC</td>\n",
              "      <td>103</td>\n",
              "    </tr>\n",
              "    <tr>\n",
              "      <th>7</th>\n",
              "      <td>DUE_PAID_OCT</td>\n",
              "      <td>97</td>\n",
              "    </tr>\n",
              "    <tr>\n",
              "      <th>8</th>\n",
              "      <td>DUE_PAID_NOV</td>\n",
              "      <td>91</td>\n",
              "    </tr>\n",
              "    <tr>\n",
              "      <th>17</th>\n",
              "      <td>Gender_M</td>\n",
              "      <td>37</td>\n",
              "    </tr>\n",
              "    <tr>\n",
              "      <th>13</th>\n",
              "      <td>Balance_Limit_V1_1M</td>\n",
              "      <td>30</td>\n",
              "    </tr>\n",
              "    <tr>\n",
              "      <th>14</th>\n",
              "      <td>Balance_Limit_V1_200K</td>\n",
              "      <td>26</td>\n",
              "    </tr>\n",
              "    <tr>\n",
              "      <th>20</th>\n",
              "      <td>MARITAL_STATUS_Single</td>\n",
              "      <td>23</td>\n",
              "    </tr>\n",
              "    <tr>\n",
              "      <th>12</th>\n",
              "      <td>Balance_Limit_V1_100K</td>\n",
              "      <td>23</td>\n",
              "    </tr>\n",
              "    <tr>\n",
              "      <th>18</th>\n",
              "      <td>EDUCATION_STATUS_Graduate</td>\n",
              "      <td>21</td>\n",
              "    </tr>\n",
              "    <tr>\n",
              "      <th>11</th>\n",
              "      <td>Balance_Limit_V1_1.5M</td>\n",
              "      <td>13</td>\n",
              "    </tr>\n",
              "    <tr>\n",
              "      <th>10</th>\n",
              "      <td>Balance_Limit_V1_ 500K</td>\n",
              "      <td>13</td>\n",
              "    </tr>\n",
              "    <tr>\n",
              "      <th>22</th>\n",
              "      <td>AGE_46-65</td>\n",
              "      <td>12</td>\n",
              "    </tr>\n",
              "    <tr>\n",
              "      <th>16</th>\n",
              "      <td>Balance_Limit_V1_400K</td>\n",
              "      <td>11</td>\n",
              "    </tr>\n",
              "    <tr>\n",
              "      <th>15</th>\n",
              "      <td>Balance_Limit_V1_300K</td>\n",
              "      <td>7</td>\n",
              "    </tr>\n",
              "    <tr>\n",
              "      <th>23</th>\n",
              "      <td>AGE_Less than 30</td>\n",
              "      <td>7</td>\n",
              "    </tr>\n",
              "    <tr>\n",
              "      <th>19</th>\n",
              "      <td>EDUCATION_STATUS_Other</td>\n",
              "      <td>4</td>\n",
              "    </tr>\n",
              "    <tr>\n",
              "      <th>21</th>\n",
              "      <td>AGE_31-45</td>\n",
              "      <td>0</td>\n",
              "    </tr>\n",
              "  </tbody>\n",
              "</table>\n",
              "</div>"
            ],
            "text/plain": [
              "                      feature  counts\n",
              "1                   paid_mean     201\n",
              "4               DUE_PAID_JULY     141\n",
              "0              delayed_months     140\n",
              "3                  due_X_paid     126\n",
              "5                DUE_PAID_AUG     126\n",
              "6                DUE_PAID_SEP     111\n",
              "2                    due_mean     109\n",
              "9                DUE_PAID_DEC     103\n",
              "7                DUE_PAID_OCT      97\n",
              "8                DUE_PAID_NOV      91\n",
              "17                   Gender_M      37\n",
              "13        Balance_Limit_V1_1M      30\n",
              "14      Balance_Limit_V1_200K      26\n",
              "20      MARITAL_STATUS_Single      23\n",
              "12      Balance_Limit_V1_100K      23\n",
              "18  EDUCATION_STATUS_Graduate      21\n",
              "11      Balance_Limit_V1_1.5M      13\n",
              "10     Balance_Limit_V1_ 500K      13\n",
              "22                  AGE_46-65      12\n",
              "16      Balance_Limit_V1_400K      11\n",
              "15      Balance_Limit_V1_300K       7\n",
              "23           AGE_Less than 30       7\n",
              "19     EDUCATION_STATUS_Other       4\n",
              "21                  AGE_31-45       0"
            ]
          },
          "metadata": {
            "tags": []
          }
        }
      ]
    },
    {
      "cell_type": "code",
      "metadata": {
        "id": "hMZrK6Nx-Cu3",
        "colab_type": "code",
        "colab": {}
      },
      "source": [
        "imp_features = data.head(10).feature\n",
        "imp_features = imp_features.to_numpy()\n",
        "\n",
        "X_train_best = X_train[imp_features]\n",
        "X_test_best = X_test[imp_features]"
      ],
      "execution_count": 0,
      "outputs": []
    },
    {
      "cell_type": "code",
      "metadata": {
        "id": "uoLBnyLD_pEB",
        "colab_type": "code",
        "outputId": "ebd2d044-d6f8-4bc1-aa20-b340945cf811",
        "colab": {
          "base_uri": "https://localhost:8080/",
          "height": 714
        }
      },
      "source": [
        "grid.fit(X_train_best, y_train)"
      ],
      "execution_count": 51,
      "outputs": [
        {
          "output_type": "stream",
          "text": [
            "Fitting 20 folds for each of 972 candidates, totalling 19440 fits\n"
          ],
          "name": "stdout"
        },
        {
          "output_type": "stream",
          "text": [
            "[Parallel(n_jobs=-1)]: Using backend LokyBackend with 2 concurrent workers.\n",
            "[Parallel(n_jobs=-1)]: Done  52 tasks      | elapsed:    3.3s\n",
            "[Parallel(n_jobs=-1)]: Done 294 tasks      | elapsed:   20.7s\n",
            "[Parallel(n_jobs=-1)]: Done 700 tasks      | elapsed:   51.2s\n",
            "[Parallel(n_jobs=-1)]: Done 1266 tasks      | elapsed:  1.5min\n",
            "[Parallel(n_jobs=-1)]: Done 1996 tasks      | elapsed:  2.4min\n",
            "[Parallel(n_jobs=-1)]: Done 2886 tasks      | elapsed:  3.4min\n",
            "[Parallel(n_jobs=-1)]: Done 3940 tasks      | elapsed:  4.5min\n",
            "[Parallel(n_jobs=-1)]: Done 5154 tasks      | elapsed:  5.9min\n",
            "[Parallel(n_jobs=-1)]: Done 6532 tasks      | elapsed:  7.4min\n",
            "[Parallel(n_jobs=-1)]: Done 8070 tasks      | elapsed:  9.1min\n",
            "[Parallel(n_jobs=-1)]: Done 9772 tasks      | elapsed: 10.9min\n",
            "[Parallel(n_jobs=-1)]: Done 11634 tasks      | elapsed: 13.0min\n",
            "[Parallel(n_jobs=-1)]: Done 13660 tasks      | elapsed: 15.2min\n",
            "[Parallel(n_jobs=-1)]: Done 15846 tasks      | elapsed: 17.6min\n",
            "[Parallel(n_jobs=-1)]: Done 18196 tasks      | elapsed: 20.1min\n",
            "[Parallel(n_jobs=-1)]: Done 19437 out of 19440 | elapsed: 21.5min remaining:    0.2s\n",
            "[Parallel(n_jobs=-1)]: Done 19440 out of 19440 | elapsed: 21.5min finished\n"
          ],
          "name": "stderr"
        },
        {
          "output_type": "execute_result",
          "data": {
            "text/plain": [
              "GridSearchCV(cv=20, error_score=nan,\n",
              "             estimator=LGBMClassifier(boosting_type='gbdt', class_weight=None,\n",
              "                                      colsample_bytree=1.0,\n",
              "                                      importance_type='split',\n",
              "                                      learning_rate=0.1, max_bin=512,\n",
              "                                      max_depth=-1, metric='binary',\n",
              "                                      min_child_samples=5, min_child_weight=1,\n",
              "                                      min_split_gain=0.5, n_estimators=100,\n",
              "                                      n_jobs=-1, num_leaves=31,\n",
              "                                      objective='binary', random_state=None,\n",
              "                                      reg_alpha=0...\n",
              "                                      subsample=1, subsample_for_bin=200,\n",
              "                                      subsample_freq=1),\n",
              "             iid='deprecated', n_jobs=-1,\n",
              "             param_grid={'bagging_fraction': [0.7, 0.64, 0.67],\n",
              "                         'colsample_bytree': [0.7, 0.64, 0.67],\n",
              "                         'lambda_l2': [1.2, 1.5, 1],\n",
              "                         'learning_rate': [0.07, 0.05, 0.01],\n",
              "                         'n_estimators': [8, 16, 32, 64],\n",
              "                         'num_leaves': [20, 24, 27]},\n",
              "             pre_dispatch='2*n_jobs', refit=True, return_train_score=False,\n",
              "             scoring=None, verbose=2)"
            ]
          },
          "metadata": {
            "tags": []
          },
          "execution_count": 51
        }
      ]
    },
    {
      "cell_type": "code",
      "metadata": {
        "id": "Ap7mWwHsIdZA",
        "colab_type": "code",
        "colab": {
          "base_uri": "https://localhost:8080/",
          "height": 68
        },
        "outputId": "f227e6c8-0e3d-4739-9e95-3e84db676399"
      },
      "source": [
        "y_pred_lgbm_best = grid.best_estimator_.predict(X_test_best)\n",
        "\n",
        "print(\"Micro F1: {:.4f}\".format(f1_score(y_test, y_pred_lgbm_best, average='micro')))\n",
        "print(\"Macro F1: {:.4f}\".format(f1_score(y_test, y_pred_lgbm_best, average='macro')))\n",
        "print(\"Weighted F1: {:.4f}\".format(f1_score(y_test, y_pred_lgbm_best, average='weighted')))"
      ],
      "execution_count": 52,
      "outputs": [
        {
          "output_type": "stream",
          "text": [
            "Micro F1: 0.8117\n",
            "Macro F1: 0.6482\n",
            "Weighted F1: 0.7815\n"
          ],
          "name": "stdout"
        }
      ]
    },
    {
      "cell_type": "markdown",
      "metadata": {
        "id": "TLVOYDny7H54",
        "colab_type": "text"
      },
      "source": [
        "# Pearson Correlation Between Features and Default"
      ]
    },
    {
      "cell_type": "code",
      "metadata": {
        "id": "1EYvz2Ly7CzQ",
        "colab_type": "code",
        "outputId": "73b0656f-5ef5-4568-d973-ee0634910d45",
        "colab": {
          "base_uri": "https://localhost:8080/",
          "height": 883
        }
      },
      "source": [
        "correlations = dict(calculate_pearson_correlation(X_train)) \n",
        "df = pd.DataFrame(list(correlations.items()), columns=['features', 'correlation'])\n",
        "df = df.sort_values(by=['correlation'])\n",
        "\n",
        "sns.set(style='darkgrid')\n",
        "f, ax = plt.subplots(figsize=(10, 15))\n",
        "sns.barplot(x=\"correlation\", y=\"features\", data=df,\n",
        "          label=\"Feature Important\", color=\"blue\")\n",
        "plt.show()"
      ],
      "execution_count": 0,
      "outputs": [
        {
          "output_type": "display_data",
          "data": {
            "image/png": "[encoded data removed]",
            "text/plain": [
              "<Figure size 720x1080 with 1 Axes>"
            ]
          },
          "metadata": {
            "tags": []
          }
        }
      ]
    },
    {
      "cell_type": "markdown",
      "metadata": {
        "id": "eMV1O3rz5AcC",
        "colab_type": "text"
      },
      "source": [
        "# Export Test Results"
      ]
    },
    {
      "cell_type": "code",
      "metadata": {
        "id": "e9eqwbmHk__x",
        "colab_type": "code",
        "outputId": "b184a83c-4441-4f4e-f369-133c63a8a9b4",
        "colab": {
          "base_uri": "https://localhost:8080/",
          "height": 241
        }
      },
      "source": [
        "test_processed.head()"
      ],
      "execution_count": 0,
      "outputs": [
        {
          "output_type": "execute_result",
          "data": {
            "text/html": [
              "<div>\n",
              "<style scoped>\n",
              "    .dataframe tbody tr th:only-of-type {\n",
              "        vertical-align: middle;\n",
              "    }\n",
              "\n",
              "    .dataframe tbody tr th {\n",
              "        vertical-align: top;\n",
              "    }\n",
              "\n",
              "    .dataframe thead th {\n",
              "        text-align: right;\n",
              "    }\n",
              "</style>\n",
              "<table border=\"1\" class=\"dataframe\">\n",
              "  <thead>\n",
              "    <tr style=\"text-align: right;\">\n",
              "      <th></th>\n",
              "      <th>Client_ID</th>\n",
              "      <th>DUE_AMT_AUG</th>\n",
              "      <th>DUE_AMT_DEC</th>\n",
              "      <th>DUE_AMT_JULY</th>\n",
              "      <th>DUE_AMT_NOV</th>\n",
              "      <th>DUE_AMT_OCT</th>\n",
              "      <th>DUE_AMT_SEP</th>\n",
              "      <th>NEXT_MONTH_DEFAULT</th>\n",
              "      <th>PAID_AMT_AUG</th>\n",
              "      <th>PAID_AMT_DEC</th>\n",
              "      <th>PAID_AMT_JULY</th>\n",
              "      <th>PAID_AMT_NOV</th>\n",
              "      <th>PAID_AMT_OCT</th>\n",
              "      <th>PAID_AMT_SEP</th>\n",
              "      <th>PAY_AUG</th>\n",
              "      <th>PAY_DEC</th>\n",
              "      <th>PAY_JULY</th>\n",
              "      <th>PAY_NOV</th>\n",
              "      <th>PAY_OCT</th>\n",
              "      <th>PAY_SEP</th>\n",
              "      <th>delayed_months</th>\n",
              "      <th>due_total</th>\n",
              "      <th>Balance_Limit_V1_1.5M</th>\n",
              "      <th>Balance_Limit_V1_100K</th>\n",
              "      <th>Balance_Limit_V1_1M</th>\n",
              "      <th>Balance_Limit_V1_2.5M</th>\n",
              "      <th>Balance_Limit_V1_200K</th>\n",
              "      <th>Balance_Limit_V1_300K</th>\n",
              "      <th>Balance_Limit_V1_400K</th>\n",
              "      <th>Gender_M</th>\n",
              "      <th>EDUCATION_STATUS_High School</th>\n",
              "      <th>EDUCATION_STATUS_Other</th>\n",
              "      <th>MARITAL_STATUS_Single</th>\n",
              "      <th>AGE_46-65</th>\n",
              "      <th>AGE_Less than 30</th>\n",
              "      <th>AGE_More than 65</th>\n",
              "    </tr>\n",
              "  </thead>\n",
              "  <tbody>\n",
              "    <tr>\n",
              "      <th>0</th>\n",
              "      <td>A20170</td>\n",
              "      <td>198510</td>\n",
              "      <td>352206</td>\n",
              "      <td>194188</td>\n",
              "      <td>351790</td>\n",
              "      <td>311201</td>\n",
              "      <td>128316</td>\n",
              "      <td>nan</td>\n",
              "      <td>9.46</td>\n",
              "      <td>9.47</td>\n",
              "      <td>9.53</td>\n",
              "      <td>9.76</td>\n",
              "      <td>10.88</td>\n",
              "      <td>12.18</td>\n",
              "      <td>0</td>\n",
              "      <td>0</td>\n",
              "      <td>0</td>\n",
              "      <td>0</td>\n",
              "      <td>0</td>\n",
              "      <td>0</td>\n",
              "      <td>0</td>\n",
              "      <td>1536211</td>\n",
              "      <td>0</td>\n",
              "      <td>0</td>\n",
              "      <td>0</td>\n",
              "      <td>0</td>\n",
              "      <td>0</td>\n",
              "      <td>0</td>\n",
              "      <td>0</td>\n",
              "      <td>1</td>\n",
              "      <td>0</td>\n",
              "      <td>1</td>\n",
              "      <td>1</td>\n",
              "      <td>0</td>\n",
              "      <td>0</td>\n",
              "      <td>0</td>\n",
              "    </tr>\n",
              "    <tr>\n",
              "      <th>1</th>\n",
              "      <td>A16887</td>\n",
              "      <td>89427</td>\n",
              "      <td>100275</td>\n",
              "      <td>87115</td>\n",
              "      <td>97221</td>\n",
              "      <td>94181</td>\n",
              "      <td>91823</td>\n",
              "      <td>nan</td>\n",
              "      <td>8.25</td>\n",
              "      <td>8.44</td>\n",
              "      <td>8.23</td>\n",
              "      <td>8.44</td>\n",
              "      <td>8.44</td>\n",
              "      <td>8.27</td>\n",
              "      <td>0</td>\n",
              "      <td>0</td>\n",
              "      <td>0</td>\n",
              "      <td>0</td>\n",
              "      <td>0</td>\n",
              "      <td>0</td>\n",
              "      <td>0</td>\n",
              "      <td>560042</td>\n",
              "      <td>0</td>\n",
              "      <td>0</td>\n",
              "      <td>0</td>\n",
              "      <td>0</td>\n",
              "      <td>1</td>\n",
              "      <td>0</td>\n",
              "      <td>0</td>\n",
              "      <td>0</td>\n",
              "      <td>0</td>\n",
              "      <td>1</td>\n",
              "      <td>1</td>\n",
              "      <td>0</td>\n",
              "      <td>0</td>\n",
              "      <td>0</td>\n",
              "    </tr>\n",
              "    <tr>\n",
              "      <th>2</th>\n",
              "      <td>A3430</td>\n",
              "      <td>9573</td>\n",
              "      <td>993</td>\n",
              "      <td>2693</td>\n",
              "      <td>9561</td>\n",
              "      <td>11294</td>\n",
              "      <td>8984</td>\n",
              "      <td>nan</td>\n",
              "      <td>0.00</td>\n",
              "      <td>10.60</td>\n",
              "      <td>8.84</td>\n",
              "      <td>7.75</td>\n",
              "      <td>0.00</td>\n",
              "      <td>7.75</td>\n",
              "      <td>0</td>\n",
              "      <td>0</td>\n",
              "      <td>0</td>\n",
              "      <td>0</td>\n",
              "      <td>0</td>\n",
              "      <td>2</td>\n",
              "      <td>2</td>\n",
              "      <td>43098</td>\n",
              "      <td>0</td>\n",
              "      <td>0</td>\n",
              "      <td>0</td>\n",
              "      <td>0</td>\n",
              "      <td>0</td>\n",
              "      <td>0</td>\n",
              "      <td>1</td>\n",
              "      <td>1</td>\n",
              "      <td>0</td>\n",
              "      <td>1</td>\n",
              "      <td>0</td>\n",
              "      <td>0</td>\n",
              "      <td>1</td>\n",
              "      <td>0</td>\n",
              "    </tr>\n",
              "    <tr>\n",
              "      <th>3</th>\n",
              "      <td>A3696</td>\n",
              "      <td>5775</td>\n",
              "      <td>0</td>\n",
              "      <td>0</td>\n",
              "      <td>0</td>\n",
              "      <td>0</td>\n",
              "      <td>5775</td>\n",
              "      <td>nan</td>\n",
              "      <td>8.66</td>\n",
              "      <td>0.00</td>\n",
              "      <td>8.66</td>\n",
              "      <td>0.00</td>\n",
              "      <td>0.00</td>\n",
              "      <td>0.00</td>\n",
              "      <td>0</td>\n",
              "      <td>0</td>\n",
              "      <td>1</td>\n",
              "      <td>0</td>\n",
              "      <td>0</td>\n",
              "      <td>0</td>\n",
              "      <td>1</td>\n",
              "      <td>11550</td>\n",
              "      <td>1</td>\n",
              "      <td>0</td>\n",
              "      <td>0</td>\n",
              "      <td>0</td>\n",
              "      <td>0</td>\n",
              "      <td>0</td>\n",
              "      <td>0</td>\n",
              "      <td>1</td>\n",
              "      <td>0</td>\n",
              "      <td>0</td>\n",
              "      <td>1</td>\n",
              "      <td>0</td>\n",
              "      <td>0</td>\n",
              "      <td>0</td>\n",
              "    </tr>\n",
              "    <tr>\n",
              "      <th>4</th>\n",
              "      <td>A20474</td>\n",
              "      <td>0</td>\n",
              "      <td>0</td>\n",
              "      <td>85257</td>\n",
              "      <td>0</td>\n",
              "      <td>0</td>\n",
              "      <td>0</td>\n",
              "      <td>nan</td>\n",
              "      <td>0.00</td>\n",
              "      <td>0.00</td>\n",
              "      <td>0.00</td>\n",
              "      <td>0.00</td>\n",
              "      <td>0.00</td>\n",
              "      <td>0.00</td>\n",
              "      <td>0</td>\n",
              "      <td>0</td>\n",
              "      <td>0</td>\n",
              "      <td>0</td>\n",
              "      <td>0</td>\n",
              "      <td>0</td>\n",
              "      <td>0</td>\n",
              "      <td>85257</td>\n",
              "      <td>0</td>\n",
              "      <td>1</td>\n",
              "      <td>0</td>\n",
              "      <td>0</td>\n",
              "      <td>0</td>\n",
              "      <td>0</td>\n",
              "      <td>0</td>\n",
              "      <td>0</td>\n",
              "      <td>1</td>\n",
              "      <td>0</td>\n",
              "      <td>0</td>\n",
              "      <td>0</td>\n",
              "      <td>1</td>\n",
              "      <td>0</td>\n",
              "    </tr>\n",
              "  </tbody>\n",
              "</table>\n",
              "</div>"
            ],
            "text/plain": [
              "  Client_ID  DUE_AMT_AUG  ...  AGE_Less than 30  AGE_More than 65\n",
              "0    A20170       198510  ...                 0                 0\n",
              "1    A16887        89427  ...                 0                 0\n",
              "2     A3430         9573  ...                 1                 0\n",
              "3     A3696         5775  ...                 0                 0\n",
              "4    A20474            0  ...                 1                 0\n",
              "\n",
              "[5 rows x 36 columns]"
            ]
          },
          "metadata": {
            "tags": []
          },
          "execution_count": 112
        }
      ]
    },
    {
      "cell_type": "code",
      "metadata": {
        "id": "07kskxfwDEsc",
        "colab_type": "code",
        "colab": {}
      },
      "source": [
        "test_processed_clinet=test_processed['Client_ID']"
      ],
      "execution_count": 0,
      "outputs": []
    },
    {
      "cell_type": "code",
      "metadata": {
        "id": "KC_SVVWwDTa4",
        "colab_type": "code",
        "colab": {
          "base_uri": "https://localhost:8080/",
          "height": 34
        },
        "outputId": "0c7233a5-7188-402e-de55-092838d98e26"
      },
      "source": [
        "drop_features = due_features + paid_features + pay_int + ['Client_ID', 'NEXT_MONTH_DEFAULT']\n",
        "# test_data=test_processed.drop(columns=drop_features, inplace=True)\n",
        "test_data = test_processed[imp_features]\n",
        "test_data.shape"
      ],
      "execution_count": 60,
      "outputs": [
        {
          "output_type": "execute_result",
          "data": {
            "text/plain": [
              "(6000, 10)"
            ]
          },
          "metadata": {
            "tags": []
          },
          "execution_count": 60
        }
      ]
    },
    {
      "cell_type": "code",
      "metadata": {
        "id": "fTEeJ3OHDj5x",
        "colab_type": "code",
        "colab": {}
      },
      "source": [
        "y_pred_test = grid.best_estimator_.predict(test_data)"
      ],
      "execution_count": 0,
      "outputs": []
    },
    {
      "cell_type": "code",
      "metadata": {
        "id": "ENMtk-HEDt8f",
        "colab_type": "code",
        "colab": {}
      },
      "source": [
        "test_processed_clinet = test_processed_clinet.to_numpy()"
      ],
      "execution_count": 0,
      "outputs": []
    },
    {
      "cell_type": "code",
      "metadata": {
        "id": "69kdzzx2Ep7D",
        "colab_type": "code",
        "colab": {}
      },
      "source": [
        "data = {'Client_ID': test_processed_clinet, 'NEXT_MONTH_DEFAULT': y_pred_test}"
      ],
      "execution_count": 0,
      "outputs": []
    },
    {
      "cell_type": "code",
      "metadata": {
        "id": "vp4Tj2CrD2pu",
        "colab_type": "code",
        "outputId": "e2c19d78-e3f7-4ecf-9e29-d5f5fc5f0690",
        "colab": {
          "base_uri": "https://localhost:8080/",
          "height": 204
        }
      },
      "source": [
        "results = pd.DataFrame(data)\n",
        "results.head()"
      ],
      "execution_count": 67,
      "outputs": [
        {
          "output_type": "execute_result",
          "data": {
            "text/html": [
              "<div>\n",
              "<style scoped>\n",
              "    .dataframe tbody tr th:only-of-type {\n",
              "        vertical-align: middle;\n",
              "    }\n",
              "\n",
              "    .dataframe tbody tr th {\n",
              "        vertical-align: top;\n",
              "    }\n",
              "\n",
              "    .dataframe thead th {\n",
              "        text-align: right;\n",
              "    }\n",
              "</style>\n",
              "<table border=\"1\" class=\"dataframe\">\n",
              "  <thead>\n",
              "    <tr style=\"text-align: right;\">\n",
              "      <th></th>\n",
              "      <th>Client_ID</th>\n",
              "      <th>NEXT_MONTH_DEFAULT</th>\n",
              "    </tr>\n",
              "  </thead>\n",
              "  <tbody>\n",
              "    <tr>\n",
              "      <th>0</th>\n",
              "      <td>A20170</td>\n",
              "      <td>0</td>\n",
              "    </tr>\n",
              "    <tr>\n",
              "      <th>1</th>\n",
              "      <td>A16887</td>\n",
              "      <td>0</td>\n",
              "    </tr>\n",
              "    <tr>\n",
              "      <th>2</th>\n",
              "      <td>A3430</td>\n",
              "      <td>0</td>\n",
              "    </tr>\n",
              "    <tr>\n",
              "      <th>3</th>\n",
              "      <td>A3696</td>\n",
              "      <td>0</td>\n",
              "    </tr>\n",
              "    <tr>\n",
              "      <th>4</th>\n",
              "      <td>A20474</td>\n",
              "      <td>0</td>\n",
              "    </tr>\n",
              "  </tbody>\n",
              "</table>\n",
              "</div>"
            ],
            "text/plain": [
              "  Client_ID  NEXT_MONTH_DEFAULT\n",
              "0    A20170                   0\n",
              "1    A16887                   0\n",
              "2     A3430                   0\n",
              "3     A3696                   0\n",
              "4    A20474                   0"
            ]
          },
          "metadata": {
            "tags": []
          },
          "execution_count": 67
        }
      ]
    },
    {
      "cell_type": "code",
      "metadata": {
        "id": "m9TjP1nHFVrg",
        "colab_type": "code",
        "colab": {}
      },
      "source": [
        "results.to_csv(\"results_4.csv\", index=False)"
      ],
      "execution_count": 0,
      "outputs": []
    }
  ]
}