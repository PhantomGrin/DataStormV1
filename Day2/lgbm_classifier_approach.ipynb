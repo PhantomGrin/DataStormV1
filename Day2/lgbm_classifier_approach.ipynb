{
  "nbformat": 4,
  "nbformat_minor": 0,
  "metadata": {
    "colab": {
      "name": "DataStorm0.ipynb",
      "provenance": [],
      "collapsed_sections": [],
      "toc_visible": true
    },
    "kernelspec": {
      "name": "python3",
      "display_name": "Python 3"
    },
    "accelerator": "GPU"
  },
  "cells": [
    {
      "cell_type": "markdown",
      "metadata": {
        "id": "s1HgG7xx5xOY",
        "colab_type": "text"
      },
      "source": [
        "# Setting up "
      ]
    },
    {
      "cell_type": "code",
      "metadata": {
        "id": "Ceqv0u-hQIsl",
        "colab_type": "code",
        "outputId": "7860d992-15e3-4832-ffc8-d2f5c0a994c5",
        "colab": {
          "base_uri": "https://localhost:8080/",
          "height": 34
        }
      },
      "source": [
        "from google.colab import drive\n",
        "drive.mount('/content/drive')"
      ],
      "execution_count": 214,
      "outputs": [
        {
          "output_type": "stream",
          "text": [
            "Drive already mounted at /content/drive; to attempt to forcibly remount, call drive.mount(\"/content/drive\", force_remount=True).\n"
          ],
          "name": "stdout"
        }
      ]
    },
    {
      "cell_type": "code",
      "metadata": {
        "id": "XJlvttfmTl5t",
        "colab_type": "code",
        "colab": {
          "base_uri": "https://localhost:8080/",
          "height": 85
        },
        "outputId": "0ea7edd6-89c3-4d7d-813f-738268f9e46e"
      },
      "source": [
        "!ls"
      ],
      "execution_count": 215,
      "outputs": [
        {
          "output_type": "stream",
          "text": [
            "Credit_card_default%20-%20Business%20Problem%20-%20Assessment%20Criteria%20-%20Data%20Dictionary.xlsx\n",
            "credit_card_default_test.csv\n",
            "credit_card_default_train.csv.zip\n",
            "DATA%20STORM%201.0%20-%20First%20Round%20Competition%20Guidlines.pdf\n"
          ],
          "name": "stdout"
        }
      ]
    },
    {
      "cell_type": "code",
      "metadata": {
        "id": "Sv7JdJraSWKZ",
        "colab_type": "code",
        "colab": {}
      },
      "source": [
        "%cd drive/My\\ Drive/KaggleDataStorm"
      ],
      "execution_count": 0,
      "outputs": []
    },
    {
      "cell_type": "code",
      "metadata": {
        "id": "U-zqtcdvSWWU",
        "colab_type": "code",
        "colab": {}
      },
      "source": [
        "# import os\n",
        "# os.environ['KAGGLE_USERNAME'] = \"ds1047\"\n",
        "# os.environ['KAGGLE_KEY'] = \"26ca78d45179f04387b81f35ba031660\"\n",
        "\n",
        "# !kaggle competitions download -c data-storm-10"
      ],
      "execution_count": 0,
      "outputs": []
    },
    {
      "cell_type": "code",
      "metadata": {
        "id": "5z8vwg9zOuMn",
        "colab_type": "code",
        "colab": {}
      },
      "source": [
        "# Memory saving function credit to https://www.kaggle.com/gemartin/load-data-reduce-memory-usage\n",
        "def reduce_mem_usage(df):\n",
        "    # iterate through all the columns of a dataframe and modify the data type\n",
        "    #   to reduce memory usage.        \n",
        "    \n",
        "    start_mem = df.memory_usage().sum() / 1024**2\n",
        "    print('Memory usage of dataframe is {:.2f} MB'.format(start_mem))\n",
        "\n",
        "    for col in df.columns:\n",
        "        col_type = df[col].dtype\n",
        "\n",
        "        if col_type != object:\n",
        "            c_min = df[col].min()\n",
        "            c_max = df[col].max()\n",
        "            if str(col_type)[:3] == 'int':\n",
        "                if c_min > np.iinfo(np.int8).min and c_max < np.iinfo(np.int8).max:\n",
        "                    df[col] = df[col].astype(np.int8)\n",
        "                elif c_min > np.iinfo(np.int16).min and c_max < np.iinfo(np.int16).max:\n",
        "                    df[col] = df[col].astype(np.int16)\n",
        "                elif c_min > np.iinfo(np.int32).min and c_max < np.iinfo(np.int32).max:\n",
        "                    df[col] = df[col].astype(np.int32)\n",
        "                elif c_min > np.iinfo(np.int64).min and c_max < np.iinfo(np.int64).max:\n",
        "                    df[col] = df[col].astype(np.int64)  \n",
        "            else:\n",
        "                if c_min > np.finfo(np.float16).min and c_max < np.finfo(np.float16).max:\n",
        "                    df[col] = df[col].astype(np.float16)\n",
        "                elif c_min > np.finfo(np.float32).min and c_max < np.finfo(np.float32).max:\n",
        "                    df[col] = df[col].astype(np.float32)\n",
        "                else:\n",
        "                    df[col] = df[col].astype(np.float64)\n",
        "\n",
        "    end_mem = df.memory_usage().sum() / 1024**2\n",
        "    print('Memory usage after optimization is: {:.2f} MB'.format(end_mem))\n",
        "    print('Decreased by {:.1f}%'.format(100 * (start_mem - end_mem) / start_mem))\n",
        "\n",
        "    return df"
      ],
      "execution_count": 0,
      "outputs": []
    },
    {
      "cell_type": "markdown",
      "metadata": {
        "id": "OsE3CxiX6Br8",
        "colab_type": "text"
      },
      "source": [
        "# Import Libraries & Data"
      ]
    },
    {
      "cell_type": "code",
      "metadata": {
        "id": "dbG-ZAbRSWbv",
        "colab_type": "code",
        "colab": {}
      },
      "source": [
        "import pandas as pd\n",
        "import numpy as np\n",
        "import gc\n",
        "import matplotlib.pyplot as plt\n",
        "from matplotlib import mlab\n",
        "import seaborn as sns\n",
        "import warnings\n",
        "\n",
        "from sklearn.preprocessing import MinMaxScaler\n",
        "from sklearn.ensemble import RandomForestClassifier\n",
        "from sklearn.model_selection import GridSearchCV\n",
        "from sklearn.model_selection import train_test_split\n",
        "\n",
        "warnings.filterwarnings('ignore')\n",
        "%matplotlib inline"
      ],
      "execution_count": 0,
      "outputs": []
    },
    {
      "cell_type": "code",
      "metadata": {
        "id": "YprT7MN9SWZH",
        "colab_type": "code",
        "colab": {}
      },
      "source": [
        "train=pd.read_csv(\"credit_card_default_train.csv.zip\")\n",
        "test=pd.read_csv(\"credit_card_default_test.csv\")"
      ],
      "execution_count": 0,
      "outputs": []
    },
    {
      "cell_type": "code",
      "metadata": {
        "id": "FGPPNHyAVk5u",
        "colab_type": "code",
        "outputId": "47de7541-7382-49a0-ccc5-9515519441ce",
        "colab": {
          "base_uri": "https://localhost:8080/",
          "height": 326
        }
      },
      "source": [
        "train.head()"
      ],
      "execution_count": 220,
      "outputs": [
        {
          "output_type": "execute_result",
          "data": {
            "text/html": [
              "<div>\n",
              "<style scoped>\n",
              "    .dataframe tbody tr th:only-of-type {\n",
              "        vertical-align: middle;\n",
              "    }\n",
              "\n",
              "    .dataframe tbody tr th {\n",
              "        vertical-align: top;\n",
              "    }\n",
              "\n",
              "    .dataframe thead th {\n",
              "        text-align: right;\n",
              "    }\n",
              "</style>\n",
              "<table border=\"1\" class=\"dataframe\">\n",
              "  <thead>\n",
              "    <tr style=\"text-align: right;\">\n",
              "      <th></th>\n",
              "      <th>Client_ID</th>\n",
              "      <th>Balance_Limit_V1</th>\n",
              "      <th>Gender</th>\n",
              "      <th>EDUCATION_STATUS</th>\n",
              "      <th>MARITAL_STATUS</th>\n",
              "      <th>AGE</th>\n",
              "      <th>PAY_JULY</th>\n",
              "      <th>PAY_AUG</th>\n",
              "      <th>PAY_SEP</th>\n",
              "      <th>PAY_OCT</th>\n",
              "      <th>PAY_NOV</th>\n",
              "      <th>PAY_DEC</th>\n",
              "      <th>DUE_AMT_JULY</th>\n",
              "      <th>DUE_AMT_AUG</th>\n",
              "      <th>DUE_AMT_SEP</th>\n",
              "      <th>DUE_AMT_OCT</th>\n",
              "      <th>DUE_AMT_NOV</th>\n",
              "      <th>DUE_AMT_DEC</th>\n",
              "      <th>PAID_AMT_JULY</th>\n",
              "      <th>PAID_AMT_AUG</th>\n",
              "      <th>PAID_AMT_SEP</th>\n",
              "      <th>PAID_AMT_OCT</th>\n",
              "      <th>PAID_AMT_NOV</th>\n",
              "      <th>PAID_AMT_DEC</th>\n",
              "      <th>NEXT_MONTH_DEFAULT</th>\n",
              "    </tr>\n",
              "  </thead>\n",
              "  <tbody>\n",
              "    <tr>\n",
              "      <th>0</th>\n",
              "      <td>A2</td>\n",
              "      <td>1M</td>\n",
              "      <td>M</td>\n",
              "      <td>Graduate</td>\n",
              "      <td>Other</td>\n",
              "      <td>31-45</td>\n",
              "      <td>-1</td>\n",
              "      <td>-1</td>\n",
              "      <td>-1</td>\n",
              "      <td>-1</td>\n",
              "      <td>-1</td>\n",
              "      <td>-1</td>\n",
              "      <td>3248</td>\n",
              "      <td>3389</td>\n",
              "      <td>6004</td>\n",
              "      <td>39418</td>\n",
              "      <td>162772</td>\n",
              "      <td>-13982</td>\n",
              "      <td>3437</td>\n",
              "      <td>6004</td>\n",
              "      <td>39418</td>\n",
              "      <td>162772</td>\n",
              "      <td>0</td>\n",
              "      <td>538165</td>\n",
              "      <td>0</td>\n",
              "    </tr>\n",
              "    <tr>\n",
              "      <th>1</th>\n",
              "      <td>A3</td>\n",
              "      <td>1M</td>\n",
              "      <td>F</td>\n",
              "      <td>High School</td>\n",
              "      <td>Other</td>\n",
              "      <td>Less than 30</td>\n",
              "      <td>0</td>\n",
              "      <td>-1</td>\n",
              "      <td>-1</td>\n",
              "      <td>-1</td>\n",
              "      <td>-1</td>\n",
              "      <td>0</td>\n",
              "      <td>353351</td>\n",
              "      <td>151818</td>\n",
              "      <td>26948</td>\n",
              "      <td>43530</td>\n",
              "      <td>80811</td>\n",
              "      <td>124590</td>\n",
              "      <td>151818</td>\n",
              "      <td>46200</td>\n",
              "      <td>43530</td>\n",
              "      <td>80811</td>\n",
              "      <td>942</td>\n",
              "      <td>33666</td>\n",
              "      <td>0</td>\n",
              "    </tr>\n",
              "    <tr>\n",
              "      <th>2</th>\n",
              "      <td>A4</td>\n",
              "      <td>100K</td>\n",
              "      <td>F</td>\n",
              "      <td>High School</td>\n",
              "      <td>Single</td>\n",
              "      <td>31-45</td>\n",
              "      <td>4</td>\n",
              "      <td>3</td>\n",
              "      <td>2</td>\n",
              "      <td>2</td>\n",
              "      <td>-2</td>\n",
              "      <td>-2</td>\n",
              "      <td>16681</td>\n",
              "      <td>16082</td>\n",
              "      <td>15477</td>\n",
              "      <td>0</td>\n",
              "      <td>0</td>\n",
              "      <td>0</td>\n",
              "      <td>0</td>\n",
              "      <td>0</td>\n",
              "      <td>0</td>\n",
              "      <td>0</td>\n",
              "      <td>0</td>\n",
              "      <td>0</td>\n",
              "      <td>1</td>\n",
              "    </tr>\n",
              "    <tr>\n",
              "      <th>3</th>\n",
              "      <td>A5</td>\n",
              "      <td>200K</td>\n",
              "      <td>F</td>\n",
              "      <td>Graduate</td>\n",
              "      <td>Single</td>\n",
              "      <td>31-45</td>\n",
              "      <td>2</td>\n",
              "      <td>0</td>\n",
              "      <td>0</td>\n",
              "      <td>0</td>\n",
              "      <td>0</td>\n",
              "      <td>0</td>\n",
              "      <td>90457</td>\n",
              "      <td>92848</td>\n",
              "      <td>95193</td>\n",
              "      <td>97309</td>\n",
              "      <td>100353</td>\n",
              "      <td>102740</td>\n",
              "      <td>3855</td>\n",
              "      <td>3890</td>\n",
              "      <td>3696</td>\n",
              "      <td>4620</td>\n",
              "      <td>4049</td>\n",
              "      <td>3918</td>\n",
              "      <td>1</td>\n",
              "    </tr>\n",
              "    <tr>\n",
              "      <th>4</th>\n",
              "      <td>A6</td>\n",
              "      <td>1M</td>\n",
              "      <td>F</td>\n",
              "      <td>Graduate</td>\n",
              "      <td>Other</td>\n",
              "      <td>31-45</td>\n",
              "      <td>2</td>\n",
              "      <td>2</td>\n",
              "      <td>0</td>\n",
              "      <td>0</td>\n",
              "      <td>0</td>\n",
              "      <td>0</td>\n",
              "      <td>429556</td>\n",
              "      <td>419466</td>\n",
              "      <td>429785</td>\n",
              "      <td>435354</td>\n",
              "      <td>445271</td>\n",
              "      <td>453899</td>\n",
              "      <td>0</td>\n",
              "      <td>20790</td>\n",
              "      <td>16170</td>\n",
              "      <td>17325</td>\n",
              "      <td>16401</td>\n",
              "      <td>17325</td>\n",
              "      <td>0</td>\n",
              "    </tr>\n",
              "  </tbody>\n",
              "</table>\n",
              "</div>"
            ],
            "text/plain": [
              "  Client_ID Balance_Limit_V1  ... PAID_AMT_DEC NEXT_MONTH_DEFAULT\n",
              "0        A2               1M  ...       538165                  0\n",
              "1        A3               1M  ...        33666                  0\n",
              "2        A4             100K  ...            0                  1\n",
              "3        A5             200K  ...         3918                  1\n",
              "4        A6               1M  ...        17325                  0\n",
              "\n",
              "[5 rows x 25 columns]"
            ]
          },
          "metadata": {
            "tags": []
          },
          "execution_count": 220
        }
      ]
    },
    {
      "cell_type": "code",
      "metadata": {
        "id": "Q-I7qXbY2u5k",
        "colab_type": "code",
        "outputId": "01bc4c43-45ff-4d35-85ce-a5d005bd7a2a",
        "colab": {
          "base_uri": "https://localhost:8080/",
          "height": 34
        }
      },
      "source": [
        "train.shape"
      ],
      "execution_count": 221,
      "outputs": [
        {
          "output_type": "execute_result",
          "data": {
            "text/plain": [
              "(24000, 25)"
            ]
          },
          "metadata": {
            "tags": []
          },
          "execution_count": 221
        }
      ]
    },
    {
      "cell_type": "markdown",
      "metadata": {
        "id": "BNOMesty29sL",
        "colab_type": "text"
      },
      "source": [
        "**Twenty four thousand data points**"
      ]
    },
    {
      "cell_type": "markdown",
      "metadata": {
        "id": "lgG_5kxauumH",
        "colab_type": "text"
      },
      "source": [
        "# Exploratory Data Analysis"
      ]
    },
    {
      "cell_type": "code",
      "metadata": {
        "id": "rMZoBsqFZsl1",
        "colab_type": "code",
        "outputId": "148dcf49-2197-4c33-b1d7-ad2d5e7b6cd6",
        "colab": {
          "base_uri": "https://localhost:8080/",
          "height": 153
        }
      },
      "source": [
        "print(f\"Number of columns :  {len(train.columns)}\")\n",
        "print(train.columns)"
      ],
      "execution_count": 222,
      "outputs": [
        {
          "output_type": "stream",
          "text": [
            "Number of columns :  25\n",
            "Index(['Client_ID', 'Balance_Limit_V1', 'Gender', 'EDUCATION_STATUS',\n",
            "       'MARITAL_STATUS', 'AGE', 'PAY_JULY', 'PAY_AUG', 'PAY_SEP', 'PAY_OCT',\n",
            "       'PAY_NOV', 'PAY_DEC', 'DUE_AMT_JULY', 'DUE_AMT_AUG', 'DUE_AMT_SEP',\n",
            "       'DUE_AMT_OCT', 'DUE_AMT_NOV', 'DUE_AMT_DEC', 'PAID_AMT_JULY',\n",
            "       'PAID_AMT_AUG', 'PAID_AMT_SEP', 'PAID_AMT_OCT', 'PAID_AMT_NOV',\n",
            "       'PAID_AMT_DEC', 'NEXT_MONTH_DEFAULT'],\n",
            "      dtype='object')\n"
          ],
          "name": "stdout"
        }
      ]
    },
    {
      "cell_type": "markdown",
      "metadata": {
        "id": "a9lrTs-GZiCi",
        "colab_type": "text"
      },
      "source": [
        "**Column List:**\n",
        "\n",
        "Unique:\n",
        "* 'Client_ID' - Unique\n",
        "\n",
        "Categorical:\n",
        "* 'Balance_Limit_V1'\n",
        "* 'Gender'\n",
        "* 'EDUCATION_STATUS'\n",
        "* 'MARITAL_STATUS'\n",
        "* 'AGE'\n",
        "\n",
        "--------------\n",
        "\n",
        "* 'PAY_JULY'\n",
        "* 'PAY_AUG'\n",
        "* 'PAY_SEP'\n",
        "* 'PAY_OCT'\n",
        "* 'PAY_NOV'\n",
        "* 'PAY_DEC'\n",
        "\n",
        "\n",
        "PAY_MONTH :: \"History of past payments\" (-2 = paid two months in advance), (-1 = paid one month in advance), (0 = payment due current month), ( 1 = payment delay for one month), (2 = payment delay for two months), (8 = payment delay for eight months), (9 = payment delay for nine months and above)\n",
        "\n",
        "---------------\n",
        "\n",
        "Continuous:\n",
        "* 'DUE_AMT_JULY'\n",
        "* 'DUE_AMT_AUG'\n",
        "* 'DUE_AMT_SEP'\n",
        "* 'DUE_AMT_OCT'\n",
        "* 'DUE_AMT_NOV'\n",
        "* 'DUE_AMT_DEC'\n",
        "* 'PAID_AMT_JULY'\n",
        "* 'PAID_AMT_AUG'\n",
        "* 'PAID_AMT_SEP'\n",
        "* 'PAID_AMT_OCT'\n",
        "* 'PAID_AMT_NOV'\n",
        "* 'PAID_AMT_DEC'\n",
        "\n",
        "Target:\n",
        "* 'NEXT_MONTH_DEFAULT'\n",
        "\n",
        "\n"
      ]
    },
    {
      "cell_type": "code",
      "metadata": {
        "id": "nb5mU-hI5Hc4",
        "colab_type": "code",
        "colab": {
          "base_uri": "https://localhost:8080/",
          "height": 527
        },
        "outputId": "14243960-a7ee-4a95-9905-2d9d936afdeb"
      },
      "source": [
        "train.info()"
      ],
      "execution_count": 223,
      "outputs": [
        {
          "output_type": "stream",
          "text": [
            "<class 'pandas.core.frame.DataFrame'>\n",
            "RangeIndex: 24000 entries, 0 to 23999\n",
            "Data columns (total 25 columns):\n",
            "Client_ID             24000 non-null object\n",
            "Balance_Limit_V1      24000 non-null object\n",
            "Gender                24000 non-null object\n",
            "EDUCATION_STATUS      24000 non-null object\n",
            "MARITAL_STATUS        24000 non-null object\n",
            "AGE                   24000 non-null object\n",
            "PAY_JULY              24000 non-null int64\n",
            "PAY_AUG               24000 non-null int64\n",
            "PAY_SEP               24000 non-null int64\n",
            "PAY_OCT               24000 non-null int64\n",
            "PAY_NOV               24000 non-null int64\n",
            "PAY_DEC               24000 non-null int64\n",
            "DUE_AMT_JULY          24000 non-null int64\n",
            "DUE_AMT_AUG           24000 non-null int64\n",
            "DUE_AMT_SEP           24000 non-null int64\n",
            "DUE_AMT_OCT           24000 non-null int64\n",
            "DUE_AMT_NOV           24000 non-null int64\n",
            "DUE_AMT_DEC           24000 non-null int64\n",
            "PAID_AMT_JULY         24000 non-null int64\n",
            "PAID_AMT_AUG          24000 non-null int64\n",
            "PAID_AMT_SEP          24000 non-null int64\n",
            "PAID_AMT_OCT          24000 non-null int64\n",
            "PAID_AMT_NOV          24000 non-null int64\n",
            "PAID_AMT_DEC          24000 non-null int64\n",
            "NEXT_MONTH_DEFAULT    24000 non-null int64\n",
            "dtypes: int64(19), object(6)\n",
            "memory usage: 4.6+ MB\n"
          ],
          "name": "stdout"
        }
      ]
    },
    {
      "cell_type": "code",
      "metadata": {
        "id": "RDm7MhGP_XdF",
        "colab_type": "code",
        "colab": {}
      },
      "source": [
        "cat_features = ['Balance_Limit_V1', 'Gender', 'EDUCATION_STATUS', 'MARITAL_STATUS', 'AGE']\n",
        "due_features = ['DUE_AMT_JULY', 'DUE_AMT_AUG', 'DUE_AMT_SEP', 'DUE_AMT_OCT', 'DUE_AMT_NOV', 'DUE_AMT_DEC']\n",
        "paid_features = ['PAID_AMT_JULY', 'PAID_AMT_AUG', 'PAID_AMT_SEP', 'PAID_AMT_OCT', 'PAID_AMT_NOV', 'PAID_AMT_DEC']\n",
        "pay_int = ['PAY_JULY', 'PAY_AUG', 'PAY_SEP', 'PAY_OCT', 'PAY_NOV', 'PAY_DEC']"
      ],
      "execution_count": 0,
      "outputs": []
    },
    {
      "cell_type": "code",
      "metadata": {
        "id": "LbqWa-obBp3E",
        "colab_type": "code",
        "colab": {
          "base_uri": "https://localhost:8080/",
          "height": 221
        },
        "outputId": "05c87cce-3e7f-44c3-c99c-31e5d7718ab5"
      },
      "source": [
        "# Number of unique classes in each object column\n",
        "train[cat_features].nunique()"
      ],
      "execution_count": 225,
      "outputs": [
        {
          "output_type": "execute_result",
          "data": {
            "text/plain": [
              "Balance_Limit_V1     8\n",
              "Gender               2\n",
              "EDUCATION_STATUS     3\n",
              "MARITAL_STATUS       2\n",
              "AGE                  4\n",
              "PAY_JULY            11\n",
              "PAY_AUG             11\n",
              "PAY_SEP             11\n",
              "PAY_OCT             11\n",
              "PAY_NOV             10\n",
              "PAY_DEC             10\n",
              "dtype: int64"
            ]
          },
          "metadata": {
            "tags": []
          },
          "execution_count": 225
        }
      ]
    },
    {
      "cell_type": "markdown",
      "metadata": {
        "id": "XEvqnTBY767r",
        "colab_type": "text"
      },
      "source": [
        "## Utils"
      ]
    },
    {
      "cell_type": "code",
      "metadata": {
        "id": "QuxXZlrU1GSo",
        "colab_type": "code",
        "colab": {}
      },
      "source": [
        "def basic_describe(features, train=train):\n",
        "  \"\"\" return basic statistics of the the data\"\"\"\n",
        "  df = train[features].describe()\n",
        "  pd.options.display.float_format = '{:.2f}'.format\n",
        "  return df"
      ],
      "execution_count": 0,
      "outputs": []
    },
    {
      "cell_type": "code",
      "metadata": {
        "id": "JY-CWNXg9S0h",
        "colab_type": "code",
        "colab": {}
      },
      "source": [
        "def plot_count(column, train=train):\n",
        "  print(train[column].value_counts())\n",
        "  # Plot member count \n",
        "  plt.figure(figsize=(10,5))\n",
        "  sns.countplot(train[column])\n",
        "  plt.title(column)\n",
        "  plt.show()"
      ],
      "execution_count": 0,
      "outputs": []
    },
    {
      "cell_type": "code",
      "metadata": {
        "id": "7XrRPXwvDobI",
        "colab_type": "code",
        "colab": {}
      },
      "source": [
        "def draw_hist(column, num_bin=10, train=train):\n",
        "    title_name = column[0].upper() + column[1:]\n",
        "    f, ax = plt.subplots()\n",
        "    plt.xlabel(title_name)\n",
        "    plt.ylabel('log Count')\n",
        "    ax.set_yscale('log')\n",
        "    train.hist(column=column,ax=ax,bins=num_bin)\n",
        "    plt.title('Histogram of ' + title_name)\n",
        "    tmp = train[column].value_counts().sort_values(ascending=False)"
      ],
      "execution_count": 0,
      "outputs": []
    },
    {
      "cell_type": "code",
      "metadata": {
        "id": "is5RtAJyEWdy",
        "colab_type": "code",
        "colab": {}
      },
      "source": [
        "def draw_distplot(column, train=train):\n",
        "  sns.set(style=\"whitegrid\")\n",
        "  sns.dark_palette(\"blue\")\n",
        "  plt.figure(figsize=(16,5))\n",
        "  plt.title(column,fontsize=15)\n",
        "  sns.distplot(train[column])\n",
        "  plt.show()"
      ],
      "execution_count": 0,
      "outputs": []
    },
    {
      "cell_type": "code",
      "metadata": {
        "id": "Ay0lalIb3aKW",
        "colab_type": "code",
        "colab": {}
      },
      "source": [
        "def boxplot_group(feature, df):\n",
        "  fig, ax = plt.subplots()\n",
        "  fig.set_size_inches(15, 5)\n",
        "  ax = sns.boxplot(x='NEXT_MONTH_DEFAULT', y=feature, data=df)\n",
        "  plt.title(feature + \" for Default\")"
      ],
      "execution_count": 0,
      "outputs": []
    },
    {
      "cell_type": "markdown",
      "metadata": {
        "id": "mx0TlNqNu4bN",
        "colab_type": "text"
      },
      "source": [
        "## Explore Categorical Variables"
      ]
    },
    {
      "cell_type": "code",
      "metadata": {
        "id": "EctpzU1bBF2j",
        "colab_type": "code",
        "outputId": "b9c7c0d5-7b7d-4d5f-aa08-162bddeb87b3",
        "colab": {
          "base_uri": "https://localhost:8080/",
          "height": 999
        }
      },
      "source": [
        "plot_count('Balance_Limit_V1')\n",
        "plot_count('Balance_Limit_V1', test)"
      ],
      "execution_count": 231,
      "outputs": [
        {
          "output_type": "stream",
          "text": [
            "1M       5951\n",
            "200K     5159\n",
            "100K     3449\n",
            "400K     3065\n",
            " 500K    2790\n",
            "300K     2411\n",
            "1.5M     1138\n",
            "2.5M       37\n",
            "Name: Balance_Limit_V1, dtype: int64\n"
          ],
          "name": "stdout"
        },
        {
          "output_type": "display_data",
          "data": {
            "image/png": "[encoded data removed]",
            "text/plain": [
              "<Figure size 720x360 with 1 Axes>"
            ]
          },
          "metadata": {
            "tags": []
          }
        },
        {
          "output_type": "stream",
          "text": [
            "1M       1466\n",
            "200K     1329\n",
            "100K      862\n",
            "400K      749\n",
            " 500K     692\n",
            "300K      602\n",
            "1.5M      292\n",
            "2.5M        8\n",
            "Name: Balance_Limit_V1, dtype: int64\n"
          ],
          "name": "stdout"
        },
        {
          "output_type": "display_data",
          "data": {
            "image/png": "[encoded data removed]",
            "text/plain": [
              "<Figure size 720x360 with 1 Axes>"
            ]
          },
          "metadata": {
            "tags": []
          }
        }
      ]
    },
    {
      "cell_type": "code",
      "metadata": {
        "id": "7_RXZLIL-KzO",
        "colab_type": "code",
        "colab": {
          "base_uri": "https://localhost:8080/",
          "height": 795
        },
        "outputId": "1f03ef38-39ce-4ccb-af12-8c880a760ebd"
      },
      "source": [
        "plot_count('Gender')\n",
        "plot_count('Gender', test)"
      ],
      "execution_count": 232,
      "outputs": [
        {
          "output_type": "stream",
          "text": [
            "M    14460\n",
            "F     9540\n",
            "Name: Gender, dtype: int64\n"
          ],
          "name": "stdout"
        },
        {
          "output_type": "display_data",
          "data": {
            "image/png": "[encoded data removed]",
            "text/plain": [
              "<Figure size 720x360 with 1 Axes>"
            ]
          },
          "metadata": {
            "tags": []
          }
        },
        {
          "output_type": "stream",
          "text": [
            "M    3652\n",
            "F    2348\n",
            "Name: Gender, dtype: int64\n"
          ],
          "name": "stdout"
        },
        {
          "output_type": "display_data",
          "data": {
            "image/png": "[encoded data removed]",
            "text/plain": [
              "<Figure size 720x360 with 1 Axes>"
            ]
          },
          "metadata": {
            "tags": []
          }
        }
      ]
    },
    {
      "cell_type": "code",
      "metadata": {
        "id": "vcPz8aTD-ZZp",
        "colab_type": "code",
        "colab": {
          "base_uri": "https://localhost:8080/",
          "height": 829
        },
        "outputId": "b55f521e-ea93-4b96-f007-0e6988759b55"
      },
      "source": [
        "plot_count('EDUCATION_STATUS')\n",
        "plot_count('EDUCATION_STATUS', test)"
      ],
      "execution_count": 233,
      "outputs": [
        {
          "output_type": "stream",
          "text": [
            "Other          11597\n",
            "Graduate        8478\n",
            "High School     3925\n",
            "Name: EDUCATION_STATUS, dtype: int64\n"
          ],
          "name": "stdout"
        },
        {
          "output_type": "display_data",
          "data": {
            "image/png": "[encoded data removed]",
            "text/plain": [
              "<Figure size 720x360 with 1 Axes>"
            ]
          },
          "metadata": {
            "tags": []
          }
        },
        {
          "output_type": "stream",
          "text": [
            "Other          2901\n",
            "Graduate       2107\n",
            "High School     992\n",
            "Name: EDUCATION_STATUS, dtype: int64\n"
          ],
          "name": "stdout"
        },
        {
          "output_type": "display_data",
          "data": {
            "image/png": "[encoded data removed]",
            "text/plain": [
              "<Figure size 720x360 with 1 Axes>"
            ]
          },
          "metadata": {
            "tags": []
          }
        }
      ]
    },
    {
      "cell_type": "code",
      "metadata": {
        "id": "k4yrawXp-dYY",
        "colab_type": "code",
        "colab": {
          "base_uri": "https://localhost:8080/",
          "height": 795
        },
        "outputId": "c7b62f64-9907-4fee-ea38-4adbac33515e"
      },
      "source": [
        "plot_count('MARITAL_STATUS')\n",
        "plot_count('MARITAL_STATUS', test)"
      ],
      "execution_count": 234,
      "outputs": [
        {
          "output_type": "stream",
          "text": [
            "Other     13070\n",
            "Single    10930\n",
            "Name: MARITAL_STATUS, dtype: int64\n"
          ],
          "name": "stdout"
        },
        {
          "output_type": "display_data",
          "data": {
            "image/png": "[encoded data removed]",
            "text/plain": [
              "<Figure size 720x360 with 1 Axes>"
            ]
          },
          "metadata": {
            "tags": []
          }
        },
        {
          "output_type": "stream",
          "text": [
            "Other     3271\n",
            "Single    2729\n",
            "Name: MARITAL_STATUS, dtype: int64\n"
          ],
          "name": "stdout"
        },
        {
          "output_type": "display_data",
          "data": {
            "image/png": "[encoded data removed]",
            "text/plain": [
              "<Figure size 720x360 with 1 Axes>"
            ]
          },
          "metadata": {
            "tags": []
          }
        }
      ]
    },
    {
      "cell_type": "code",
      "metadata": {
        "id": "GwMn-2TJ-dDd",
        "colab_type": "code",
        "colab": {
          "base_uri": "https://localhost:8080/",
          "height": 863
        },
        "outputId": "b87b6099-f6cd-48be-91ad-ed53afe2d7b3"
      },
      "source": [
        "plot_count('AGE')\n",
        "plot_count('AGE', test)\n"
      ],
      "execution_count": 235,
      "outputs": [
        {
          "output_type": "stream",
          "text": [
            "31-45           12124\n",
            "Less than 30     7638\n",
            "46-65            4150\n",
            "More than 65       88\n",
            "Name: AGE, dtype: int64\n"
          ],
          "name": "stdout"
        },
        {
          "output_type": "display_data",
          "data": {
            "image/png": "[encoded data removed]",
            "text/plain": [
              "<Figure size 720x360 with 1 Axes>"
            ]
          },
          "metadata": {
            "tags": []
          }
        },
        {
          "output_type": "stream",
          "text": [
            "31-45           2972\n",
            "Less than 30    1980\n",
            "46-65           1026\n",
            "More than 65      22\n",
            "Name: AGE, dtype: int64\n"
          ],
          "name": "stdout"
        },
        {
          "output_type": "display_data",
          "data": {
            "image/png": "[encoded data removed]",
            "text/plain": [
              "<Figure size 720x360 with 1 Axes>"
            ]
          },
          "metadata": {
            "tags": []
          }
        }
      ]
    },
    {
      "cell_type": "code",
      "metadata": {
        "id": "DyD5wXWM-cvq",
        "colab_type": "code",
        "colab": {
          "base_uri": "https://localhost:8080/",
          "height": 1000
        },
        "outputId": "008f53e9-e69e-4c47-9d15-a44bc8976528"
      },
      "source": [
        "plot_count('PAY_JULY')\n",
        "plot_count('PAY_JULY', test)\n",
        "print(train['PAY_JULY'].nunique())\n",
        "print(test['PAY_JULY'].nunique())"
      ],
      "execution_count": 236,
      "outputs": [
        {
          "output_type": "stream",
          "text": [
            " 0    11788\n",
            "-1     4534\n",
            " 1     2956\n",
            "-2     2205\n",
            " 2     2140\n",
            " 3      258\n",
            " 4       66\n",
            " 5       23\n",
            " 8       14\n",
            " 6       10\n",
            " 7        6\n",
            "Name: PAY_JULY, dtype: int64\n"
          ],
          "name": "stdout"
        },
        {
          "output_type": "display_data",
          "data": {
            "image/png": "[encoded data removed]",
            "text/plain": [
              "<Figure size 720x360 with 1 Axes>"
            ]
          },
          "metadata": {
            "tags": []
          }
        },
        {
          "output_type": "stream",
          "text": [
            " 0    2949\n",
            "-1    1152\n",
            " 1     732\n",
            "-2     554\n",
            " 2     527\n",
            " 3      64\n",
            " 4      10\n",
            " 8       5\n",
            " 7       3\n",
            " 5       3\n",
            " 6       1\n",
            "Name: PAY_JULY, dtype: int64\n"
          ],
          "name": "stdout"
        },
        {
          "output_type": "display_data",
          "data": {
            "image/png": "[encoded data removed]",
            "text/plain": [
              "<Figure size 720x360 with 1 Axes>"
            ]
          },
          "metadata": {
            "tags": []
          }
        },
        {
          "output_type": "stream",
          "text": [
            "11\n",
            "11\n"
          ],
          "name": "stdout"
        }
      ]
    },
    {
      "cell_type": "code",
      "metadata": {
        "id": "oo5aAwqh-cZq",
        "colab_type": "code",
        "colab": {
          "base_uri": "https://localhost:8080/",
          "height": 1000
        },
        "outputId": "89c078a8-4f18-4c1a-9c73-312836afc2e8"
      },
      "source": [
        "plot_count('PAY_AUG')\n",
        "plot_count('PAY_AUG', test)\n",
        "print(train['PAY_AUG'].nunique())\n",
        "print(test['PAY_AUG'].nunique())"
      ],
      "execution_count": 237,
      "outputs": [
        {
          "output_type": "stream",
          "text": [
            " 0    12562\n",
            "-1     4847\n",
            " 2     3150\n",
            "-2     3014\n",
            " 3      271\n",
            " 4       84\n",
            " 5       24\n",
            " 1       24\n",
            " 7       15\n",
            " 6        8\n",
            " 8        1\n",
            "Name: PAY_AUG, dtype: int64\n"
          ],
          "name": "stdout"
        },
        {
          "output_type": "display_data",
          "data": {
            "image/png": "[encoded data removed]",
            "text/plain": [
              "<Figure size 720x360 with 1 Axes>"
            ]
          },
          "metadata": {
            "tags": []
          }
        },
        {
          "output_type": "stream",
          "text": [
            " 0    3168\n",
            "-1    1203\n",
            " 2     777\n",
            "-2     768\n",
            " 3      55\n",
            " 4      15\n",
            " 7       5\n",
            " 6       4\n",
            " 1       4\n",
            " 5       1\n",
            "Name: PAY_AUG, dtype: int64\n"
          ],
          "name": "stdout"
        },
        {
          "output_type": "display_data",
          "data": {
            "image/png": "[encoded data removed]",
            "text/plain": [
              "<Figure size 720x360 with 1 Axes>"
            ]
          },
          "metadata": {
            "tags": []
          }
        },
        {
          "output_type": "stream",
          "text": [
            "11\n",
            "10\n"
          ],
          "name": "stdout"
        }
      ]
    },
    {
      "cell_type": "code",
      "metadata": {
        "id": "6tn_jp01-cFQ",
        "colab_type": "code",
        "colab": {
          "base_uri": "https://localhost:8080/",
          "height": 1000
        },
        "outputId": "13a9dbfd-55ca-454a-afaf-703150afe760"
      },
      "source": [
        "plot_count('PAY_SEP')\n",
        "plot_count('PAY_SEP', test)\n",
        "print(train['PAY_SEP'].nunique())\n",
        "print(test['PAY_SEP'].nunique())"
      ],
      "execution_count": 238,
      "outputs": [
        {
          "output_type": "stream",
          "text": [
            " 0    12609\n",
            "-1     4730\n",
            "-2     3240\n",
            " 2     3097\n",
            " 3      198\n",
            " 4       65\n",
            " 7       21\n",
            " 6       17\n",
            " 5       17\n",
            " 1        4\n",
            " 8        2\n",
            "Name: PAY_SEP, dtype: int64\n"
          ],
          "name": "stdout"
        },
        {
          "output_type": "display_data",
          "data": {
            "image/png": "[encoded data removed]",
            "text/plain": [
              "<Figure size 720x360 with 1 Axes>"
            ]
          },
          "metadata": {
            "tags": []
          }
        },
        {
          "output_type": "stream",
          "text": [
            " 0    3155\n",
            "-1    1208\n",
            "-2     845\n",
            " 2     722\n",
            " 3      42\n",
            " 4      11\n",
            " 7       6\n",
            " 6       6\n",
            " 5       4\n",
            " 8       1\n",
            "Name: PAY_SEP, dtype: int64\n"
          ],
          "name": "stdout"
        },
        {
          "output_type": "display_data",
          "data": {
            "image/png": "[encoded data removed]",
            "text/plain": [
              "<Figure size 720x360 with 1 Axes>"
            ]
          },
          "metadata": {
            "tags": []
          }
        },
        {
          "output_type": "stream",
          "text": [
            "11\n",
            "10\n"
          ],
          "name": "stdout"
        }
      ]
    },
    {
      "cell_type": "code",
      "metadata": {
        "id": "KYblGET0-bxh",
        "colab_type": "code",
        "colab": {
          "base_uri": "https://localhost:8080/",
          "height": 1000
        },
        "outputId": "a6316198-c35a-423c-9c9b-97b91e38ebbb"
      },
      "source": [
        "plot_count('PAY_OCT')\n",
        "plot_count('PAY_OCT', test)\n",
        "print(train['PAY_OCT'].nunique())\n",
        "print(test['PAY_OCT'].nunique())"
      ],
      "execution_count": 239,
      "outputs": [
        {
          "output_type": "stream",
          "text": [
            " 0    13199\n",
            "-1     4514\n",
            "-2     3453\n",
            " 2     2548\n",
            " 3      156\n",
            " 4       53\n",
            " 7       42\n",
            " 5       27\n",
            " 6        4\n",
            " 8        2\n",
            " 1        2\n",
            "Name: PAY_OCT, dtype: int64\n"
          ],
          "name": "stdout"
        },
        {
          "output_type": "display_data",
          "data": {
            "image/png": "[encoded data removed]",
            "text/plain": [
              "<Figure size 720x360 with 1 Axes>"
            ]
          },
          "metadata": {
            "tags": []
          }
        },
        {
          "output_type": "stream",
          "text": [
            " 0    3256\n",
            "-1    1173\n",
            "-2     895\n",
            " 2     611\n",
            " 3      24\n",
            " 7      16\n",
            " 4      16\n",
            " 5       8\n",
            " 6       1\n",
            "Name: PAY_OCT, dtype: int64\n"
          ],
          "name": "stdout"
        },
        {
          "output_type": "display_data",
          "data": {
            "image/png": "[encoded data removed]",
            "text/plain": [
              "<Figure size 720x360 with 1 Axes>"
            ]
          },
          "metadata": {
            "tags": []
          }
        },
        {
          "output_type": "stream",
          "text": [
            "11\n",
            "9\n"
          ],
          "name": "stdout"
        }
      ]
    },
    {
      "cell_type": "code",
      "metadata": {
        "id": "YF2RMRPO-ba3",
        "colab_type": "code",
        "colab": {
          "base_uri": "https://localhost:8080/",
          "height": 1000
        },
        "outputId": "87d67281-08bf-41c8-e163-ad5bca1d3d22"
      },
      "source": [
        "plot_count('PAY_NOV')\n",
        "plot_count('PAY_NOV', test)\n",
        "print(train['PAY_NOV'].nunique())\n",
        "print(test['PAY_NOV'].nunique())"
      ],
      "execution_count": 240,
      "outputs": [
        {
          "output_type": "stream",
          "text": [
            " 0    13581\n",
            "-1     4415\n",
            "-2     3605\n",
            " 2     2124\n",
            " 3      145\n",
            " 4       69\n",
            " 7       44\n",
            " 5       14\n",
            " 6        2\n",
            " 8        1\n",
            "Name: PAY_NOV, dtype: int64\n"
          ],
          "name": "stdout"
        },
        {
          "output_type": "display_data",
          "data": {
            "image/png": "[encoded data removed]",
            "text/plain": [
              "<Figure size 720x360 with 1 Axes>"
            ]
          },
          "metadata": {
            "tags": []
          }
        },
        {
          "output_type": "stream",
          "text": [
            " 0    3366\n",
            "-1    1124\n",
            "-2     941\n",
            " 2     502\n",
            " 3      33\n",
            " 4      15\n",
            " 7      14\n",
            " 5       3\n",
            " 6       2\n",
            "Name: PAY_NOV, dtype: int64\n"
          ],
          "name": "stdout"
        },
        {
          "output_type": "display_data",
          "data": {
            "image/png": "[encoded data removed]",
            "text/plain": [
              "<Figure size 720x360 with 1 Axes>"
            ]
          },
          "metadata": {
            "tags": []
          }
        },
        {
          "output_type": "stream",
          "text": [
            "10\n",
            "9\n"
          ],
          "name": "stdout"
        }
      ]
    },
    {
      "cell_type": "code",
      "metadata": {
        "id": "TmmVGGd3-bFw",
        "colab_type": "code",
        "colab": {
          "base_uri": "https://localhost:8080/",
          "height": 1000
        },
        "outputId": "9c7596f0-6aff-486c-af97-ed8fcf4d04c3"
      },
      "source": [
        "plot_count('PAY_DEC')\n",
        "plot_count('PAY_DEC', test)\n",
        "print(train['PAY_DEC'].nunique())\n",
        "print(test['PAY_DEC'].nunique())"
      ],
      "execution_count": 241,
      "outputs": [
        {
          "output_type": "stream",
          "text": [
            " 0    13045\n",
            "-1     4591\n",
            "-2     3885\n",
            " 2     2231\n",
            " 3      148\n",
            " 4       39\n",
            " 7       34\n",
            " 6       16\n",
            " 5        9\n",
            " 8        2\n",
            "Name: PAY_DEC, dtype: int64\n"
          ],
          "name": "stdout"
        },
        {
          "output_type": "display_data",
          "data": {
            "image/png": "[encoded data removed]",
            "text/plain": [
              "<Figure size 720x360 with 1 Axes>"
            ]
          },
          "metadata": {
            "tags": []
          }
        },
        {
          "output_type": "stream",
          "text": [
            " 0    3241\n",
            "-1    1149\n",
            "-2    1010\n",
            " 2     535\n",
            " 3      36\n",
            " 7      12\n",
            " 4      10\n",
            " 5       4\n",
            " 6       3\n",
            "Name: PAY_DEC, dtype: int64\n"
          ],
          "name": "stdout"
        },
        {
          "output_type": "display_data",
          "data": {
            "image/png": "[encoded data removed]",
            "text/plain": [
              "<Figure size 720x360 with 1 Axes>"
            ]
          },
          "metadata": {
            "tags": []
          }
        },
        {
          "output_type": "stream",
          "text": [
            "10\n",
            "9\n"
          ],
          "name": "stdout"
        }
      ]
    },
    {
      "cell_type": "code",
      "metadata": {
        "id": "aswaSB3P-aqQ",
        "colab_type": "code",
        "colab": {
          "base_uri": "https://localhost:8080/",
          "height": 406
        },
        "outputId": "d72f3fe4-ab13-48af-9def-538ee7a8b6c2"
      },
      "source": [
        "plot_count('NEXT_MONTH_DEFAULT')"
      ],
      "execution_count": 242,
      "outputs": [
        {
          "output_type": "stream",
          "text": [
            "0    18670\n",
            "1     5330\n",
            "Name: NEXT_MONTH_DEFAULT, dtype: int64\n"
          ],
          "name": "stdout"
        },
        {
          "output_type": "display_data",
          "data": {
            "image/png": "[encoded data removed]",
            "text/plain": [
              "<Figure size 720x360 with 1 Axes>"
            ]
          },
          "metadata": {
            "tags": []
          }
        }
      ]
    },
    {
      "cell_type": "markdown",
      "metadata": {
        "id": "lhmms_mmDPNo",
        "colab_type": "text"
      },
      "source": [
        "## Explore Continuous Data"
      ]
    },
    {
      "cell_type": "code",
      "metadata": {
        "id": "e_5wvWvd_DyP",
        "colab_type": "code",
        "colab": {
          "base_uri": "https://localhost:8080/",
          "height": 297
        },
        "outputId": "6df4b806-7aca-42d9-adad-2b6d8053d28c"
      },
      "source": [
        "basic_describe(due_features)"
      ],
      "execution_count": 243,
      "outputs": [
        {
          "output_type": "execute_result",
          "data": {
            "text/html": [
              "<div>\n",
              "<style scoped>\n",
              "    .dataframe tbody tr th:only-of-type {\n",
              "        vertical-align: middle;\n",
              "    }\n",
              "\n",
              "    .dataframe tbody tr th {\n",
              "        vertical-align: top;\n",
              "    }\n",
              "\n",
              "    .dataframe thead th {\n",
              "        text-align: right;\n",
              "    }\n",
              "</style>\n",
              "<table border=\"1\" class=\"dataframe\">\n",
              "  <thead>\n",
              "    <tr style=\"text-align: right;\">\n",
              "      <th></th>\n",
              "      <th>DUE_AMT_JULY</th>\n",
              "      <th>DUE_AMT_AUG</th>\n",
              "      <th>DUE_AMT_SEP</th>\n",
              "      <th>DUE_AMT_OCT</th>\n",
              "      <th>DUE_AMT_NOV</th>\n",
              "      <th>DUE_AMT_DEC</th>\n",
              "    </tr>\n",
              "  </thead>\n",
              "  <tbody>\n",
              "    <tr>\n",
              "      <th>count</th>\n",
              "      <td>24000.00</td>\n",
              "      <td>24000.00</td>\n",
              "      <td>24000.00</td>\n",
              "      <td>24000.00</td>\n",
              "      <td>24000.00</td>\n",
              "      <td>24000.00</td>\n",
              "    </tr>\n",
              "    <tr>\n",
              "      <th>mean</th>\n",
              "      <td>118869.73</td>\n",
              "      <td>114072.73</td>\n",
              "      <td>109243.53</td>\n",
              "      <td>100357.26</td>\n",
              "      <td>93776.99</td>\n",
              "      <td>90340.68</td>\n",
              "    </tr>\n",
              "    <tr>\n",
              "      <th>std</th>\n",
              "      <td>171042.42</td>\n",
              "      <td>165241.39</td>\n",
              "      <td>161473.65</td>\n",
              "      <td>149007.08</td>\n",
              "      <td>141738.94</td>\n",
              "      <td>138723.70</td>\n",
              "    </tr>\n",
              "    <tr>\n",
              "      <th>min</th>\n",
              "      <td>-382490.00</td>\n",
              "      <td>-161185.00</td>\n",
              "      <td>-142079.00</td>\n",
              "      <td>-392700.00</td>\n",
              "      <td>-187882.00</td>\n",
              "      <td>-784483.00</td>\n",
              "    </tr>\n",
              "    <tr>\n",
              "      <th>25%</th>\n",
              "      <td>8246.25</td>\n",
              "      <td>6968.75</td>\n",
              "      <td>6238.50</td>\n",
              "      <td>5429.00</td>\n",
              "      <td>4179.75</td>\n",
              "      <td>2913.00</td>\n",
              "    </tr>\n",
              "    <tr>\n",
              "      <th>50%</th>\n",
              "      <td>51568.50</td>\n",
              "      <td>48717.00</td>\n",
              "      <td>46411.50</td>\n",
              "      <td>44105.00</td>\n",
              "      <td>41863.00</td>\n",
              "      <td>39409.00</td>\n",
              "    </tr>\n",
              "    <tr>\n",
              "      <th>75%</th>\n",
              "      <td>156274.50</td>\n",
              "      <td>148905.00</td>\n",
              "      <td>140162.25</td>\n",
              "      <td>126975.00</td>\n",
              "      <td>116926.25</td>\n",
              "      <td>114435.25</td>\n",
              "    </tr>\n",
              "    <tr>\n",
              "      <th>max</th>\n",
              "      <td>2228020.00</td>\n",
              "      <td>2272881.00</td>\n",
              "      <td>3844046.00</td>\n",
              "      <td>2059564.00</td>\n",
              "      <td>2141765.00</td>\n",
              "      <td>2221444.00</td>\n",
              "    </tr>\n",
              "  </tbody>\n",
              "</table>\n",
              "</div>"
            ],
            "text/plain": [
              "       DUE_AMT_JULY  DUE_AMT_AUG  ...  DUE_AMT_NOV  DUE_AMT_DEC\n",
              "count      24000.00     24000.00  ...     24000.00     24000.00\n",
              "mean      118869.73    114072.73  ...     93776.99     90340.68\n",
              "std       171042.42    165241.39  ...    141738.94    138723.70\n",
              "min      -382490.00   -161185.00  ...   -187882.00   -784483.00\n",
              "25%         8246.25      6968.75  ...      4179.75      2913.00\n",
              "50%        51568.50     48717.00  ...     41863.00     39409.00\n",
              "75%       156274.50    148905.00  ...    116926.25    114435.25\n",
              "max      2228020.00   2272881.00  ...   2141765.00   2221444.00\n",
              "\n",
              "[8 rows x 6 columns]"
            ]
          },
          "metadata": {
            "tags": []
          },
          "execution_count": 243
        }
      ]
    },
    {
      "cell_type": "markdown",
      "metadata": {
        "id": "rA9TpVfQC-eq",
        "colab_type": "text"
      },
      "source": [
        "**A negative sign before the amount due in your credit card statement means that you have overpaid the due amount on your credit card. This amount would be adjusted in your next credit card bill.**"
      ]
    },
    {
      "cell_type": "code",
      "metadata": {
        "id": "eSRr7BlFDWgt",
        "colab_type": "code",
        "colab": {
          "base_uri": "https://localhost:8080/",
          "height": 1000
        },
        "outputId": "38954d92-2ba5-4610-97a3-9ffdff1abffc"
      },
      "source": [
        "for feature in due_features:\n",
        "  draw_distplot(feature)"
      ],
      "execution_count": 244,
      "outputs": [
        {
          "output_type": "display_data",
          "data": {
            "image/png": "[encoded data removed]",
            "text/plain": [
              "<Figure size 1152x360 with 1 Axes>"
            ]
          },
          "metadata": {
            "tags": []
          }
        },
        {
          "output_type": "display_data",
          "data": {
            "image/png": "[encoded data removed]",
            "text/plain": [
              "<Figure size 1152x360 with 1 Axes>"
            ]
          },
          "metadata": {
            "tags": []
          }
        },
        {
          "output_type": "display_data",
          "data": {
            "image/png": "[encoded data removed]",
            "text/plain": [
              "<Figure size 1152x360 with 1 Axes>"
            ]
          },
          "metadata": {
            "tags": []
          }
        },
        {
          "output_type": "display_data",
          "data": {
            "image/png": "[encoded data removed]",
            "text/plain": [
              "<Figure size 1152x360 with 1 Axes>"
            ]
          },
          "metadata": {
            "tags": []
          }
        },
        {
          "output_type": "display_data",
          "data": {
            "image/png": "[encoded data removed]",
            "text/plain": [
              "<Figure size 1152x360 with 1 Axes>"
            ]
          },
          "metadata": {
            "tags": []
          }
        },
        {
          "output_type": "display_data",
          "data": {
            "image/png": "[encoded data removed]",
            "text/plain": [
              "<Figure size 1152x360 with 1 Axes>"
            ]
          },
          "metadata": {
            "tags": []
          }
        }
      ]
    },
    {
      "cell_type": "code",
      "metadata": {
        "id": "HlyJvRnqCh4X",
        "colab_type": "code",
        "colab": {
          "base_uri": "https://localhost:8080/",
          "height": 297
        },
        "outputId": "bf0ebac8-825b-42ad-8af6-2b36b4376db0"
      },
      "source": [
        "basic_describe(paid_features)"
      ],
      "execution_count": 245,
      "outputs": [
        {
          "output_type": "execute_result",
          "data": {
            "text/html": [
              "<div>\n",
              "<style scoped>\n",
              "    .dataframe tbody tr th:only-of-type {\n",
              "        vertical-align: middle;\n",
              "    }\n",
              "\n",
              "    .dataframe tbody tr th {\n",
              "        vertical-align: top;\n",
              "    }\n",
              "\n",
              "    .dataframe thead th {\n",
              "        text-align: right;\n",
              "    }\n",
              "</style>\n",
              "<table border=\"1\" class=\"dataframe\">\n",
              "  <thead>\n",
              "    <tr style=\"text-align: right;\">\n",
              "      <th></th>\n",
              "      <th>PAID_AMT_JULY</th>\n",
              "      <th>PAID_AMT_AUG</th>\n",
              "      <th>PAID_AMT_SEP</th>\n",
              "      <th>PAID_AMT_OCT</th>\n",
              "      <th>PAID_AMT_NOV</th>\n",
              "      <th>PAID_AMT_DEC</th>\n",
              "    </tr>\n",
              "  </thead>\n",
              "  <tbody>\n",
              "    <tr>\n",
              "      <th>count</th>\n",
              "      <td>24000.00</td>\n",
              "      <td>24000.00</td>\n",
              "      <td>24000.00</td>\n",
              "      <td>24000.00</td>\n",
              "      <td>24000.00</td>\n",
              "      <td>24000.00</td>\n",
              "    </tr>\n",
              "    <tr>\n",
              "      <th>mean</th>\n",
              "      <td>13306.48</td>\n",
              "      <td>13866.75</td>\n",
              "      <td>12093.12</td>\n",
              "      <td>11225.27</td>\n",
              "      <td>11174.74</td>\n",
              "      <td>12301.22</td>\n",
              "    </tr>\n",
              "    <tr>\n",
              "      <th>std</th>\n",
              "      <td>39357.42</td>\n",
              "      <td>56485.88</td>\n",
              "      <td>40659.24</td>\n",
              "      <td>36246.93</td>\n",
              "      <td>36040.82</td>\n",
              "      <td>42338.48</td>\n",
              "    </tr>\n",
              "    <tr>\n",
              "      <th>min</th>\n",
              "      <td>0.00</td>\n",
              "      <td>0.00</td>\n",
              "      <td>0.00</td>\n",
              "      <td>0.00</td>\n",
              "      <td>0.00</td>\n",
              "      <td>0.00</td>\n",
              "    </tr>\n",
              "    <tr>\n",
              "      <th>25%</th>\n",
              "      <td>2310.00</td>\n",
              "      <td>1956.00</td>\n",
              "      <td>901.00</td>\n",
              "      <td>693.00</td>\n",
              "      <td>610.00</td>\n",
              "      <td>307.00</td>\n",
              "    </tr>\n",
              "    <tr>\n",
              "      <th>50%</th>\n",
              "      <td>4920.00</td>\n",
              "      <td>4646.50</td>\n",
              "      <td>4197.00</td>\n",
              "      <td>3465.00</td>\n",
              "      <td>3465.00</td>\n",
              "      <td>3465.00</td>\n",
              "    </tr>\n",
              "    <tr>\n",
              "      <th>75%</th>\n",
              "      <td>11605.00</td>\n",
              "      <td>11550.00</td>\n",
              "      <td>10626.00</td>\n",
              "      <td>9360.00</td>\n",
              "      <td>9411.50</td>\n",
              "      <td>9252.50</td>\n",
              "    </tr>\n",
              "    <tr>\n",
              "      <th>max</th>\n",
              "      <td>2017905.00</td>\n",
              "      <td>3890638.00</td>\n",
              "      <td>2069852.00</td>\n",
              "      <td>1434510.00</td>\n",
              "      <td>965557.00</td>\n",
              "      <td>1221218.00</td>\n",
              "    </tr>\n",
              "  </tbody>\n",
              "</table>\n",
              "</div>"
            ],
            "text/plain": [
              "       PAID_AMT_JULY  PAID_AMT_AUG  ...  PAID_AMT_NOV  PAID_AMT_DEC\n",
              "count       24000.00      24000.00  ...      24000.00      24000.00\n",
              "mean        13306.48      13866.75  ...      11174.74      12301.22\n",
              "std         39357.42      56485.88  ...      36040.82      42338.48\n",
              "min             0.00          0.00  ...          0.00          0.00\n",
              "25%          2310.00       1956.00  ...        610.00        307.00\n",
              "50%          4920.00       4646.50  ...       3465.00       3465.00\n",
              "75%         11605.00      11550.00  ...       9411.50       9252.50\n",
              "max       2017905.00    3890638.00  ...     965557.00    1221218.00\n",
              "\n",
              "[8 rows x 6 columns]"
            ]
          },
          "metadata": {
            "tags": []
          },
          "execution_count": 245
        }
      ]
    },
    {
      "cell_type": "code",
      "metadata": {
        "id": "hjbPLbJwClbC",
        "colab_type": "code",
        "colab": {
          "base_uri": "https://localhost:8080/",
          "height": 129
        },
        "outputId": "26b03145-7e07-41b6-923a-4d747dd7d5a8"
      },
      "source": [
        "\"for feature in paid_features:\n",
        "  draw_distplot(feature)"
      ],
      "execution_count": 246,
      "outputs": [
        {
          "output_type": "error",
          "ename": "SyntaxError",
          "evalue": "ignored",
          "traceback": [
            "\u001b[0;36m  File \u001b[0;32m\"<ipython-input-246-a2eb3e0bb71c>\"\u001b[0;36m, line \u001b[0;32m1\u001b[0m\n\u001b[0;31m    \"for feature in paid_features:\u001b[0m\n\u001b[0m                                  ^\u001b[0m\n\u001b[0;31mSyntaxError\u001b[0m\u001b[0;31m:\u001b[0m EOL while scanning string literal\n"
          ]
        }
      ]
    },
    {
      "cell_type": "markdown",
      "metadata": {
        "id": "mJ9sH377GYta",
        "colab_type": "text"
      },
      "source": [
        "# Feature Engineering"
      ]
    },
    {
      "cell_type": "markdown",
      "metadata": {
        "id": "bM8jvO_wYZLz",
        "colab_type": "text"
      },
      "source": [
        "### Categorical Variable Preprocessing"
      ]
    },
    {
      "cell_type": "code",
      "metadata": {
        "id": "eYES6zdZFAS3",
        "colab_type": "code",
        "colab": {}
      },
      "source": [
        "# from sklearn.preprocessing import OneHotEncoder, LabelEncoder"
      ],
      "execution_count": 0,
      "outputs": []
    },
    {
      "cell_type": "code",
      "metadata": {
        "id": "mm8R4XvHHA_M",
        "colab_type": "code",
        "colab": {}
      },
      "source": [
        "# le = LabelEncoder()\n",
        "\n",
        "# for feature in cat_features:\n",
        "#   le.fit(train[feature])\n",
        "#   train[feature] = le.transform(train[feature])\n",
        "#   test[feature] = le.transform(test[feature])"
      ],
      "execution_count": 0,
      "outputs": []
    },
    {
      "cell_type": "code",
      "metadata": {
        "id": "imzwbprVI5IJ",
        "colab_type": "code",
        "colab": {
          "base_uri": "https://localhost:8080/",
          "height": 442
        },
        "outputId": "014fd85e-749f-436a-ce03-513ac7bda91c"
      },
      "source": [
        "print(train[cat_features].nunique())\n",
        "print(\"******************\")\n",
        "print(test[cat_features].nunique())"
      ],
      "execution_count": 251,
      "outputs": [
        {
          "output_type": "stream",
          "text": [
            "Balance_Limit_V1     8\n",
            "Gender               2\n",
            "EDUCATION_STATUS     3\n",
            "MARITAL_STATUS       2\n",
            "AGE                  4\n",
            "PAY_JULY            11\n",
            "PAY_AUG             11\n",
            "PAY_SEP             11\n",
            "PAY_OCT             11\n",
            "PAY_NOV             10\n",
            "PAY_DEC             10\n",
            "dtype: int64\n",
            "******************\n",
            "Balance_Limit_V1     8\n",
            "Gender               2\n",
            "EDUCATION_STATUS     3\n",
            "MARITAL_STATUS       2\n",
            "AGE                  4\n",
            "PAY_JULY            11\n",
            "PAY_AUG             10\n",
            "PAY_SEP             10\n",
            "PAY_OCT              9\n",
            "PAY_NOV              9\n",
            "PAY_DEC              9\n",
            "dtype: int64\n"
          ],
          "name": "stdout"
        }
      ]
    },
    {
      "cell_type": "code",
      "metadata": {
        "id": "2JIDFu6pJLmD",
        "colab_type": "code",
        "colab": {}
      },
      "source": [
        "train_test = pd.concat([train, test], axis=0)"
      ],
      "execution_count": 0,
      "outputs": []
    },
    {
      "cell_type": "code",
      "metadata": {
        "id": "2w25JTC7MDbe",
        "colab_type": "code",
        "colab": {
          "base_uri": "https://localhost:8080/",
          "height": 326
        },
        "outputId": "38669c90-1983-4e57-a098-726bc5e66daf"
      },
      "source": [
        "train_test.head()"
      ],
      "execution_count": 265,
      "outputs": [
        {
          "output_type": "execute_result",
          "data": {
            "text/html": [
              "<div>\n",
              "<style scoped>\n",
              "    .dataframe tbody tr th:only-of-type {\n",
              "        vertical-align: middle;\n",
              "    }\n",
              "\n",
              "    .dataframe tbody tr th {\n",
              "        vertical-align: top;\n",
              "    }\n",
              "\n",
              "    .dataframe thead th {\n",
              "        text-align: right;\n",
              "    }\n",
              "</style>\n",
              "<table border=\"1\" class=\"dataframe\">\n",
              "  <thead>\n",
              "    <tr style=\"text-align: right;\">\n",
              "      <th></th>\n",
              "      <th>AGE</th>\n",
              "      <th>Balance_Limit_V1</th>\n",
              "      <th>Client_ID</th>\n",
              "      <th>DUE_AMT_AUG</th>\n",
              "      <th>DUE_AMT_DEC</th>\n",
              "      <th>DUE_AMT_JULY</th>\n",
              "      <th>DUE_AMT_NOV</th>\n",
              "      <th>DUE_AMT_OCT</th>\n",
              "      <th>DUE_AMT_SEP</th>\n",
              "      <th>EDUCATION_STATUS</th>\n",
              "      <th>Gender</th>\n",
              "      <th>MARITAL_STATUS</th>\n",
              "      <th>NEXT_MONTH_DEFAULT</th>\n",
              "      <th>PAID_AMT_AUG</th>\n",
              "      <th>PAID_AMT_DEC</th>\n",
              "      <th>PAID_AMT_JULY</th>\n",
              "      <th>PAID_AMT_NOV</th>\n",
              "      <th>PAID_AMT_OCT</th>\n",
              "      <th>PAID_AMT_SEP</th>\n",
              "      <th>PAY_AUG</th>\n",
              "      <th>PAY_DEC</th>\n",
              "      <th>PAY_JULY</th>\n",
              "      <th>PAY_NOV</th>\n",
              "      <th>PAY_OCT</th>\n",
              "      <th>PAY_SEP</th>\n",
              "    </tr>\n",
              "  </thead>\n",
              "  <tbody>\n",
              "    <tr>\n",
              "      <th>0</th>\n",
              "      <td>31-45</td>\n",
              "      <td>1M</td>\n",
              "      <td>A2</td>\n",
              "      <td>3389</td>\n",
              "      <td>-13982</td>\n",
              "      <td>3248</td>\n",
              "      <td>162772</td>\n",
              "      <td>39418</td>\n",
              "      <td>6004</td>\n",
              "      <td>Graduate</td>\n",
              "      <td>M</td>\n",
              "      <td>Other</td>\n",
              "      <td>0.00</td>\n",
              "      <td>6004</td>\n",
              "      <td>538165</td>\n",
              "      <td>3437</td>\n",
              "      <td>0</td>\n",
              "      <td>162772</td>\n",
              "      <td>39418</td>\n",
              "      <td>-1</td>\n",
              "      <td>-1</td>\n",
              "      <td>-1</td>\n",
              "      <td>-1</td>\n",
              "      <td>-1</td>\n",
              "      <td>-1</td>\n",
              "    </tr>\n",
              "    <tr>\n",
              "      <th>1</th>\n",
              "      <td>Less than 30</td>\n",
              "      <td>1M</td>\n",
              "      <td>A3</td>\n",
              "      <td>151818</td>\n",
              "      <td>124590</td>\n",
              "      <td>353351</td>\n",
              "      <td>80811</td>\n",
              "      <td>43530</td>\n",
              "      <td>26948</td>\n",
              "      <td>High School</td>\n",
              "      <td>F</td>\n",
              "      <td>Other</td>\n",
              "      <td>0.00</td>\n",
              "      <td>46200</td>\n",
              "      <td>33666</td>\n",
              "      <td>151818</td>\n",
              "      <td>942</td>\n",
              "      <td>80811</td>\n",
              "      <td>43530</td>\n",
              "      <td>-1</td>\n",
              "      <td>0</td>\n",
              "      <td>0</td>\n",
              "      <td>-1</td>\n",
              "      <td>-1</td>\n",
              "      <td>-1</td>\n",
              "    </tr>\n",
              "    <tr>\n",
              "      <th>2</th>\n",
              "      <td>31-45</td>\n",
              "      <td>100K</td>\n",
              "      <td>A4</td>\n",
              "      <td>16082</td>\n",
              "      <td>0</td>\n",
              "      <td>16681</td>\n",
              "      <td>0</td>\n",
              "      <td>0</td>\n",
              "      <td>15477</td>\n",
              "      <td>High School</td>\n",
              "      <td>F</td>\n",
              "      <td>Single</td>\n",
              "      <td>1.00</td>\n",
              "      <td>0</td>\n",
              "      <td>0</td>\n",
              "      <td>0</td>\n",
              "      <td>0</td>\n",
              "      <td>0</td>\n",
              "      <td>0</td>\n",
              "      <td>3</td>\n",
              "      <td>-2</td>\n",
              "      <td>4</td>\n",
              "      <td>-2</td>\n",
              "      <td>2</td>\n",
              "      <td>2</td>\n",
              "    </tr>\n",
              "    <tr>\n",
              "      <th>3</th>\n",
              "      <td>31-45</td>\n",
              "      <td>200K</td>\n",
              "      <td>A5</td>\n",
              "      <td>92848</td>\n",
              "      <td>102740</td>\n",
              "      <td>90457</td>\n",
              "      <td>100353</td>\n",
              "      <td>97309</td>\n",
              "      <td>95193</td>\n",
              "      <td>Graduate</td>\n",
              "      <td>F</td>\n",
              "      <td>Single</td>\n",
              "      <td>1.00</td>\n",
              "      <td>3890</td>\n",
              "      <td>3918</td>\n",
              "      <td>3855</td>\n",
              "      <td>4049</td>\n",
              "      <td>4620</td>\n",
              "      <td>3696</td>\n",
              "      <td>0</td>\n",
              "      <td>0</td>\n",
              "      <td>2</td>\n",
              "      <td>0</td>\n",
              "      <td>0</td>\n",
              "      <td>0</td>\n",
              "    </tr>\n",
              "    <tr>\n",
              "      <th>4</th>\n",
              "      <td>31-45</td>\n",
              "      <td>1M</td>\n",
              "      <td>A6</td>\n",
              "      <td>419466</td>\n",
              "      <td>453899</td>\n",
              "      <td>429556</td>\n",
              "      <td>445271</td>\n",
              "      <td>435354</td>\n",
              "      <td>429785</td>\n",
              "      <td>Graduate</td>\n",
              "      <td>F</td>\n",
              "      <td>Other</td>\n",
              "      <td>0.00</td>\n",
              "      <td>20790</td>\n",
              "      <td>17325</td>\n",
              "      <td>0</td>\n",
              "      <td>16401</td>\n",
              "      <td>17325</td>\n",
              "      <td>16170</td>\n",
              "      <td>2</td>\n",
              "      <td>0</td>\n",
              "      <td>2</td>\n",
              "      <td>0</td>\n",
              "      <td>0</td>\n",
              "      <td>0</td>\n",
              "    </tr>\n",
              "  </tbody>\n",
              "</table>\n",
              "</div>"
            ],
            "text/plain": [
              "            AGE Balance_Limit_V1 Client_ID  ...  PAY_NOV  PAY_OCT  PAY_SEP\n",
              "0         31-45               1M        A2  ...       -1       -1       -1\n",
              "1  Less than 30               1M        A3  ...       -1       -1       -1\n",
              "2         31-45             100K        A4  ...       -2        2        2\n",
              "3         31-45             200K        A5  ...        0        0        0\n",
              "4         31-45               1M        A6  ...        0        0        0\n",
              "\n",
              "[5 rows x 25 columns]"
            ]
          },
          "metadata": {
            "tags": []
          },
          "execution_count": 265
        }
      ]
    },
    {
      "cell_type": "code",
      "metadata": {
        "id": "WQQIs3q9MOKN",
        "colab_type": "code",
        "colab": {
          "base_uri": "https://localhost:8080/",
          "height": 309
        },
        "outputId": "abf364b0-bd7d-49a9-f8ce-1e3ef1eec539"
      },
      "source": [
        "train_test.tail()"
      ],
      "execution_count": 266,
      "outputs": [
        {
          "output_type": "execute_result",
          "data": {
            "text/html": [
              "<div>\n",
              "<style scoped>\n",
              "    .dataframe tbody tr th:only-of-type {\n",
              "        vertical-align: middle;\n",
              "    }\n",
              "\n",
              "    .dataframe tbody tr th {\n",
              "        vertical-align: top;\n",
              "    }\n",
              "\n",
              "    .dataframe thead th {\n",
              "        text-align: right;\n",
              "    }\n",
              "</style>\n",
              "<table border=\"1\" class=\"dataframe\">\n",
              "  <thead>\n",
              "    <tr style=\"text-align: right;\">\n",
              "      <th></th>\n",
              "      <th>AGE</th>\n",
              "      <th>Balance_Limit_V1</th>\n",
              "      <th>Client_ID</th>\n",
              "      <th>DUE_AMT_AUG</th>\n",
              "      <th>DUE_AMT_DEC</th>\n",
              "      <th>DUE_AMT_JULY</th>\n",
              "      <th>DUE_AMT_NOV</th>\n",
              "      <th>DUE_AMT_OCT</th>\n",
              "      <th>DUE_AMT_SEP</th>\n",
              "      <th>EDUCATION_STATUS</th>\n",
              "      <th>Gender</th>\n",
              "      <th>MARITAL_STATUS</th>\n",
              "      <th>NEXT_MONTH_DEFAULT</th>\n",
              "      <th>PAID_AMT_AUG</th>\n",
              "      <th>PAID_AMT_DEC</th>\n",
              "      <th>PAID_AMT_JULY</th>\n",
              "      <th>PAID_AMT_NOV</th>\n",
              "      <th>PAID_AMT_OCT</th>\n",
              "      <th>PAID_AMT_SEP</th>\n",
              "      <th>PAY_AUG</th>\n",
              "      <th>PAY_DEC</th>\n",
              "      <th>PAY_JULY</th>\n",
              "      <th>PAY_NOV</th>\n",
              "      <th>PAY_OCT</th>\n",
              "      <th>PAY_SEP</th>\n",
              "    </tr>\n",
              "  </thead>\n",
              "  <tbody>\n",
              "    <tr>\n",
              "      <th>5995</th>\n",
              "      <td>31-45</td>\n",
              "      <td>1M</td>\n",
              "      <td>A11104</td>\n",
              "      <td>515604</td>\n",
              "      <td>461148</td>\n",
              "      <td>512728</td>\n",
              "      <td>475236</td>\n",
              "      <td>470226</td>\n",
              "      <td>522982</td>\n",
              "      <td>High School</td>\n",
              "      <td>M</td>\n",
              "      <td>Other</td>\n",
              "      <td>nan</td>\n",
              "      <td>23100</td>\n",
              "      <td>16170</td>\n",
              "      <td>21945</td>\n",
              "      <td>18457</td>\n",
              "      <td>17325</td>\n",
              "      <td>16401</td>\n",
              "      <td>0</td>\n",
              "      <td>0</td>\n",
              "      <td>0</td>\n",
              "      <td>0</td>\n",
              "      <td>0</td>\n",
              "      <td>0</td>\n",
              "    </tr>\n",
              "    <tr>\n",
              "      <th>5996</th>\n",
              "      <td>31-45</td>\n",
              "      <td>1.5M</td>\n",
              "      <td>A2781</td>\n",
              "      <td>1155</td>\n",
              "      <td>-7</td>\n",
              "      <td>1610</td>\n",
              "      <td>1065</td>\n",
              "      <td>0</td>\n",
              "      <td>0</td>\n",
              "      <td>Graduate</td>\n",
              "      <td>F</td>\n",
              "      <td>Single</td>\n",
              "      <td>nan</td>\n",
              "      <td>0</td>\n",
              "      <td>0</td>\n",
              "      <td>1167</td>\n",
              "      <td>7</td>\n",
              "      <td>1065</td>\n",
              "      <td>0</td>\n",
              "      <td>-1</td>\n",
              "      <td>-1</td>\n",
              "      <td>-1</td>\n",
              "      <td>-1</td>\n",
              "      <td>-2</td>\n",
              "      <td>-1</td>\n",
              "    </tr>\n",
              "    <tr>\n",
              "      <th>5997</th>\n",
              "      <td>31-45</td>\n",
              "      <td>300K</td>\n",
              "      <td>A1767</td>\n",
              "      <td>106422</td>\n",
              "      <td>93403</td>\n",
              "      <td>188646</td>\n",
              "      <td>87965</td>\n",
              "      <td>85075</td>\n",
              "      <td>79508</td>\n",
              "      <td>Other</td>\n",
              "      <td>M</td>\n",
              "      <td>Single</td>\n",
              "      <td>nan</td>\n",
              "      <td>4620</td>\n",
              "      <td>11550</td>\n",
              "      <td>5683</td>\n",
              "      <td>6930</td>\n",
              "      <td>4620</td>\n",
              "      <td>6930</td>\n",
              "      <td>0</td>\n",
              "      <td>0</td>\n",
              "      <td>0</td>\n",
              "      <td>0</td>\n",
              "      <td>0</td>\n",
              "      <td>0</td>\n",
              "    </tr>\n",
              "    <tr>\n",
              "      <th>5998</th>\n",
              "      <td>46-65</td>\n",
              "      <td>200K</td>\n",
              "      <td>A1850</td>\n",
              "      <td>1677</td>\n",
              "      <td>34650</td>\n",
              "      <td>1677</td>\n",
              "      <td>34650</td>\n",
              "      <td>34650</td>\n",
              "      <td>35574</td>\n",
              "      <td>High School</td>\n",
              "      <td>M</td>\n",
              "      <td>Single</td>\n",
              "      <td>nan</td>\n",
              "      <td>35574</td>\n",
              "      <td>231</td>\n",
              "      <td>0</td>\n",
              "      <td>0</td>\n",
              "      <td>0</td>\n",
              "      <td>0</td>\n",
              "      <td>2</td>\n",
              "      <td>0</td>\n",
              "      <td>-1</td>\n",
              "      <td>0</td>\n",
              "      <td>0</td>\n",
              "      <td>-1</td>\n",
              "    </tr>\n",
              "    <tr>\n",
              "      <th>5999</th>\n",
              "      <td>31-45</td>\n",
              "      <td>1.5M</td>\n",
              "      <td>A26905</td>\n",
              "      <td>396315</td>\n",
              "      <td>354234</td>\n",
              "      <td>359944</td>\n",
              "      <td>322839</td>\n",
              "      <td>351963</td>\n",
              "      <td>426846</td>\n",
              "      <td>Other</td>\n",
              "      <td>F</td>\n",
              "      <td>Single</td>\n",
              "      <td>nan</td>\n",
              "      <td>46757</td>\n",
              "      <td>46285</td>\n",
              "      <td>46200</td>\n",
              "      <td>46549</td>\n",
              "      <td>46244</td>\n",
              "      <td>46556</td>\n",
              "      <td>0</td>\n",
              "      <td>0</td>\n",
              "      <td>0</td>\n",
              "      <td>0</td>\n",
              "      <td>0</td>\n",
              "      <td>0</td>\n",
              "    </tr>\n",
              "  </tbody>\n",
              "</table>\n",
              "</div>"
            ],
            "text/plain": [
              "        AGE Balance_Limit_V1 Client_ID  ...  PAY_NOV  PAY_OCT  PAY_SEP\n",
              "5995  31-45               1M    A11104  ...        0        0        0\n",
              "5996  31-45             1.5M     A2781  ...       -1       -2       -1\n",
              "5997  31-45             300K     A1767  ...        0        0        0\n",
              "5998  46-65             200K     A1850  ...        0        0       -1\n",
              "5999  31-45             1.5M    A26905  ...        0        0        0\n",
              "\n",
              "[5 rows x 25 columns]"
            ]
          },
          "metadata": {
            "tags": []
          },
          "execution_count": 266
        }
      ]
    },
    {
      "cell_type": "code",
      "metadata": {
        "id": "cqXWpN_CMHem",
        "colab_type": "code",
        "colab": {
          "base_uri": "https://localhost:8080/",
          "height": 34
        },
        "outputId": "c2f39432-6592-4f4d-e6b6-7b4516bc152a"
      },
      "source": [
        "train_test.shape"
      ],
      "execution_count": 267,
      "outputs": [
        {
          "output_type": "execute_result",
          "data": {
            "text/plain": [
              "(30000, 25)"
            ]
          },
          "metadata": {
            "tags": []
          },
          "execution_count": 267
        }
      ]
    },
    {
      "cell_type": "code",
      "metadata": {
        "id": "OcAmcBhx705N",
        "colab_type": "code",
        "colab": {}
      },
      "source": [
        "for feature in pay_int:\n",
        "  train_test.loc[train_test[feature] <= 0,feature]=0"
      ],
      "execution_count": 0,
      "outputs": []
    },
    {
      "cell_type": "code",
      "metadata": {
        "id": "h-hLgnR79UBQ",
        "colab_type": "code",
        "colab": {
          "base_uri": "https://localhost:8080/",
          "height": 326
        },
        "outputId": "0b053259-ee7c-4d5f-9231-bf07d3786ddc"
      },
      "source": [
        "train_test['delayed_months'] = train_test[pay_int].sum(axis=1)\n",
        "train_test.head()"
      ],
      "execution_count": 276,
      "outputs": [
        {
          "output_type": "execute_result",
          "data": {
            "text/html": [
              "<div>\n",
              "<style scoped>\n",
              "    .dataframe tbody tr th:only-of-type {\n",
              "        vertical-align: middle;\n",
              "    }\n",
              "\n",
              "    .dataframe tbody tr th {\n",
              "        vertical-align: top;\n",
              "    }\n",
              "\n",
              "    .dataframe thead th {\n",
              "        text-align: right;\n",
              "    }\n",
              "</style>\n",
              "<table border=\"1\" class=\"dataframe\">\n",
              "  <thead>\n",
              "    <tr style=\"text-align: right;\">\n",
              "      <th></th>\n",
              "      <th>AGE</th>\n",
              "      <th>Balance_Limit_V1</th>\n",
              "      <th>Client_ID</th>\n",
              "      <th>DUE_AMT_AUG</th>\n",
              "      <th>DUE_AMT_DEC</th>\n",
              "      <th>DUE_AMT_JULY</th>\n",
              "      <th>DUE_AMT_NOV</th>\n",
              "      <th>DUE_AMT_OCT</th>\n",
              "      <th>DUE_AMT_SEP</th>\n",
              "      <th>EDUCATION_STATUS</th>\n",
              "      <th>Gender</th>\n",
              "      <th>MARITAL_STATUS</th>\n",
              "      <th>NEXT_MONTH_DEFAULT</th>\n",
              "      <th>PAID_AMT_AUG</th>\n",
              "      <th>PAID_AMT_DEC</th>\n",
              "      <th>PAID_AMT_JULY</th>\n",
              "      <th>PAID_AMT_NOV</th>\n",
              "      <th>PAID_AMT_OCT</th>\n",
              "      <th>PAID_AMT_SEP</th>\n",
              "      <th>PAY_AUG</th>\n",
              "      <th>PAY_DEC</th>\n",
              "      <th>PAY_JULY</th>\n",
              "      <th>PAY_NOV</th>\n",
              "      <th>PAY_OCT</th>\n",
              "      <th>PAY_SEP</th>\n",
              "      <th>delayed_months</th>\n",
              "    </tr>\n",
              "  </thead>\n",
              "  <tbody>\n",
              "    <tr>\n",
              "      <th>0</th>\n",
              "      <td>31-45</td>\n",
              "      <td>1M</td>\n",
              "      <td>A2</td>\n",
              "      <td>3389</td>\n",
              "      <td>-13982</td>\n",
              "      <td>3248</td>\n",
              "      <td>162772</td>\n",
              "      <td>39418</td>\n",
              "      <td>6004</td>\n",
              "      <td>Graduate</td>\n",
              "      <td>M</td>\n",
              "      <td>Other</td>\n",
              "      <td>0.00</td>\n",
              "      <td>6004</td>\n",
              "      <td>538165</td>\n",
              "      <td>3437</td>\n",
              "      <td>0</td>\n",
              "      <td>162772</td>\n",
              "      <td>39418</td>\n",
              "      <td>0</td>\n",
              "      <td>0</td>\n",
              "      <td>0</td>\n",
              "      <td>0</td>\n",
              "      <td>0</td>\n",
              "      <td>0</td>\n",
              "      <td>0</td>\n",
              "    </tr>\n",
              "    <tr>\n",
              "      <th>1</th>\n",
              "      <td>Less than 30</td>\n",
              "      <td>1M</td>\n",
              "      <td>A3</td>\n",
              "      <td>151818</td>\n",
              "      <td>124590</td>\n",
              "      <td>353351</td>\n",
              "      <td>80811</td>\n",
              "      <td>43530</td>\n",
              "      <td>26948</td>\n",
              "      <td>High School</td>\n",
              "      <td>F</td>\n",
              "      <td>Other</td>\n",
              "      <td>0.00</td>\n",
              "      <td>46200</td>\n",
              "      <td>33666</td>\n",
              "      <td>151818</td>\n",
              "      <td>942</td>\n",
              "      <td>80811</td>\n",
              "      <td>43530</td>\n",
              "      <td>0</td>\n",
              "      <td>0</td>\n",
              "      <td>0</td>\n",
              "      <td>0</td>\n",
              "      <td>0</td>\n",
              "      <td>0</td>\n",
              "      <td>0</td>\n",
              "    </tr>\n",
              "    <tr>\n",
              "      <th>2</th>\n",
              "      <td>31-45</td>\n",
              "      <td>100K</td>\n",
              "      <td>A4</td>\n",
              "      <td>16082</td>\n",
              "      <td>0</td>\n",
              "      <td>16681</td>\n",
              "      <td>0</td>\n",
              "      <td>0</td>\n",
              "      <td>15477</td>\n",
              "      <td>High School</td>\n",
              "      <td>F</td>\n",
              "      <td>Single</td>\n",
              "      <td>1.00</td>\n",
              "      <td>0</td>\n",
              "      <td>0</td>\n",
              "      <td>0</td>\n",
              "      <td>0</td>\n",
              "      <td>0</td>\n",
              "      <td>0</td>\n",
              "      <td>3</td>\n",
              "      <td>0</td>\n",
              "      <td>4</td>\n",
              "      <td>0</td>\n",
              "      <td>2</td>\n",
              "      <td>2</td>\n",
              "      <td>11</td>\n",
              "    </tr>\n",
              "    <tr>\n",
              "      <th>3</th>\n",
              "      <td>31-45</td>\n",
              "      <td>200K</td>\n",
              "      <td>A5</td>\n",
              "      <td>92848</td>\n",
              "      <td>102740</td>\n",
              "      <td>90457</td>\n",
              "      <td>100353</td>\n",
              "      <td>97309</td>\n",
              "      <td>95193</td>\n",
              "      <td>Graduate</td>\n",
              "      <td>F</td>\n",
              "      <td>Single</td>\n",
              "      <td>1.00</td>\n",
              "      <td>3890</td>\n",
              "      <td>3918</td>\n",
              "      <td>3855</td>\n",
              "      <td>4049</td>\n",
              "      <td>4620</td>\n",
              "      <td>3696</td>\n",
              "      <td>0</td>\n",
              "      <td>0</td>\n",
              "      <td>2</td>\n",
              "      <td>0</td>\n",
              "      <td>0</td>\n",
              "      <td>0</td>\n",
              "      <td>2</td>\n",
              "    </tr>\n",
              "    <tr>\n",
              "      <th>4</th>\n",
              "      <td>31-45</td>\n",
              "      <td>1M</td>\n",
              "      <td>A6</td>\n",
              "      <td>419466</td>\n",
              "      <td>453899</td>\n",
              "      <td>429556</td>\n",
              "      <td>445271</td>\n",
              "      <td>435354</td>\n",
              "      <td>429785</td>\n",
              "      <td>Graduate</td>\n",
              "      <td>F</td>\n",
              "      <td>Other</td>\n",
              "      <td>0.00</td>\n",
              "      <td>20790</td>\n",
              "      <td>17325</td>\n",
              "      <td>0</td>\n",
              "      <td>16401</td>\n",
              "      <td>17325</td>\n",
              "      <td>16170</td>\n",
              "      <td>2</td>\n",
              "      <td>0</td>\n",
              "      <td>2</td>\n",
              "      <td>0</td>\n",
              "      <td>0</td>\n",
              "      <td>0</td>\n",
              "      <td>4</td>\n",
              "    </tr>\n",
              "  </tbody>\n",
              "</table>\n",
              "</div>"
            ],
            "text/plain": [
              "            AGE Balance_Limit_V1 Client_ID  ...  PAY_OCT  PAY_SEP  delayed_months\n",
              "0         31-45               1M        A2  ...        0        0               0\n",
              "1  Less than 30               1M        A3  ...        0        0               0\n",
              "2         31-45             100K        A4  ...        2        2              11\n",
              "3         31-45             200K        A5  ...        0        0               2\n",
              "4         31-45               1M        A6  ...        0        0               4\n",
              "\n",
              "[5 rows x 26 columns]"
            ]
          },
          "metadata": {
            "tags": []
          },
          "execution_count": 276
        }
      ]
    },
    {
      "cell_type": "code",
      "metadata": {
        "id": "5UlYYLuh-H8K",
        "colab_type": "code",
        "colab": {}
      },
      "source": [
        "numerical_features = due_features+ paid_features+['delayed_months']"
      ],
      "execution_count": 0,
      "outputs": []
    },
    {
      "cell_type": "code",
      "metadata": {
        "id": "NGxR8UlZ_vJ4",
        "colab_type": "code",
        "colab": {
          "base_uri": "https://localhost:8080/",
          "height": 238
        },
        "outputId": "6c05592b-9b47-423a-bb72-086f8e9b8d1f"
      },
      "source": [
        "numerical_features"
      ],
      "execution_count": 281,
      "outputs": [
        {
          "output_type": "execute_result",
          "data": {
            "text/plain": [
              "['DUE_AMT_JULY',\n",
              " 'DUE_AMT_AUG',\n",
              " 'DUE_AMT_SEP',\n",
              " 'DUE_AMT_OCT',\n",
              " 'DUE_AMT_NOV',\n",
              " 'DUE_AMT_DEC',\n",
              " 'PAID_AMT_JULY',\n",
              " 'PAID_AMT_AUG',\n",
              " 'PAID_AMT_SEP',\n",
              " 'PAID_AMT_OCT',\n",
              " 'PAID_AMT_NOV',\n",
              " 'PAID_AMT_DEC',\n",
              " 'delayed_months']"
            ]
          },
          "metadata": {
            "tags": []
          },
          "execution_count": 281
        }
      ]
    },
    {
      "cell_type": "code",
      "metadata": {
        "id": "ZUi3OnjvMKTV",
        "colab_type": "code",
        "colab": {}
      },
      "source": [
        "train_test = pd.get_dummies(data=train_test, columns=cat_features, drop_first=True)"
      ],
      "execution_count": 0,
      "outputs": []
    },
    {
      "cell_type": "code",
      "metadata": {
        "id": "m1LZ6LnlM_Wx",
        "colab_type": "code",
        "colab": {
          "base_uri": "https://localhost:8080/",
          "height": 34
        },
        "outputId": "95a95acd-77de-4249-f847-01fec6e3fa0f"
      },
      "source": [
        "test_processed = train_test[train_test['NEXT_MONTH_DEFAULT'].isna()]\n",
        "test_processed.shape"
      ],
      "execution_count": 283,
      "outputs": [
        {
          "output_type": "execute_result",
          "data": {
            "text/plain": [
              "(6000, 35)"
            ]
          },
          "metadata": {
            "tags": []
          },
          "execution_count": 283
        }
      ]
    },
    {
      "cell_type": "code",
      "metadata": {
        "id": "8ThHnw3tOI-W",
        "colab_type": "code",
        "colab": {
          "base_uri": "https://localhost:8080/",
          "height": 34
        },
        "outputId": "4470c70b-b55f-4ad3-8b78-0585b9e9da67"
      },
      "source": [
        "train_processed = train_test[train_test['NEXT_MONTH_DEFAULT'].notna()]\n",
        "train_processed.shape"
      ],
      "execution_count": 284,
      "outputs": [
        {
          "output_type": "execute_result",
          "data": {
            "text/plain": [
              "(24000, 35)"
            ]
          },
          "metadata": {
            "tags": []
          },
          "execution_count": 284
        }
      ]
    },
    {
      "cell_type": "markdown",
      "metadata": {
        "id": "ZBWHXnM2Ynw1",
        "colab_type": "text"
      },
      "source": [
        "### Continuous Variable Preprocessing"
      ]
    },
    {
      "cell_type": "code",
      "metadata": {
        "id": "_QLirayaTXFT",
        "colab_type": "code",
        "colab": {
          "base_uri": "https://localhost:8080/",
          "height": 297
        },
        "outputId": "6705f80e-d01b-479e-89ca-06dac06eaa70"
      },
      "source": [
        "basic_describe(due_features, train_processed)"
      ],
      "execution_count": 285,
      "outputs": [
        {
          "output_type": "execute_result",
          "data": {
            "text/html": [
              "<div>\n",
              "<style scoped>\n",
              "    .dataframe tbody tr th:only-of-type {\n",
              "        vertical-align: middle;\n",
              "    }\n",
              "\n",
              "    .dataframe tbody tr th {\n",
              "        vertical-align: top;\n",
              "    }\n",
              "\n",
              "    .dataframe thead th {\n",
              "        text-align: right;\n",
              "    }\n",
              "</style>\n",
              "<table border=\"1\" class=\"dataframe\">\n",
              "  <thead>\n",
              "    <tr style=\"text-align: right;\">\n",
              "      <th></th>\n",
              "      <th>DUE_AMT_JULY</th>\n",
              "      <th>DUE_AMT_AUG</th>\n",
              "      <th>DUE_AMT_SEP</th>\n",
              "      <th>DUE_AMT_OCT</th>\n",
              "      <th>DUE_AMT_NOV</th>\n",
              "      <th>DUE_AMT_DEC</th>\n",
              "    </tr>\n",
              "  </thead>\n",
              "  <tbody>\n",
              "    <tr>\n",
              "      <th>count</th>\n",
              "      <td>24000.00</td>\n",
              "      <td>24000.00</td>\n",
              "      <td>24000.00</td>\n",
              "      <td>24000.00</td>\n",
              "      <td>24000.00</td>\n",
              "      <td>24000.00</td>\n",
              "    </tr>\n",
              "    <tr>\n",
              "      <th>mean</th>\n",
              "      <td>118869.73</td>\n",
              "      <td>114072.73</td>\n",
              "      <td>109243.53</td>\n",
              "      <td>100357.26</td>\n",
              "      <td>93776.99</td>\n",
              "      <td>90340.68</td>\n",
              "    </tr>\n",
              "    <tr>\n",
              "      <th>std</th>\n",
              "      <td>171042.42</td>\n",
              "      <td>165241.39</td>\n",
              "      <td>161473.65</td>\n",
              "      <td>149007.08</td>\n",
              "      <td>141738.94</td>\n",
              "      <td>138723.70</td>\n",
              "    </tr>\n",
              "    <tr>\n",
              "      <th>min</th>\n",
              "      <td>-382490.00</td>\n",
              "      <td>-161185.00</td>\n",
              "      <td>-142079.00</td>\n",
              "      <td>-392700.00</td>\n",
              "      <td>-187882.00</td>\n",
              "      <td>-784483.00</td>\n",
              "    </tr>\n",
              "    <tr>\n",
              "      <th>25%</th>\n",
              "      <td>8246.25</td>\n",
              "      <td>6968.75</td>\n",
              "      <td>6238.50</td>\n",
              "      <td>5429.00</td>\n",
              "      <td>4179.75</td>\n",
              "      <td>2913.00</td>\n",
              "    </tr>\n",
              "    <tr>\n",
              "      <th>50%</th>\n",
              "      <td>51568.50</td>\n",
              "      <td>48717.00</td>\n",
              "      <td>46411.50</td>\n",
              "      <td>44105.00</td>\n",
              "      <td>41863.00</td>\n",
              "      <td>39409.00</td>\n",
              "    </tr>\n",
              "    <tr>\n",
              "      <th>75%</th>\n",
              "      <td>156274.50</td>\n",
              "      <td>148905.00</td>\n",
              "      <td>140162.25</td>\n",
              "      <td>126975.00</td>\n",
              "      <td>116926.25</td>\n",
              "      <td>114435.25</td>\n",
              "    </tr>\n",
              "    <tr>\n",
              "      <th>max</th>\n",
              "      <td>2228020.00</td>\n",
              "      <td>2272881.00</td>\n",
              "      <td>3844046.00</td>\n",
              "      <td>2059564.00</td>\n",
              "      <td>2141765.00</td>\n",
              "      <td>2221444.00</td>\n",
              "    </tr>\n",
              "  </tbody>\n",
              "</table>\n",
              "</div>"
            ],
            "text/plain": [
              "       DUE_AMT_JULY  DUE_AMT_AUG  ...  DUE_AMT_NOV  DUE_AMT_DEC\n",
              "count      24000.00     24000.00  ...     24000.00     24000.00\n",
              "mean      118869.73    114072.73  ...     93776.99     90340.68\n",
              "std       171042.42    165241.39  ...    141738.94    138723.70\n",
              "min      -382490.00   -161185.00  ...   -187882.00   -784483.00\n",
              "25%         8246.25      6968.75  ...      4179.75      2913.00\n",
              "50%        51568.50     48717.00  ...     41863.00     39409.00\n",
              "75%       156274.50    148905.00  ...    116926.25    114435.25\n",
              "max      2228020.00   2272881.00  ...   2141765.00   2221444.00\n",
              "\n",
              "[8 rows x 6 columns]"
            ]
          },
          "metadata": {
            "tags": []
          },
          "execution_count": 285
        }
      ]
    },
    {
      "cell_type": "code",
      "metadata": {
        "id": "w5DSK898Uamr",
        "colab_type": "code",
        "colab": {
          "base_uri": "https://localhost:8080/",
          "height": 297
        },
        "outputId": "36ac54a3-71f0-432f-9d99-1e20689b66d6"
      },
      "source": [
        "basic_describe(due_features, test_processed)"
      ],
      "execution_count": 286,
      "outputs": [
        {
          "output_type": "execute_result",
          "data": {
            "text/html": [
              "<div>\n",
              "<style scoped>\n",
              "    .dataframe tbody tr th:only-of-type {\n",
              "        vertical-align: middle;\n",
              "    }\n",
              "\n",
              "    .dataframe tbody tr th {\n",
              "        vertical-align: top;\n",
              "    }\n",
              "\n",
              "    .dataframe thead th {\n",
              "        text-align: right;\n",
              "    }\n",
              "</style>\n",
              "<table border=\"1\" class=\"dataframe\">\n",
              "  <thead>\n",
              "    <tr style=\"text-align: right;\">\n",
              "      <th></th>\n",
              "      <th>DUE_AMT_JULY</th>\n",
              "      <th>DUE_AMT_AUG</th>\n",
              "      <th>DUE_AMT_SEP</th>\n",
              "      <th>DUE_AMT_OCT</th>\n",
              "      <th>DUE_AMT_NOV</th>\n",
              "      <th>DUE_AMT_DEC</th>\n",
              "    </tr>\n",
              "  </thead>\n",
              "  <tbody>\n",
              "    <tr>\n",
              "      <th>count</th>\n",
              "      <td>6000.00</td>\n",
              "      <td>6000.00</td>\n",
              "      <td>6000.00</td>\n",
              "      <td>6000.00</td>\n",
              "      <td>6000.00</td>\n",
              "      <td>6000.00</td>\n",
              "    </tr>\n",
              "    <tr>\n",
              "      <th>mean</th>\n",
              "      <td>116150.50</td>\n",
              "      <td>111727.29</td>\n",
              "      <td>106027.90</td>\n",
              "      <td>98258.05</td>\n",
              "      <td>90488.77</td>\n",
              "      <td>87606.15</td>\n",
              "    </tr>\n",
              "    <tr>\n",
              "      <th>std</th>\n",
              "      <td>166267.25</td>\n",
              "      <td>161048.70</td>\n",
              "      <td>154972.09</td>\n",
              "      <td>147005.70</td>\n",
              "      <td>135106.32</td>\n",
              "      <td>132843.72</td>\n",
              "    </tr>\n",
              "    <tr>\n",
              "      <th>min</th>\n",
              "      <td>-357988.00</td>\n",
              "      <td>-20707.00</td>\n",
              "      <td>-363280.00</td>\n",
              "      <td>-63502.00</td>\n",
              "      <td>-141769.00</td>\n",
              "      <td>-54678.00</td>\n",
              "    </tr>\n",
              "    <tr>\n",
              "      <th>25%</th>\n",
              "      <td>8110.00</td>\n",
              "      <td>6339.00</td>\n",
              "      <td>5890.25</td>\n",
              "      <td>5274.25</td>\n",
              "      <td>3643.00</td>\n",
              "      <td>2829.75</td>\n",
              "    </tr>\n",
              "    <tr>\n",
              "      <th>50%</th>\n",
              "      <td>52273.00</td>\n",
              "      <td>49926.00</td>\n",
              "      <td>46391.50</td>\n",
              "      <td>43713.50</td>\n",
              "      <td>41711.50</td>\n",
              "      <td>39554.00</td>\n",
              "    </tr>\n",
              "    <tr>\n",
              "      <th>75%</th>\n",
              "      <td>149199.00</td>\n",
              "      <td>141982.75</td>\n",
              "      <td>134357.25</td>\n",
              "      <td>119462.75</td>\n",
              "      <td>112801.25</td>\n",
              "      <td>111241.75</td>\n",
              "    </tr>\n",
              "    <tr>\n",
              "      <th>max</th>\n",
              "      <td>1436240.00</td>\n",
              "      <td>1334443.00</td>\n",
              "      <td>1337423.00</td>\n",
              "      <td>1452295.00</td>\n",
              "      <td>1211168.00</td>\n",
              "      <td>1147610.00</td>\n",
              "    </tr>\n",
              "  </tbody>\n",
              "</table>\n",
              "</div>"
            ],
            "text/plain": [
              "       DUE_AMT_JULY  DUE_AMT_AUG  ...  DUE_AMT_NOV  DUE_AMT_DEC\n",
              "count       6000.00      6000.00  ...      6000.00      6000.00\n",
              "mean      116150.50    111727.29  ...     90488.77     87606.15\n",
              "std       166267.25    161048.70  ...    135106.32    132843.72\n",
              "min      -357988.00    -20707.00  ...   -141769.00    -54678.00\n",
              "25%         8110.00      6339.00  ...      3643.00      2829.75\n",
              "50%        52273.00     49926.00  ...     41711.50     39554.00\n",
              "75%       149199.00    141982.75  ...    112801.25    111241.75\n",
              "max      1436240.00   1334443.00  ...   1211168.00   1147610.00\n",
              "\n",
              "[8 rows x 6 columns]"
            ]
          },
          "metadata": {
            "tags": []
          },
          "execution_count": 286
        }
      ]
    },
    {
      "cell_type": "code",
      "metadata": {
        "id": "zQ1vOThPS7Ym",
        "colab_type": "code",
        "colab": {}
      },
      "source": [
        "for feature in due_features:\n",
        "  scaler = MinMaxScaler(feature_range=(-1,1)).fit(np.array(train_processed[feature]).reshape(-1, 1))\n",
        "  train_processed[feature] = scaler.transform(np.array(train_processed[feature]).reshape(-1, 1))\n",
        "  test_processed[feature] = scaler.transform(np.array(test_processed[feature]).reshape(-1, 1))"
      ],
      "execution_count": 0,
      "outputs": []
    },
    {
      "cell_type": "code",
      "metadata": {
        "id": "MFJPQ-VCRJCK",
        "colab_type": "code",
        "colab": {
          "base_uri": "https://localhost:8080/",
          "height": 297
        },
        "outputId": "e21df80f-f253-431f-a0ff-a1ac5d1ecdee"
      },
      "source": [
        "basic_describe(due_features, train_processed)"
      ],
      "execution_count": 288,
      "outputs": [
        {
          "output_type": "execute_result",
          "data": {
            "text/html": [
              "<div>\n",
              "<style scoped>\n",
              "    .dataframe tbody tr th:only-of-type {\n",
              "        vertical-align: middle;\n",
              "    }\n",
              "\n",
              "    .dataframe tbody tr th {\n",
              "        vertical-align: top;\n",
              "    }\n",
              "\n",
              "    .dataframe thead th {\n",
              "        text-align: right;\n",
              "    }\n",
              "</style>\n",
              "<table border=\"1\" class=\"dataframe\">\n",
              "  <thead>\n",
              "    <tr style=\"text-align: right;\">\n",
              "      <th></th>\n",
              "      <th>DUE_AMT_JULY</th>\n",
              "      <th>DUE_AMT_AUG</th>\n",
              "      <th>DUE_AMT_SEP</th>\n",
              "      <th>DUE_AMT_OCT</th>\n",
              "      <th>DUE_AMT_NOV</th>\n",
              "      <th>DUE_AMT_DEC</th>\n",
              "    </tr>\n",
              "  </thead>\n",
              "  <tbody>\n",
              "    <tr>\n",
              "      <th>count</th>\n",
              "      <td>24000.00</td>\n",
              "      <td>24000.00</td>\n",
              "      <td>24000.00</td>\n",
              "      <td>24000.00</td>\n",
              "      <td>24000.00</td>\n",
              "      <td>24000.00</td>\n",
              "    </tr>\n",
              "    <tr>\n",
              "      <th>mean</th>\n",
              "      <td>-0.62</td>\n",
              "      <td>-0.77</td>\n",
              "      <td>-0.87</td>\n",
              "      <td>-0.60</td>\n",
              "      <td>-0.76</td>\n",
              "      <td>-0.42</td>\n",
              "    </tr>\n",
              "    <tr>\n",
              "      <th>std</th>\n",
              "      <td>0.13</td>\n",
              "      <td>0.14</td>\n",
              "      <td>0.08</td>\n",
              "      <td>0.12</td>\n",
              "      <td>0.12</td>\n",
              "      <td>0.09</td>\n",
              "    </tr>\n",
              "    <tr>\n",
              "      <th>min</th>\n",
              "      <td>-1.00</td>\n",
              "      <td>-1.00</td>\n",
              "      <td>-1.00</td>\n",
              "      <td>-1.00</td>\n",
              "      <td>-1.00</td>\n",
              "      <td>-1.00</td>\n",
              "    </tr>\n",
              "    <tr>\n",
              "      <th>25%</th>\n",
              "      <td>-0.70</td>\n",
              "      <td>-0.86</td>\n",
              "      <td>-0.93</td>\n",
              "      <td>-0.68</td>\n",
              "      <td>-0.84</td>\n",
              "      <td>-0.48</td>\n",
              "    </tr>\n",
              "    <tr>\n",
              "      <th>50%</th>\n",
              "      <td>-0.67</td>\n",
              "      <td>-0.83</td>\n",
              "      <td>-0.91</td>\n",
              "      <td>-0.64</td>\n",
              "      <td>-0.80</td>\n",
              "      <td>-0.45</td>\n",
              "    </tr>\n",
              "    <tr>\n",
              "      <th>75%</th>\n",
              "      <td>-0.59</td>\n",
              "      <td>-0.75</td>\n",
              "      <td>-0.86</td>\n",
              "      <td>-0.58</td>\n",
              "      <td>-0.74</td>\n",
              "      <td>-0.40</td>\n",
              "    </tr>\n",
              "    <tr>\n",
              "      <th>max</th>\n",
              "      <td>1.00</td>\n",
              "      <td>1.00</td>\n",
              "      <td>1.00</td>\n",
              "      <td>1.00</td>\n",
              "      <td>1.00</td>\n",
              "      <td>1.00</td>\n",
              "    </tr>\n",
              "  </tbody>\n",
              "</table>\n",
              "</div>"
            ],
            "text/plain": [
              "       DUE_AMT_JULY  DUE_AMT_AUG  ...  DUE_AMT_NOV  DUE_AMT_DEC\n",
              "count      24000.00     24000.00  ...     24000.00     24000.00\n",
              "mean          -0.62        -0.77  ...        -0.76        -0.42\n",
              "std            0.13         0.14  ...         0.12         0.09\n",
              "min           -1.00        -1.00  ...        -1.00        -1.00\n",
              "25%           -0.70        -0.86  ...        -0.84        -0.48\n",
              "50%           -0.67        -0.83  ...        -0.80        -0.45\n",
              "75%           -0.59        -0.75  ...        -0.74        -0.40\n",
              "max            1.00         1.00  ...         1.00         1.00\n",
              "\n",
              "[8 rows x 6 columns]"
            ]
          },
          "metadata": {
            "tags": []
          },
          "execution_count": 288
        }
      ]
    },
    {
      "cell_type": "code",
      "metadata": {
        "id": "a6wQibO-UV_p",
        "colab_type": "code",
        "colab": {
          "base_uri": "https://localhost:8080/",
          "height": 297
        },
        "outputId": "856494eb-116f-4321-dd96-bea79ba93400"
      },
      "source": [
        "basic_describe(due_features, test_processed)"
      ],
      "execution_count": 289,
      "outputs": [
        {
          "output_type": "execute_result",
          "data": {
            "text/html": [
              "<div>\n",
              "<style scoped>\n",
              "    .dataframe tbody tr th:only-of-type {\n",
              "        vertical-align: middle;\n",
              "    }\n",
              "\n",
              "    .dataframe tbody tr th {\n",
              "        vertical-align: top;\n",
              "    }\n",
              "\n",
              "    .dataframe thead th {\n",
              "        text-align: right;\n",
              "    }\n",
              "</style>\n",
              "<table border=\"1\" class=\"dataframe\">\n",
              "  <thead>\n",
              "    <tr style=\"text-align: right;\">\n",
              "      <th></th>\n",
              "      <th>DUE_AMT_JULY</th>\n",
              "      <th>DUE_AMT_AUG</th>\n",
              "      <th>DUE_AMT_SEP</th>\n",
              "      <th>DUE_AMT_OCT</th>\n",
              "      <th>DUE_AMT_NOV</th>\n",
              "      <th>DUE_AMT_DEC</th>\n",
              "    </tr>\n",
              "  </thead>\n",
              "  <tbody>\n",
              "    <tr>\n",
              "      <th>count</th>\n",
              "      <td>6000.00</td>\n",
              "      <td>6000.00</td>\n",
              "      <td>6000.00</td>\n",
              "      <td>6000.00</td>\n",
              "      <td>6000.00</td>\n",
              "      <td>6000.00</td>\n",
              "    </tr>\n",
              "    <tr>\n",
              "      <th>mean</th>\n",
              "      <td>-0.62</td>\n",
              "      <td>-0.78</td>\n",
              "      <td>-0.88</td>\n",
              "      <td>-0.60</td>\n",
              "      <td>-0.76</td>\n",
              "      <td>-0.42</td>\n",
              "    </tr>\n",
              "    <tr>\n",
              "      <th>std</th>\n",
              "      <td>0.13</td>\n",
              "      <td>0.13</td>\n",
              "      <td>0.08</td>\n",
              "      <td>0.12</td>\n",
              "      <td>0.12</td>\n",
              "      <td>0.09</td>\n",
              "    </tr>\n",
              "    <tr>\n",
              "      <th>min</th>\n",
              "      <td>-0.98</td>\n",
              "      <td>-0.88</td>\n",
              "      <td>-1.11</td>\n",
              "      <td>-0.73</td>\n",
              "      <td>-0.96</td>\n",
              "      <td>-0.51</td>\n",
              "    </tr>\n",
              "    <tr>\n",
              "      <th>25%</th>\n",
              "      <td>-0.70</td>\n",
              "      <td>-0.86</td>\n",
              "      <td>-0.93</td>\n",
              "      <td>-0.68</td>\n",
              "      <td>-0.84</td>\n",
              "      <td>-0.48</td>\n",
              "    </tr>\n",
              "    <tr>\n",
              "      <th>50%</th>\n",
              "      <td>-0.67</td>\n",
              "      <td>-0.83</td>\n",
              "      <td>-0.91</td>\n",
              "      <td>-0.64</td>\n",
              "      <td>-0.80</td>\n",
              "      <td>-0.45</td>\n",
              "    </tr>\n",
              "    <tr>\n",
              "      <th>75%</th>\n",
              "      <td>-0.59</td>\n",
              "      <td>-0.75</td>\n",
              "      <td>-0.86</td>\n",
              "      <td>-0.58</td>\n",
              "      <td>-0.74</td>\n",
              "      <td>-0.40</td>\n",
              "    </tr>\n",
              "    <tr>\n",
              "      <th>max</th>\n",
              "      <td>0.39</td>\n",
              "      <td>0.23</td>\n",
              "      <td>-0.26</td>\n",
              "      <td>0.50</td>\n",
              "      <td>0.20</td>\n",
              "      <td>0.29</td>\n",
              "    </tr>\n",
              "  </tbody>\n",
              "</table>\n",
              "</div>"
            ],
            "text/plain": [
              "       DUE_AMT_JULY  DUE_AMT_AUG  ...  DUE_AMT_NOV  DUE_AMT_DEC\n",
              "count       6000.00      6000.00  ...      6000.00      6000.00\n",
              "mean          -0.62        -0.78  ...        -0.76        -0.42\n",
              "std            0.13         0.13  ...         0.12         0.09\n",
              "min           -0.98        -0.88  ...        -0.96        -0.51\n",
              "25%           -0.70        -0.86  ...        -0.84        -0.48\n",
              "50%           -0.67        -0.83  ...        -0.80        -0.45\n",
              "75%           -0.59        -0.75  ...        -0.74        -0.40\n",
              "max            0.39         0.23  ...         0.20         0.29\n",
              "\n",
              "[8 rows x 6 columns]"
            ]
          },
          "metadata": {
            "tags": []
          },
          "execution_count": 289
        }
      ]
    },
    {
      "cell_type": "code",
      "metadata": {
        "id": "x1KlNiGkQs70",
        "colab_type": "code",
        "colab": {
          "base_uri": "https://localhost:8080/",
          "height": 297
        },
        "outputId": "efacabe7-767f-4cfd-cf55-128400791461"
      },
      "source": [
        "basic_describe(paid_features, train_processed)"
      ],
      "execution_count": 290,
      "outputs": [
        {
          "output_type": "execute_result",
          "data": {
            "text/html": [
              "<div>\n",
              "<style scoped>\n",
              "    .dataframe tbody tr th:only-of-type {\n",
              "        vertical-align: middle;\n",
              "    }\n",
              "\n",
              "    .dataframe tbody tr th {\n",
              "        vertical-align: top;\n",
              "    }\n",
              "\n",
              "    .dataframe thead th {\n",
              "        text-align: right;\n",
              "    }\n",
              "</style>\n",
              "<table border=\"1\" class=\"dataframe\">\n",
              "  <thead>\n",
              "    <tr style=\"text-align: right;\">\n",
              "      <th></th>\n",
              "      <th>PAID_AMT_JULY</th>\n",
              "      <th>PAID_AMT_AUG</th>\n",
              "      <th>PAID_AMT_SEP</th>\n",
              "      <th>PAID_AMT_OCT</th>\n",
              "      <th>PAID_AMT_NOV</th>\n",
              "      <th>PAID_AMT_DEC</th>\n",
              "    </tr>\n",
              "  </thead>\n",
              "  <tbody>\n",
              "    <tr>\n",
              "      <th>count</th>\n",
              "      <td>24000.00</td>\n",
              "      <td>24000.00</td>\n",
              "      <td>24000.00</td>\n",
              "      <td>24000.00</td>\n",
              "      <td>24000.00</td>\n",
              "      <td>24000.00</td>\n",
              "    </tr>\n",
              "    <tr>\n",
              "      <th>mean</th>\n",
              "      <td>13306.48</td>\n",
              "      <td>13866.75</td>\n",
              "      <td>12093.12</td>\n",
              "      <td>11225.27</td>\n",
              "      <td>11174.74</td>\n",
              "      <td>12301.22</td>\n",
              "    </tr>\n",
              "    <tr>\n",
              "      <th>std</th>\n",
              "      <td>39357.42</td>\n",
              "      <td>56485.88</td>\n",
              "      <td>40659.24</td>\n",
              "      <td>36246.93</td>\n",
              "      <td>36040.82</td>\n",
              "      <td>42338.48</td>\n",
              "    </tr>\n",
              "    <tr>\n",
              "      <th>min</th>\n",
              "      <td>0.00</td>\n",
              "      <td>0.00</td>\n",
              "      <td>0.00</td>\n",
              "      <td>0.00</td>\n",
              "      <td>0.00</td>\n",
              "      <td>0.00</td>\n",
              "    </tr>\n",
              "    <tr>\n",
              "      <th>25%</th>\n",
              "      <td>2310.00</td>\n",
              "      <td>1956.00</td>\n",
              "      <td>901.00</td>\n",
              "      <td>693.00</td>\n",
              "      <td>610.00</td>\n",
              "      <td>307.00</td>\n",
              "    </tr>\n",
              "    <tr>\n",
              "      <th>50%</th>\n",
              "      <td>4920.00</td>\n",
              "      <td>4646.50</td>\n",
              "      <td>4197.00</td>\n",
              "      <td>3465.00</td>\n",
              "      <td>3465.00</td>\n",
              "      <td>3465.00</td>\n",
              "    </tr>\n",
              "    <tr>\n",
              "      <th>75%</th>\n",
              "      <td>11605.00</td>\n",
              "      <td>11550.00</td>\n",
              "      <td>10626.00</td>\n",
              "      <td>9360.00</td>\n",
              "      <td>9411.50</td>\n",
              "      <td>9252.50</td>\n",
              "    </tr>\n",
              "    <tr>\n",
              "      <th>max</th>\n",
              "      <td>2017905.00</td>\n",
              "      <td>3890638.00</td>\n",
              "      <td>2069852.00</td>\n",
              "      <td>1434510.00</td>\n",
              "      <td>965557.00</td>\n",
              "      <td>1221218.00</td>\n",
              "    </tr>\n",
              "  </tbody>\n",
              "</table>\n",
              "</div>"
            ],
            "text/plain": [
              "       PAID_AMT_JULY  PAID_AMT_AUG  ...  PAID_AMT_NOV  PAID_AMT_DEC\n",
              "count       24000.00      24000.00  ...      24000.00      24000.00\n",
              "mean        13306.48      13866.75  ...      11174.74      12301.22\n",
              "std         39357.42      56485.88  ...      36040.82      42338.48\n",
              "min             0.00          0.00  ...          0.00          0.00\n",
              "25%          2310.00       1956.00  ...        610.00        307.00\n",
              "50%          4920.00       4646.50  ...       3465.00       3465.00\n",
              "75%         11605.00      11550.00  ...       9411.50       9252.50\n",
              "max       2017905.00    3890638.00  ...     965557.00    1221218.00\n",
              "\n",
              "[8 rows x 6 columns]"
            ]
          },
          "metadata": {
            "tags": []
          },
          "execution_count": 290
        }
      ]
    },
    {
      "cell_type": "code",
      "metadata": {
        "id": "LTpnsOUnUeJK",
        "colab_type": "code",
        "colab": {
          "base_uri": "https://localhost:8080/",
          "height": 297
        },
        "outputId": "6fe15980-c159-4cd3-acbb-8e6f35a7a936"
      },
      "source": [
        "basic_describe(paid_features, test_processed)"
      ],
      "execution_count": 291,
      "outputs": [
        {
          "output_type": "execute_result",
          "data": {
            "text/html": [
              "<div>\n",
              "<style scoped>\n",
              "    .dataframe tbody tr th:only-of-type {\n",
              "        vertical-align: middle;\n",
              "    }\n",
              "\n",
              "    .dataframe tbody tr th {\n",
              "        vertical-align: top;\n",
              "    }\n",
              "\n",
              "    .dataframe thead th {\n",
              "        text-align: right;\n",
              "    }\n",
              "</style>\n",
              "<table border=\"1\" class=\"dataframe\">\n",
              "  <thead>\n",
              "    <tr style=\"text-align: right;\">\n",
              "      <th></th>\n",
              "      <th>PAID_AMT_JULY</th>\n",
              "      <th>PAID_AMT_AUG</th>\n",
              "      <th>PAID_AMT_SEP</th>\n",
              "      <th>PAID_AMT_OCT</th>\n",
              "      <th>PAID_AMT_NOV</th>\n",
              "      <th>PAID_AMT_DEC</th>\n",
              "    </tr>\n",
              "  </thead>\n",
              "  <tbody>\n",
              "    <tr>\n",
              "      <th>count</th>\n",
              "      <td>6000.00</td>\n",
              "      <td>6000.00</td>\n",
              "      <td>6000.00</td>\n",
              "      <td>6000.00</td>\n",
              "      <td>6000.00</td>\n",
              "      <td>6000.00</td>\n",
              "    </tr>\n",
              "    <tr>\n",
              "      <th>mean</th>\n",
              "      <td>12188.47</td>\n",
              "      <td>12922.45</td>\n",
              "      <td>11984.18</td>\n",
              "      <td>10840.15</td>\n",
              "      <td>10734.02</td>\n",
              "      <td>11034.23</td>\n",
              "    </tr>\n",
              "    <tr>\n",
              "      <th>std</th>\n",
              "      <td>33507.68</td>\n",
              "      <td>37431.95</td>\n",
              "      <td>40726.69</td>\n",
              "      <td>35956.84</td>\n",
              "      <td>32127.88</td>\n",
              "      <td>35507.97</td>\n",
              "    </tr>\n",
              "    <tr>\n",
              "      <th>min</th>\n",
              "      <td>0.00</td>\n",
              "      <td>0.00</td>\n",
              "      <td>0.00</td>\n",
              "      <td>0.00</td>\n",
              "      <td>0.00</td>\n",
              "      <td>0.00</td>\n",
              "    </tr>\n",
              "    <tr>\n",
              "      <th>25%</th>\n",
              "      <td>1931.00</td>\n",
              "      <td>1830.00</td>\n",
              "      <td>903.00</td>\n",
              "      <td>617.25</td>\n",
              "      <td>422.25</td>\n",
              "      <td>164.25</td>\n",
              "    </tr>\n",
              "    <tr>\n",
              "      <th>50%</th>\n",
              "      <td>4689.00</td>\n",
              "      <td>4622.00</td>\n",
              "      <td>4090.00</td>\n",
              "      <td>3465.00</td>\n",
              "      <td>3465.00</td>\n",
              "      <td>3456.00</td>\n",
              "    </tr>\n",
              "    <tr>\n",
              "      <th>75%</th>\n",
              "      <td>11550.00</td>\n",
              "      <td>11550.00</td>\n",
              "      <td>9934.25</td>\n",
              "      <td>9240.00</td>\n",
              "      <td>9240.00</td>\n",
              "      <td>9240.00</td>\n",
              "    </tr>\n",
              "    <tr>\n",
              "      <th>max</th>\n",
              "      <td>704123.00</td>\n",
              "      <td>795719.00</td>\n",
              "      <td>1174009.00</td>\n",
              "      <td>924106.00</td>\n",
              "      <td>985282.00</td>\n",
              "      <td>553014.00</td>\n",
              "    </tr>\n",
              "  </tbody>\n",
              "</table>\n",
              "</div>"
            ],
            "text/plain": [
              "       PAID_AMT_JULY  PAID_AMT_AUG  ...  PAID_AMT_NOV  PAID_AMT_DEC\n",
              "count        6000.00       6000.00  ...       6000.00       6000.00\n",
              "mean        12188.47      12922.45  ...      10734.02      11034.23\n",
              "std         33507.68      37431.95  ...      32127.88      35507.97\n",
              "min             0.00          0.00  ...          0.00          0.00\n",
              "25%          1931.00       1830.00  ...        422.25        164.25\n",
              "50%          4689.00       4622.00  ...       3465.00       3456.00\n",
              "75%         11550.00      11550.00  ...       9240.00       9240.00\n",
              "max        704123.00     795719.00  ...     985282.00     553014.00\n",
              "\n",
              "[8 rows x 6 columns]"
            ]
          },
          "metadata": {
            "tags": []
          },
          "execution_count": 291
        }
      ]
    },
    {
      "cell_type": "code",
      "metadata": {
        "id": "X5glU-fFQs5E",
        "colab_type": "code",
        "colab": {}
      },
      "source": [
        "for feature in paid_features:\n",
        "  scaler = MinMaxScaler().fit(np.array(train_processed[feature]).reshape(-1, 1))\n",
        "  train_processed[feature] = scaler.transform(np.array(train_processed[feature]).reshape(-1, 1))\n",
        "  test_processed[feature] = scaler.transform(np.array(test_processed[feature]).reshape(-1, 1))"
      ],
      "execution_count": 0,
      "outputs": []
    },
    {
      "cell_type": "code",
      "metadata": {
        "id": "r6-KD1PBQs2k",
        "colab_type": "code",
        "colab": {
          "base_uri": "https://localhost:8080/",
          "height": 297
        },
        "outputId": "35f4caf8-e549-487e-b87a-0348ed743126"
      },
      "source": [
        "basic_describe(paid_features, train_processed)"
      ],
      "execution_count": 293,
      "outputs": [
        {
          "output_type": "execute_result",
          "data": {
            "text/html": [
              "<div>\n",
              "<style scoped>\n",
              "    .dataframe tbody tr th:only-of-type {\n",
              "        vertical-align: middle;\n",
              "    }\n",
              "\n",
              "    .dataframe tbody tr th {\n",
              "        vertical-align: top;\n",
              "    }\n",
              "\n",
              "    .dataframe thead th {\n",
              "        text-align: right;\n",
              "    }\n",
              "</style>\n",
              "<table border=\"1\" class=\"dataframe\">\n",
              "  <thead>\n",
              "    <tr style=\"text-align: right;\">\n",
              "      <th></th>\n",
              "      <th>PAID_AMT_JULY</th>\n",
              "      <th>PAID_AMT_AUG</th>\n",
              "      <th>PAID_AMT_SEP</th>\n",
              "      <th>PAID_AMT_OCT</th>\n",
              "      <th>PAID_AMT_NOV</th>\n",
              "      <th>PAID_AMT_DEC</th>\n",
              "    </tr>\n",
              "  </thead>\n",
              "  <tbody>\n",
              "    <tr>\n",
              "      <th>count</th>\n",
              "      <td>24000.00</td>\n",
              "      <td>24000.00</td>\n",
              "      <td>24000.00</td>\n",
              "      <td>24000.00</td>\n",
              "      <td>24000.00</td>\n",
              "      <td>24000.00</td>\n",
              "    </tr>\n",
              "    <tr>\n",
              "      <th>mean</th>\n",
              "      <td>0.01</td>\n",
              "      <td>0.00</td>\n",
              "      <td>0.01</td>\n",
              "      <td>0.01</td>\n",
              "      <td>0.01</td>\n",
              "      <td>0.01</td>\n",
              "    </tr>\n",
              "    <tr>\n",
              "      <th>std</th>\n",
              "      <td>0.02</td>\n",
              "      <td>0.01</td>\n",
              "      <td>0.02</td>\n",
              "      <td>0.03</td>\n",
              "      <td>0.04</td>\n",
              "      <td>0.03</td>\n",
              "    </tr>\n",
              "    <tr>\n",
              "      <th>min</th>\n",
              "      <td>0.00</td>\n",
              "      <td>0.00</td>\n",
              "      <td>0.00</td>\n",
              "      <td>0.00</td>\n",
              "      <td>0.00</td>\n",
              "      <td>0.00</td>\n",
              "    </tr>\n",
              "    <tr>\n",
              "      <th>25%</th>\n",
              "      <td>0.00</td>\n",
              "      <td>0.00</td>\n",
              "      <td>0.00</td>\n",
              "      <td>0.00</td>\n",
              "      <td>0.00</td>\n",
              "      <td>0.00</td>\n",
              "    </tr>\n",
              "    <tr>\n",
              "      <th>50%</th>\n",
              "      <td>0.00</td>\n",
              "      <td>0.00</td>\n",
              "      <td>0.00</td>\n",
              "      <td>0.00</td>\n",
              "      <td>0.00</td>\n",
              "      <td>0.00</td>\n",
              "    </tr>\n",
              "    <tr>\n",
              "      <th>75%</th>\n",
              "      <td>0.01</td>\n",
              "      <td>0.00</td>\n",
              "      <td>0.01</td>\n",
              "      <td>0.01</td>\n",
              "      <td>0.01</td>\n",
              "      <td>0.01</td>\n",
              "    </tr>\n",
              "    <tr>\n",
              "      <th>max</th>\n",
              "      <td>1.00</td>\n",
              "      <td>1.00</td>\n",
              "      <td>1.00</td>\n",
              "      <td>1.00</td>\n",
              "      <td>1.00</td>\n",
              "      <td>1.00</td>\n",
              "    </tr>\n",
              "  </tbody>\n",
              "</table>\n",
              "</div>"
            ],
            "text/plain": [
              "       PAID_AMT_JULY  PAID_AMT_AUG  ...  PAID_AMT_NOV  PAID_AMT_DEC\n",
              "count       24000.00      24000.00  ...      24000.00      24000.00\n",
              "mean            0.01          0.00  ...          0.01          0.01\n",
              "std             0.02          0.01  ...          0.04          0.03\n",
              "min             0.00          0.00  ...          0.00          0.00\n",
              "25%             0.00          0.00  ...          0.00          0.00\n",
              "50%             0.00          0.00  ...          0.00          0.00\n",
              "75%             0.01          0.00  ...          0.01          0.01\n",
              "max             1.00          1.00  ...          1.00          1.00\n",
              "\n",
              "[8 rows x 6 columns]"
            ]
          },
          "metadata": {
            "tags": []
          },
          "execution_count": 293
        }
      ]
    },
    {
      "cell_type": "code",
      "metadata": {
        "id": "aFgOebjmUh9p",
        "colab_type": "code",
        "colab": {
          "base_uri": "https://localhost:8080/",
          "height": 297
        },
        "outputId": "1624ca62-49f4-4104-b8d8-9199296a13c9"
      },
      "source": [
        "basic_describe(paid_features, test_processed)"
      ],
      "execution_count": 294,
      "outputs": [
        {
          "output_type": "execute_result",
          "data": {
            "text/html": [
              "<div>\n",
              "<style scoped>\n",
              "    .dataframe tbody tr th:only-of-type {\n",
              "        vertical-align: middle;\n",
              "    }\n",
              "\n",
              "    .dataframe tbody tr th {\n",
              "        vertical-align: top;\n",
              "    }\n",
              "\n",
              "    .dataframe thead th {\n",
              "        text-align: right;\n",
              "    }\n",
              "</style>\n",
              "<table border=\"1\" class=\"dataframe\">\n",
              "  <thead>\n",
              "    <tr style=\"text-align: right;\">\n",
              "      <th></th>\n",
              "      <th>PAID_AMT_JULY</th>\n",
              "      <th>PAID_AMT_AUG</th>\n",
              "      <th>PAID_AMT_SEP</th>\n",
              "      <th>PAID_AMT_OCT</th>\n",
              "      <th>PAID_AMT_NOV</th>\n",
              "      <th>PAID_AMT_DEC</th>\n",
              "    </tr>\n",
              "  </thead>\n",
              "  <tbody>\n",
              "    <tr>\n",
              "      <th>count</th>\n",
              "      <td>6000.00</td>\n",
              "      <td>6000.00</td>\n",
              "      <td>6000.00</td>\n",
              "      <td>6000.00</td>\n",
              "      <td>6000.00</td>\n",
              "      <td>6000.00</td>\n",
              "    </tr>\n",
              "    <tr>\n",
              "      <th>mean</th>\n",
              "      <td>0.01</td>\n",
              "      <td>0.00</td>\n",
              "      <td>0.01</td>\n",
              "      <td>0.01</td>\n",
              "      <td>0.01</td>\n",
              "      <td>0.01</td>\n",
              "    </tr>\n",
              "    <tr>\n",
              "      <th>std</th>\n",
              "      <td>0.02</td>\n",
              "      <td>0.01</td>\n",
              "      <td>0.02</td>\n",
              "      <td>0.03</td>\n",
              "      <td>0.03</td>\n",
              "      <td>0.03</td>\n",
              "    </tr>\n",
              "    <tr>\n",
              "      <th>min</th>\n",
              "      <td>0.00</td>\n",
              "      <td>0.00</td>\n",
              "      <td>0.00</td>\n",
              "      <td>0.00</td>\n",
              "      <td>0.00</td>\n",
              "      <td>0.00</td>\n",
              "    </tr>\n",
              "    <tr>\n",
              "      <th>25%</th>\n",
              "      <td>0.00</td>\n",
              "      <td>0.00</td>\n",
              "      <td>0.00</td>\n",
              "      <td>0.00</td>\n",
              "      <td>0.00</td>\n",
              "      <td>0.00</td>\n",
              "    </tr>\n",
              "    <tr>\n",
              "      <th>50%</th>\n",
              "      <td>0.00</td>\n",
              "      <td>0.00</td>\n",
              "      <td>0.00</td>\n",
              "      <td>0.00</td>\n",
              "      <td>0.00</td>\n",
              "      <td>0.00</td>\n",
              "    </tr>\n",
              "    <tr>\n",
              "      <th>75%</th>\n",
              "      <td>0.01</td>\n",
              "      <td>0.00</td>\n",
              "      <td>0.00</td>\n",
              "      <td>0.01</td>\n",
              "      <td>0.01</td>\n",
              "      <td>0.01</td>\n",
              "    </tr>\n",
              "    <tr>\n",
              "      <th>max</th>\n",
              "      <td>0.35</td>\n",
              "      <td>0.20</td>\n",
              "      <td>0.57</td>\n",
              "      <td>0.64</td>\n",
              "      <td>1.02</td>\n",
              "      <td>0.45</td>\n",
              "    </tr>\n",
              "  </tbody>\n",
              "</table>\n",
              "</div>"
            ],
            "text/plain": [
              "       PAID_AMT_JULY  PAID_AMT_AUG  ...  PAID_AMT_NOV  PAID_AMT_DEC\n",
              "count        6000.00       6000.00  ...       6000.00       6000.00\n",
              "mean            0.01          0.00  ...          0.01          0.01\n",
              "std             0.02          0.01  ...          0.03          0.03\n",
              "min             0.00          0.00  ...          0.00          0.00\n",
              "25%             0.00          0.00  ...          0.00          0.00\n",
              "50%             0.00          0.00  ...          0.00          0.00\n",
              "75%             0.01          0.00  ...          0.01          0.01\n",
              "max             0.35          0.20  ...          1.02          0.45\n",
              "\n",
              "[8 rows x 6 columns]"
            ]
          },
          "metadata": {
            "tags": []
          },
          "execution_count": 294
        }
      ]
    },
    {
      "cell_type": "code",
      "metadata": {
        "id": "jbXvlYdJWoNs",
        "colab_type": "code",
        "colab": {}
      },
      "source": [
        "train_processed.drop(columns='Client_ID',inplace=True)"
      ],
      "execution_count": 0,
      "outputs": []
    },
    {
      "cell_type": "markdown",
      "metadata": {
        "id": "Vm8jl51xNTtb",
        "colab_type": "text"
      },
      "source": [
        "# Modelling"
      ]
    },
    {
      "cell_type": "code",
      "metadata": {
        "id": "0NNiKPP82IHh",
        "colab_type": "code",
        "colab": {}
      },
      "source": [
        "X=train_processed.drop(columns='NEXT_MONTH_DEFAULT')\n",
        "y=train_processed['NEXT_MONTH_DEFAULT'].astype(\"int32\")"
      ],
      "execution_count": 0,
      "outputs": []
    },
    {
      "cell_type": "code",
      "metadata": {
        "id": "5xNF1CakXCkz",
        "colab_type": "code",
        "colab": {}
      },
      "source": [
        "X_train,X_test,y_train,y_test=train_test_split(X,y, test_size=0.2, shuffle=True,stratify=y)"
      ],
      "execution_count": 0,
      "outputs": []
    },
    {
      "cell_type": "code",
      "metadata": {
        "id": "L_MZqBA_P3HZ",
        "colab_type": "code",
        "colab": {}
      },
      "source": [
        "# n_estimators = [100,200,300,500,800]\n",
        "# max_depth = [5, 8, 15, 30]\n",
        "\n",
        "# param_dict = {'n_estimators':n_estimators, 'max_depth':max_depth}\n",
        "\n",
        "# forest = RandomForestClassifier(random_state=1)\n",
        "# grid = GridSearchCV(forest, param_grid=param_dict, cv=10, verbose=1, n_jobs=-1)\n",
        "# best_forest = grid.fit(X_train,y_train)"
      ],
      "execution_count": 0,
      "outputs": []
    },
    {
      "cell_type": "code",
      "metadata": {
        "id": "CQh3pS8IQMuA",
        "colab_type": "code",
        "colab": {}
      },
      "source": [
        "# best_forest.score(X_test, y_test)"
      ],
      "execution_count": 0,
      "outputs": []
    },
    {
      "cell_type": "code",
      "metadata": {
        "id": "DXoe-jWCdSSN",
        "colab_type": "code",
        "colab": {}
      },
      "source": [
        "# from sklearn.metrics import f1_score\n",
        "# y_pred = best_forest.predict(X_test)\n",
        "\n",
        "# print(f1_score(y_test, y_pred, average='micro'))\n",
        "# print(f1_score(y_test, y_pred, average='macro'))\n",
        "# print(f1_score(y_test, y_pred, average='weighted'))"
      ],
      "execution_count": 0,
      "outputs": []
    },
    {
      "cell_type": "code",
      "metadata": {
        "id": "Z-oW91wNdaoX",
        "colab_type": "code",
        "colab": {}
      },
      "source": [
        "import lightgbm as lgb"
      ],
      "execution_count": 0,
      "outputs": []
    },
    {
      "cell_type": "code",
      "metadata": {
        "id": "1BhHJ6ISej3J",
        "colab_type": "code",
        "colab": {
          "base_uri": "https://localhost:8080/",
          "height": 595
        },
        "outputId": "513686d3-9a50-4590-fd0b-b6a830ca03ec"
      },
      "source": [
        "train_set = lgb.Dataset(X_train, label=y_train)\n",
        "\n",
        "valid_set = lgb.Dataset(X_test, label=y_test)\n",
        "\n",
        "evals_result = {} \n",
        "\n",
        "params = {'boosting_type': 'gbdt',\n",
        "          'max_depth' : -1,\n",
        "          'objective': 'binary',\n",
        "          'nthread': 5,\n",
        "          'num_leaves': 64,\n",
        "          'learning_rate': 0.07,\n",
        "          'max_bin': 512,\n",
        "          'subsample_for_bin': 200,\n",
        "          'subsample': 1,\n",
        "          'subsample_freq': 1,\n",
        "          'colsample_bytree': 0.8,\n",
        "          'reg_alpha': 1.2,\n",
        "          'reg_lambda': 1.2,\n",
        "          'min_split_gain': 0.5,\n",
        "          'min_child_weight': 1,\n",
        "          'min_child_samples': 5,\n",
        "          'scale_pos_weight': 1,\n",
        "          'num_class' : 1,\n",
        "          'metric' : 'binary_error'\n",
        "          }\n",
        "\n",
        "grid_param = {\"learning_rate\": [0.07, 0.05],\n",
        "         \"n_estimators\" : [8, 16, 32, 64],\n",
        "         \"num_leaves\" : [20, 24, 27],\n",
        "         \"lambda_l2\" : [1.2, 1.5, 1],\n",
        "         \"colsample_bytree\" : [0.7, 0.64, 0.67],\n",
        "         \"bagging_fraction\" : [0.7, 0.64, 0.67] \n",
        "         }\n",
        "    \n",
        "model = lgb.LGBMClassifier(boosting_type='gbdt',\n",
        "                           objective = \"binary\",\n",
        "                           metric = 'binary',\n",
        "                           n_jobs=-1,\n",
        "                           silent=True,\n",
        "                           max_depth = params['max_depth'],\n",
        "                           max_bin = params['max_bin'],\n",
        "                           subsample_for_bin = params['subsample_for_bin'],\n",
        "                           subsample = params['subsample'],\n",
        "                           subsample_freq = params['subsample_freq'],\n",
        "                           min_split_gain = params['min_split_gain'],\n",
        "                           min_child_weight = params['min_child_weight'],\n",
        "                           min_child_samples = params['min_child_samples'],\n",
        "                           scale_pos_weight = params['scale_pos_weight']\n",
        "                           )\n",
        "\n",
        "grid2 = GridSearchCV(model, grid_param, verbose=2, cv=5, n_jobs=-1)\n",
        "grid2.fit(X_train, y_train)\n",
        "# del train_set,valid_set"
      ],
      "execution_count": 302,
      "outputs": [
        {
          "output_type": "stream",
          "text": [
            "Fitting 5 folds for each of 648 candidates, totalling 3240 fits\n"
          ],
          "name": "stdout"
        },
        {
          "output_type": "stream",
          "text": [
            "[Parallel(n_jobs=-1)]: Using backend LokyBackend with 2 concurrent workers.\n",
            "[Parallel(n_jobs=-1)]: Done  37 tasks      | elapsed:    5.0s\n",
            "[Parallel(n_jobs=-1)]: Done 158 tasks      | elapsed:   19.5s\n",
            "[Parallel(n_jobs=-1)]: Done 361 tasks      | elapsed:   44.7s\n",
            "[Parallel(n_jobs=-1)]: Done 644 tasks      | elapsed:  1.3min\n",
            "[Parallel(n_jobs=-1)]: Done 1009 tasks      | elapsed:  2.0min\n",
            "[Parallel(n_jobs=-1)]: Done 1454 tasks      | elapsed:  2.9min\n",
            "[Parallel(n_jobs=-1)]: Done 1981 tasks      | elapsed:  3.9min\n",
            "[Parallel(n_jobs=-1)]: Done 2588 tasks      | elapsed:  5.1min\n",
            "[Parallel(n_jobs=-1)]: Done 3240 out of 3240 | elapsed:  6.4min finished\n"
          ],
          "name": "stderr"
        },
        {
          "output_type": "execute_result",
          "data": {
            "text/plain": [
              "GridSearchCV(cv=5, error_score=nan,\n",
              "             estimator=LGBMClassifier(boosting_type='gbdt', class_weight=None,\n",
              "                                      colsample_bytree=1.0,\n",
              "                                      importance_type='split',\n",
              "                                      learning_rate=0.1, max_bin=512,\n",
              "                                      max_depth=-1, metric='binary',\n",
              "                                      min_child_samples=5, min_child_weight=1,\n",
              "                                      min_split_gain=0.5, n_estimators=100,\n",
              "                                      n_jobs=-1, num_leaves=31,\n",
              "                                      objective='binary', random_state=None,\n",
              "                                      reg_alpha=0....\n",
              "                                      scale_pos_weight=1, silent=True,\n",
              "                                      subsample=1, subsample_for_bin=200,\n",
              "                                      subsample_freq=1),\n",
              "             iid='deprecated', n_jobs=-1,\n",
              "             param_grid={'bagging_fraction': [0.7, 0.64, 0.67],\n",
              "                         'colsample_bytree': [0.7, 0.64, 0.67],\n",
              "                         'lambda_l2': [1.2, 1.5, 1],\n",
              "                         'learning_rate': [0.07, 0.05],\n",
              "                         'n_estimators': [8, 16, 32, 64],\n",
              "                         'num_leaves': [20, 24, 27]},\n",
              "             pre_dispatch='2*n_jobs', refit=True, return_train_score=False,\n",
              "             scoring=None, verbose=2)"
            ]
          },
          "metadata": {
            "tags": []
          },
          "execution_count": 302
        }
      ]
    },
    {
      "cell_type": "code",
      "metadata": {
        "id": "eioNiFJwB7I3",
        "colab_type": "code",
        "colab": {}
      },
      "source": [
        "model_trained = grid2.best_estimator_"
      ],
      "execution_count": 0,
      "outputs": []
    },
    {
      "cell_type": "code",
      "metadata": {
        "id": "uEIBc9qsf1P0",
        "colab_type": "code",
        "colab": {}
      },
      "source": [
        "def plot_feature(data):\n",
        "  sns.set(style='darkgrid')\n",
        "  f, ax = plt.subplots(figsize=(6, 15))\n",
        "  sns.barplot(x=\"counts\", y=\"feature\", data=data.sort_values(by=['counts']),\n",
        "            label=\"Feature Important\", color=\"b\")\n",
        "  plt.show()"
      ],
      "execution_count": 0,
      "outputs": []
    },
    {
      "cell_type": "code",
      "metadata": {
        "id": "dr91MVlrh2rr",
        "colab_type": "code",
        "colab": {
          "base_uri": "https://localhost:8080/",
          "height": 163
        },
        "outputId": "5b850aef-d551-44c3-b3df-b2b631671b6a"
      },
      "source": [
        "data=pd.DataFrame({\"feature\":X_train.columns,\"counts\":model_trained.feature_importance()},columns=[\"feature\",\"counts\"])"
      ],
      "execution_count": 305,
      "outputs": [
        {
          "output_type": "error",
          "ename": "AttributeError",
          "evalue": "ignored",
          "traceback": [
            "\u001b[0;31m---------------------------------------------------------------------------\u001b[0m",
            "\u001b[0;31mAttributeError\u001b[0m                            Traceback (most recent call last)",
            "\u001b[0;32m<ipython-input-305-794f9f91ac46>\u001b[0m in \u001b[0;36m<module>\u001b[0;34m()\u001b[0m\n\u001b[0;32m----> 1\u001b[0;31m \u001b[0mdata\u001b[0m\u001b[0;34m=\u001b[0m\u001b[0mpd\u001b[0m\u001b[0;34m.\u001b[0m\u001b[0mDataFrame\u001b[0m\u001b[0;34m(\u001b[0m\u001b[0;34m{\u001b[0m\u001b[0;34m\"feature\"\u001b[0m\u001b[0;34m:\u001b[0m\u001b[0mX_train\u001b[0m\u001b[0;34m.\u001b[0m\u001b[0mcolumns\u001b[0m\u001b[0;34m,\u001b[0m\u001b[0;34m\"counts\"\u001b[0m\u001b[0;34m:\u001b[0m\u001b[0mmodel_trained\u001b[0m\u001b[0;34m.\u001b[0m\u001b[0mfeature_importance\u001b[0m\u001b[0;34m(\u001b[0m\u001b[0;34m)\u001b[0m\u001b[0;34m}\u001b[0m\u001b[0;34m,\u001b[0m\u001b[0mcolumns\u001b[0m\u001b[0;34m=\u001b[0m\u001b[0;34m[\u001b[0m\u001b[0;34m\"feature\"\u001b[0m\u001b[0;34m,\u001b[0m\u001b[0;34m\"counts\"\u001b[0m\u001b[0;34m]\u001b[0m\u001b[0;34m)\u001b[0m\u001b[0;34m\u001b[0m\u001b[0;34m\u001b[0m\u001b[0m\n\u001b[0m",
            "\u001b[0;31mAttributeError\u001b[0m: 'LGBMClassifier' object has no attribute 'feature_importance'"
          ]
        }
      ]
    },
    {
      "cell_type": "code",
      "metadata": {
        "id": "ehzF6Qw6h6W8",
        "colab_type": "code",
        "colab": {
          "base_uri": "https://localhost:8080/",
          "height": 883
        },
        "outputId": "5bb9b483-e981-4732-b155-4d8803557c5d"
      },
      "source": [
        "plot_feature(data)"
      ],
      "execution_count": 306,
      "outputs": [
        {
          "output_type": "display_data",
          "data": {
            "image/png": "[encoded data removed]",
            "text/plain": [
              "<Figure size 432x1080 with 1 Axes>"
            ]
          },
          "metadata": {
            "tags": []
          }
        }
      ]
    },
    {
      "cell_type": "code",
      "metadata": {
        "id": "U6hCAjtjh9G2",
        "colab_type": "code",
        "colab": {
          "base_uri": "https://localhost:8080/",
          "height": 34
        },
        "outputId": "32a8d44b-4c2e-42bc-f315-7c02ce0dd60c"
      },
      "source": [
        "y_pred2 = grid2.best_estimator_.predict(X_test)\n",
        "y_pred2"
      ],
      "execution_count": 308,
      "outputs": [
        {
          "output_type": "execute_result",
          "data": {
            "text/plain": [
              "array([0, 0, 1, ..., 0, 0, 0], dtype=int32)"
            ]
          },
          "metadata": {
            "tags": []
          },
          "execution_count": 308
        }
      ]
    },
    {
      "cell_type": "code",
      "metadata": {
        "id": "N9MGI22ljJua",
        "colab_type": "code",
        "colab": {}
      },
      "source": [
        "# y_pred2 = np.where(y_pred2>0.5, 1, 0)"
      ],
      "execution_count": 0,
      "outputs": []
    },
    {
      "cell_type": "code",
      "metadata": {
        "id": "-szwwUJNsUN8",
        "colab_type": "code",
        "colab": {
          "base_uri": "https://localhost:8080/",
          "height": 68
        },
        "outputId": "53b1de56-152d-4b14-fb2a-771f12e10ea0"
      },
      "source": [
        "print(f1_score(y_test, y_pred2, average='micro'))\n",
        "print(f1_score(y_test, y_pred2, average='macro'))\n",
        "print(f1_score(y_test, y_pred2, average='weighted'))"
      ],
      "execution_count": 310,
      "outputs": [
        {
          "output_type": "stream",
          "text": [
            "0.825\n",
            "0.6937993456176094\n",
            "0.8052071578048207\n"
          ],
          "name": "stdout"
        }
      ]
    },
    {
      "cell_type": "code",
      "metadata": {
        "id": "SzCz9S54iiO0",
        "colab_type": "code",
        "colab": {
          "base_uri": "https://localhost:8080/",
          "height": 68
        },
        "outputId": "a46b9b2d-4f3f-4bb6-b4ee-58c04959d74c"
      },
      "source": [
        "print(f1_score(y_test, y_pred2, average='micro'))\n",
        "print(f1_score(y_test, y_pred2, average='macro'))\n",
        "print(f1_score(y_test, y_pred2, average='weighted'))"
      ],
      "execution_count": 167,
      "outputs": [
        {
          "output_type": "stream",
          "text": [
            "0.818\n",
            "0.683421001363725\n",
            "0.7955701668939543\n"
          ],
          "name": "stdout"
        }
      ]
    },
    {
      "cell_type": "code",
      "metadata": {
        "id": "e9eqwbmHk__x",
        "colab_type": "code",
        "colab": {
          "base_uri": "https://localhost:8080/",
          "height": 241
        },
        "outputId": "4d784afa-0b44-48ff-c159-e8b67e68e660"
      },
      "source": [
        "test_processed.head()"
      ],
      "execution_count": 311,
      "outputs": [
        {
          "output_type": "execute_result",
          "data": {
            "text/html": [
              "<div>\n",
              "<style scoped>\n",
              "    .dataframe tbody tr th:only-of-type {\n",
              "        vertical-align: middle;\n",
              "    }\n",
              "\n",
              "    .dataframe tbody tr th {\n",
              "        vertical-align: top;\n",
              "    }\n",
              "\n",
              "    .dataframe thead th {\n",
              "        text-align: right;\n",
              "    }\n",
              "</style>\n",
              "<table border=\"1\" class=\"dataframe\">\n",
              "  <thead>\n",
              "    <tr style=\"text-align: right;\">\n",
              "      <th></th>\n",
              "      <th>Client_ID</th>\n",
              "      <th>DUE_AMT_AUG</th>\n",
              "      <th>DUE_AMT_DEC</th>\n",
              "      <th>DUE_AMT_JULY</th>\n",
              "      <th>DUE_AMT_NOV</th>\n",
              "      <th>DUE_AMT_OCT</th>\n",
              "      <th>DUE_AMT_SEP</th>\n",
              "      <th>NEXT_MONTH_DEFAULT</th>\n",
              "      <th>PAID_AMT_AUG</th>\n",
              "      <th>PAID_AMT_DEC</th>\n",
              "      <th>PAID_AMT_JULY</th>\n",
              "      <th>PAID_AMT_NOV</th>\n",
              "      <th>PAID_AMT_OCT</th>\n",
              "      <th>PAID_AMT_SEP</th>\n",
              "      <th>PAY_AUG</th>\n",
              "      <th>PAY_DEC</th>\n",
              "      <th>PAY_JULY</th>\n",
              "      <th>PAY_NOV</th>\n",
              "      <th>PAY_OCT</th>\n",
              "      <th>PAY_SEP</th>\n",
              "      <th>delayed_months</th>\n",
              "      <th>Balance_Limit_V1_1.5M</th>\n",
              "      <th>Balance_Limit_V1_100K</th>\n",
              "      <th>Balance_Limit_V1_1M</th>\n",
              "      <th>Balance_Limit_V1_2.5M</th>\n",
              "      <th>Balance_Limit_V1_200K</th>\n",
              "      <th>Balance_Limit_V1_300K</th>\n",
              "      <th>Balance_Limit_V1_400K</th>\n",
              "      <th>Gender_M</th>\n",
              "      <th>EDUCATION_STATUS_High School</th>\n",
              "      <th>EDUCATION_STATUS_Other</th>\n",
              "      <th>MARITAL_STATUS_Single</th>\n",
              "      <th>AGE_46-65</th>\n",
              "      <th>AGE_Less than 30</th>\n",
              "      <th>AGE_More than 65</th>\n",
              "    </tr>\n",
              "  </thead>\n",
              "  <tbody>\n",
              "    <tr>\n",
              "      <th>0</th>\n",
              "      <td>A20170</td>\n",
              "      <td>-0.70</td>\n",
              "      <td>-0.24</td>\n",
              "      <td>-0.56</td>\n",
              "      <td>-0.54</td>\n",
              "      <td>-0.43</td>\n",
              "      <td>-0.86</td>\n",
              "      <td>nan</td>\n",
              "      <td>0.00</td>\n",
              "      <td>0.01</td>\n",
              "      <td>0.01</td>\n",
              "      <td>0.02</td>\n",
              "      <td>0.04</td>\n",
              "      <td>0.09</td>\n",
              "      <td>0</td>\n",
              "      <td>0</td>\n",
              "      <td>0</td>\n",
              "      <td>0</td>\n",
              "      <td>0</td>\n",
              "      <td>0</td>\n",
              "      <td>0</td>\n",
              "      <td>0</td>\n",
              "      <td>0</td>\n",
              "      <td>0</td>\n",
              "      <td>0</td>\n",
              "      <td>0</td>\n",
              "      <td>0</td>\n",
              "      <td>0</td>\n",
              "      <td>1</td>\n",
              "      <td>0</td>\n",
              "      <td>1</td>\n",
              "      <td>1</td>\n",
              "      <td>0</td>\n",
              "      <td>0</td>\n",
              "      <td>0</td>\n",
              "    </tr>\n",
              "    <tr>\n",
              "      <th>1</th>\n",
              "      <td>A16887</td>\n",
              "      <td>-0.79</td>\n",
              "      <td>-0.41</td>\n",
              "      <td>-0.64</td>\n",
              "      <td>-0.76</td>\n",
              "      <td>-0.60</td>\n",
              "      <td>-0.88</td>\n",
              "      <td>nan</td>\n",
              "      <td>0.00</td>\n",
              "      <td>0.00</td>\n",
              "      <td>0.00</td>\n",
              "      <td>0.00</td>\n",
              "      <td>0.00</td>\n",
              "      <td>0.00</td>\n",
              "      <td>0</td>\n",
              "      <td>0</td>\n",
              "      <td>0</td>\n",
              "      <td>0</td>\n",
              "      <td>0</td>\n",
              "      <td>0</td>\n",
              "      <td>0</td>\n",
              "      <td>0</td>\n",
              "      <td>0</td>\n",
              "      <td>0</td>\n",
              "      <td>0</td>\n",
              "      <td>1</td>\n",
              "      <td>0</td>\n",
              "      <td>0</td>\n",
              "      <td>0</td>\n",
              "      <td>0</td>\n",
              "      <td>1</td>\n",
              "      <td>1</td>\n",
              "      <td>0</td>\n",
              "      <td>0</td>\n",
              "      <td>0</td>\n",
              "    </tr>\n",
              "    <tr>\n",
              "      <th>2</th>\n",
              "      <td>A3430</td>\n",
              "      <td>-0.86</td>\n",
              "      <td>-0.48</td>\n",
              "      <td>-0.70</td>\n",
              "      <td>-0.83</td>\n",
              "      <td>-0.67</td>\n",
              "      <td>-0.92</td>\n",
              "      <td>nan</td>\n",
              "      <td>0.00</td>\n",
              "      <td>0.03</td>\n",
              "      <td>0.00</td>\n",
              "      <td>0.00</td>\n",
              "      <td>0.00</td>\n",
              "      <td>0.00</td>\n",
              "      <td>0</td>\n",
              "      <td>0</td>\n",
              "      <td>0</td>\n",
              "      <td>0</td>\n",
              "      <td>0</td>\n",
              "      <td>2</td>\n",
              "      <td>2</td>\n",
              "      <td>0</td>\n",
              "      <td>0</td>\n",
              "      <td>0</td>\n",
              "      <td>0</td>\n",
              "      <td>0</td>\n",
              "      <td>0</td>\n",
              "      <td>1</td>\n",
              "      <td>1</td>\n",
              "      <td>0</td>\n",
              "      <td>1</td>\n",
              "      <td>0</td>\n",
              "      <td>0</td>\n",
              "      <td>1</td>\n",
              "      <td>0</td>\n",
              "    </tr>\n",
              "    <tr>\n",
              "      <th>3</th>\n",
              "      <td>A3696</td>\n",
              "      <td>-0.86</td>\n",
              "      <td>-0.48</td>\n",
              "      <td>-0.71</td>\n",
              "      <td>-0.84</td>\n",
              "      <td>-0.68</td>\n",
              "      <td>-0.93</td>\n",
              "      <td>nan</td>\n",
              "      <td>0.00</td>\n",
              "      <td>0.00</td>\n",
              "      <td>0.00</td>\n",
              "      <td>0.00</td>\n",
              "      <td>0.00</td>\n",
              "      <td>0.00</td>\n",
              "      <td>0</td>\n",
              "      <td>0</td>\n",
              "      <td>1</td>\n",
              "      <td>0</td>\n",
              "      <td>0</td>\n",
              "      <td>0</td>\n",
              "      <td>1</td>\n",
              "      <td>1</td>\n",
              "      <td>0</td>\n",
              "      <td>0</td>\n",
              "      <td>0</td>\n",
              "      <td>0</td>\n",
              "      <td>0</td>\n",
              "      <td>0</td>\n",
              "      <td>1</td>\n",
              "      <td>0</td>\n",
              "      <td>0</td>\n",
              "      <td>1</td>\n",
              "      <td>0</td>\n",
              "      <td>0</td>\n",
              "      <td>0</td>\n",
              "    </tr>\n",
              "    <tr>\n",
              "      <th>4</th>\n",
              "      <td>A20474</td>\n",
              "      <td>-0.87</td>\n",
              "      <td>-0.48</td>\n",
              "      <td>-0.64</td>\n",
              "      <td>-0.84</td>\n",
              "      <td>-0.68</td>\n",
              "      <td>-0.93</td>\n",
              "      <td>nan</td>\n",
              "      <td>0.00</td>\n",
              "      <td>0.00</td>\n",
              "      <td>0.00</td>\n",
              "      <td>0.00</td>\n",
              "      <td>0.00</td>\n",
              "      <td>0.00</td>\n",
              "      <td>0</td>\n",
              "      <td>0</td>\n",
              "      <td>0</td>\n",
              "      <td>0</td>\n",
              "      <td>0</td>\n",
              "      <td>0</td>\n",
              "      <td>0</td>\n",
              "      <td>0</td>\n",
              "      <td>1</td>\n",
              "      <td>0</td>\n",
              "      <td>0</td>\n",
              "      <td>0</td>\n",
              "      <td>0</td>\n",
              "      <td>0</td>\n",
              "      <td>0</td>\n",
              "      <td>1</td>\n",
              "      <td>0</td>\n",
              "      <td>0</td>\n",
              "      <td>0</td>\n",
              "      <td>1</td>\n",
              "      <td>0</td>\n",
              "    </tr>\n",
              "  </tbody>\n",
              "</table>\n",
              "</div>"
            ],
            "text/plain": [
              "  Client_ID  DUE_AMT_AUG  ...  AGE_Less than 30  AGE_More than 65\n",
              "0    A20170        -0.70  ...                 0                 0\n",
              "1    A16887        -0.79  ...                 0                 0\n",
              "2     A3430        -0.86  ...                 1                 0\n",
              "3     A3696        -0.86  ...                 0                 0\n",
              "4    A20474        -0.87  ...                 1                 0\n",
              "\n",
              "[5 rows x 35 columns]"
            ]
          },
          "metadata": {
            "tags": []
          },
          "execution_count": 311
        }
      ]
    },
    {
      "cell_type": "code",
      "metadata": {
        "id": "07kskxfwDEsc",
        "colab_type": "code",
        "colab": {}
      },
      "source": [
        "test_processed_clinet=test_processed['Client_ID']"
      ],
      "execution_count": 0,
      "outputs": []
    },
    {
      "cell_type": "code",
      "metadata": {
        "id": "KC_SVVWwDTa4",
        "colab_type": "code",
        "colab": {}
      },
      "source": [
        "test_data=test_processed.drop(columns=['Client_ID','NEXT_MONTH_DEFAULT'])"
      ],
      "execution_count": 0,
      "outputs": []
    },
    {
      "cell_type": "code",
      "metadata": {
        "id": "hZl2KM52DgRP",
        "colab_type": "code",
        "colab": {
          "base_uri": "https://localhost:8080/",
          "height": 34
        },
        "outputId": "3180bf32-5d73-4c47-e964-c4959136d4cd"
      },
      "source": [
        "X_train.shape"
      ],
      "execution_count": 315,
      "outputs": [
        {
          "output_type": "execute_result",
          "data": {
            "text/plain": [
              "(19200, 33)"
            ]
          },
          "metadata": {
            "tags": []
          },
          "execution_count": 315
        }
      ]
    },
    {
      "cell_type": "code",
      "metadata": {
        "id": "fTEeJ3OHDj5x",
        "colab_type": "code",
        "colab": {}
      },
      "source": [
        "y_pred_test = grid2.best_estimator_.predict(test_data)"
      ],
      "execution_count": 0,
      "outputs": []
    },
    {
      "cell_type": "code",
      "metadata": {
        "id": "ENMtk-HEDt8f",
        "colab_type": "code",
        "colab": {}
      },
      "source": [
        "test_processed_clinet = test_processed_clinet.to_numpy()"
      ],
      "execution_count": 0,
      "outputs": []
    },
    {
      "cell_type": "code",
      "metadata": {
        "id": "69kdzzx2Ep7D",
        "colab_type": "code",
        "colab": {}
      },
      "source": [
        "data = {'Client_ID': test_processed_clinet, 'NEXT_MONTH_DEFAULT': y_pred_test}"
      ],
      "execution_count": 0,
      "outputs": []
    },
    {
      "cell_type": "code",
      "metadata": {
        "id": "vp4Tj2CrD2pu",
        "colab_type": "code",
        "colab": {
          "base_uri": "https://localhost:8080/",
          "height": 204
        },
        "outputId": "11b8f2e0-1fd8-4802-9a1d-39b8ff8e1565"
      },
      "source": [
        "results = pd.DataFrame(data)\n",
        "results.head()"
      ],
      "execution_count": 323,
      "outputs": [
        {
          "output_type": "execute_result",
          "data": {
            "text/html": [
              "<div>\n",
              "<style scoped>\n",
              "    .dataframe tbody tr th:only-of-type {\n",
              "        vertical-align: middle;\n",
              "    }\n",
              "\n",
              "    .dataframe tbody tr th {\n",
              "        vertical-align: top;\n",
              "    }\n",
              "\n",
              "    .dataframe thead th {\n",
              "        text-align: right;\n",
              "    }\n",
              "</style>\n",
              "<table border=\"1\" class=\"dataframe\">\n",
              "  <thead>\n",
              "    <tr style=\"text-align: right;\">\n",
              "      <th></th>\n",
              "      <th>Client_ID</th>\n",
              "      <th>NEXT_MONTH_DEFAULT</th>\n",
              "    </tr>\n",
              "  </thead>\n",
              "  <tbody>\n",
              "    <tr>\n",
              "      <th>0</th>\n",
              "      <td>A20170</td>\n",
              "      <td>0</td>\n",
              "    </tr>\n",
              "    <tr>\n",
              "      <th>1</th>\n",
              "      <td>A16887</td>\n",
              "      <td>0</td>\n",
              "    </tr>\n",
              "    <tr>\n",
              "      <th>2</th>\n",
              "      <td>A3430</td>\n",
              "      <td>0</td>\n",
              "    </tr>\n",
              "    <tr>\n",
              "      <th>3</th>\n",
              "      <td>A3696</td>\n",
              "      <td>0</td>\n",
              "    </tr>\n",
              "    <tr>\n",
              "      <th>4</th>\n",
              "      <td>A20474</td>\n",
              "      <td>0</td>\n",
              "    </tr>\n",
              "  </tbody>\n",
              "</table>\n",
              "</div>"
            ],
            "text/plain": [
              "  Client_ID  NEXT_MONTH_DEFAULT\n",
              "0    A20170                   0\n",
              "1    A16887                   0\n",
              "2     A3430                   0\n",
              "3     A3696                   0\n",
              "4    A20474                   0"
            ]
          },
          "metadata": {
            "tags": []
          },
          "execution_count": 323
        }
      ]
    },
    {
      "cell_type": "code",
      "metadata": {
        "id": "m9TjP1nHFVrg",
        "colab_type": "code",
        "colab": {}
      },
      "source": [
        "results.to_csv(\"results.csv\", index=False)"
      ],
      "execution_count": 0,
      "outputs": []
    },
    {
      "cell_type": "code",
      "metadata": {
        "id": "EMchK78fFd90",
        "colab_type": "code",
        "colab": {}
      },
      "source": [
        ""
      ],
      "execution_count": 0,
      "outputs": []
    }
  ]
}